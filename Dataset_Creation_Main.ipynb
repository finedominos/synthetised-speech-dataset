{
  "nbformat": 4,
  "nbformat_minor": 0,
  "metadata": {
    "colab": {
      "name": "Dataset Creation - Main.ipynb",
      "provenance": [],
      "collapsed_sections": [
        "5qDA1kgEwqy5",
        "M_0CS_FMqGPj"
      ],
      "include_colab_link": true
    },
    "kernelspec": {
      "name": "python3",
      "display_name": "Python 3"
    },
    "language_info": {
      "name": "python"
    },
    "widgets": {
      "application/vnd.jupyter.widget-state+json": {
        "7a5c3753e1d8407da7922fcebaa95329": {
          "model_module": "@jupyter-widgets/controls",
          "model_name": "HBoxModel",
          "state": {
            "_view_name": "HBoxView",
            "_dom_classes": [],
            "_model_name": "HBoxModel",
            "_view_module": "@jupyter-widgets/controls",
            "_model_module_version": "1.5.0",
            "_view_count": null,
            "_view_module_version": "1.5.0",
            "box_style": "",
            "layout": "IPY_MODEL_4127b6b441b34919950a1ffe49a76995",
            "_model_module": "@jupyter-widgets/controls",
            "children": [
              "IPY_MODEL_366d02f4548843598e1631e87617895b",
              "IPY_MODEL_3a09f24afa714170bf121b090e7b52e8"
            ]
          }
        },
        "4127b6b441b34919950a1ffe49a76995": {
          "model_module": "@jupyter-widgets/base",
          "model_name": "LayoutModel",
          "state": {
            "_view_name": "LayoutView",
            "grid_template_rows": null,
            "right": null,
            "justify_content": null,
            "_view_module": "@jupyter-widgets/base",
            "overflow": null,
            "_model_module_version": "1.2.0",
            "_view_count": null,
            "flex_flow": null,
            "width": null,
            "min_width": null,
            "border": null,
            "align_items": null,
            "bottom": null,
            "_model_module": "@jupyter-widgets/base",
            "top": null,
            "grid_column": null,
            "overflow_y": null,
            "overflow_x": null,
            "grid_auto_flow": null,
            "grid_area": null,
            "grid_template_columns": null,
            "flex": null,
            "_model_name": "LayoutModel",
            "justify_items": null,
            "grid_row": null,
            "max_height": null,
            "align_content": null,
            "visibility": null,
            "align_self": null,
            "height": null,
            "min_height": null,
            "padding": null,
            "grid_auto_rows": null,
            "grid_gap": null,
            "max_width": null,
            "order": null,
            "_view_module_version": "1.2.0",
            "grid_template_areas": null,
            "object_position": null,
            "object_fit": null,
            "grid_auto_columns": null,
            "margin": null,
            "display": null,
            "left": null
          }
        },
        "366d02f4548843598e1631e87617895b": {
          "model_module": "@jupyter-widgets/controls",
          "model_name": "FloatProgressModel",
          "state": {
            "_view_name": "ProgressView",
            "style": "IPY_MODEL_34f5041415754ae1a50f959f8745cd25",
            "_dom_classes": [],
            "description": "100%",
            "_model_name": "FloatProgressModel",
            "bar_style": "success",
            "max": 5323,
            "_view_module": "@jupyter-widgets/controls",
            "_model_module_version": "1.5.0",
            "value": 5323,
            "_view_count": null,
            "_view_module_version": "1.5.0",
            "orientation": "horizontal",
            "min": 0,
            "description_tooltip": null,
            "_model_module": "@jupyter-widgets/controls",
            "layout": "IPY_MODEL_fb356743e13d4bfcba9cb57da422c4c5"
          }
        },
        "3a09f24afa714170bf121b090e7b52e8": {
          "model_module": "@jupyter-widgets/controls",
          "model_name": "HTMLModel",
          "state": {
            "_view_name": "HTMLView",
            "style": "IPY_MODEL_e5033a5bfefc4352b1d5e5442f86e4e4",
            "_dom_classes": [],
            "description": "",
            "_model_name": "HTMLModel",
            "placeholder": "​",
            "_view_module": "@jupyter-widgets/controls",
            "_model_module_version": "1.5.0",
            "value": " 5323/5323 [1:19:16&lt;00:00,  1.12it/s]",
            "_view_count": null,
            "_view_module_version": "1.5.0",
            "description_tooltip": null,
            "_model_module": "@jupyter-widgets/controls",
            "layout": "IPY_MODEL_eeeab973c9164c84babd10a04046c7c1"
          }
        },
        "34f5041415754ae1a50f959f8745cd25": {
          "model_module": "@jupyter-widgets/controls",
          "model_name": "ProgressStyleModel",
          "state": {
            "_view_name": "StyleView",
            "_model_name": "ProgressStyleModel",
            "description_width": "initial",
            "_view_module": "@jupyter-widgets/base",
            "_model_module_version": "1.5.0",
            "_view_count": null,
            "_view_module_version": "1.2.0",
            "bar_color": null,
            "_model_module": "@jupyter-widgets/controls"
          }
        },
        "fb356743e13d4bfcba9cb57da422c4c5": {
          "model_module": "@jupyter-widgets/base",
          "model_name": "LayoutModel",
          "state": {
            "_view_name": "LayoutView",
            "grid_template_rows": null,
            "right": null,
            "justify_content": null,
            "_view_module": "@jupyter-widgets/base",
            "overflow": null,
            "_model_module_version": "1.2.0",
            "_view_count": null,
            "flex_flow": null,
            "width": null,
            "min_width": null,
            "border": null,
            "align_items": null,
            "bottom": null,
            "_model_module": "@jupyter-widgets/base",
            "top": null,
            "grid_column": null,
            "overflow_y": null,
            "overflow_x": null,
            "grid_auto_flow": null,
            "grid_area": null,
            "grid_template_columns": null,
            "flex": null,
            "_model_name": "LayoutModel",
            "justify_items": null,
            "grid_row": null,
            "max_height": null,
            "align_content": null,
            "visibility": null,
            "align_self": null,
            "height": null,
            "min_height": null,
            "padding": null,
            "grid_auto_rows": null,
            "grid_gap": null,
            "max_width": null,
            "order": null,
            "_view_module_version": "1.2.0",
            "grid_template_areas": null,
            "object_position": null,
            "object_fit": null,
            "grid_auto_columns": null,
            "margin": null,
            "display": null,
            "left": null
          }
        },
        "e5033a5bfefc4352b1d5e5442f86e4e4": {
          "model_module": "@jupyter-widgets/controls",
          "model_name": "DescriptionStyleModel",
          "state": {
            "_view_name": "StyleView",
            "_model_name": "DescriptionStyleModel",
            "description_width": "",
            "_view_module": "@jupyter-widgets/base",
            "_model_module_version": "1.5.0",
            "_view_count": null,
            "_view_module_version": "1.2.0",
            "_model_module": "@jupyter-widgets/controls"
          }
        },
        "eeeab973c9164c84babd10a04046c7c1": {
          "model_module": "@jupyter-widgets/base",
          "model_name": "LayoutModel",
          "state": {
            "_view_name": "LayoutView",
            "grid_template_rows": null,
            "right": null,
            "justify_content": null,
            "_view_module": "@jupyter-widgets/base",
            "overflow": null,
            "_model_module_version": "1.2.0",
            "_view_count": null,
            "flex_flow": null,
            "width": null,
            "min_width": null,
            "border": null,
            "align_items": null,
            "bottom": null,
            "_model_module": "@jupyter-widgets/base",
            "top": null,
            "grid_column": null,
            "overflow_y": null,
            "overflow_x": null,
            "grid_auto_flow": null,
            "grid_area": null,
            "grid_template_columns": null,
            "flex": null,
            "_model_name": "LayoutModel",
            "justify_items": null,
            "grid_row": null,
            "max_height": null,
            "align_content": null,
            "visibility": null,
            "align_self": null,
            "height": null,
            "min_height": null,
            "padding": null,
            "grid_auto_rows": null,
            "grid_gap": null,
            "max_width": null,
            "order": null,
            "_view_module_version": "1.2.0",
            "grid_template_areas": null,
            "object_position": null,
            "object_fit": null,
            "grid_auto_columns": null,
            "margin": null,
            "display": null,
            "left": null
          }
        }
      }
    }
  },
  "cells": [
    {
      "cell_type": "markdown",
      "metadata": {
        "id": "view-in-github",
        "colab_type": "text"
      },
      "source": [
        "<a href=\"https://colab.research.google.com/github/finedominos/synthetised-speech-dataset/blob/master/Dataset_Creation_Main.ipynb\" target=\"_parent\"><img src=\"https://colab.research.google.com/assets/colab-badge.svg\" alt=\"Open In Colab\"/></a>"
      ]
    },
    {
      "cell_type": "markdown",
      "metadata": {
        "id": "JD-74ycZBifb"
      },
      "source": [
        "# Creation of a relevant subset of sentences from the LibriSpeech corpus of books\n",
        "#### *This subset will then be inputted to some TTS tools to populate the target dataset of synthesized speech*"
      ]
    },
    {
      "cell_type": "markdown",
      "metadata": {
        "id": "QqzrM-agB-tG"
      },
      "source": [
        "Starting from the \"clean\" subset of LibriSpeech corpus of audiobooks, we extract and analyse the textual sentences and the corresponding audio files in order to finally draw a subset of sentences that will then be used as an input to the chosen TTS tools, with the goal of creating a synthesized speech dataset.\n",
        "\n",
        "The principal output of this notebook is a JSON file containing the aforementioned subset of sentences that will be used in both other notebooks of this project: *Dataset Evaluation - Main* and *Reccurent error word and PER*\n",
        "\n",
        "More information on LibriSpeech can be found in this article: \n",
        "https://ieeexplore.ieee.org/document/7178964?source=post_page---------------------------"
      ]
    },
    {
      "cell_type": "markdown",
      "metadata": {
        "id": "5qDA1kgEwqy5"
      },
      "source": [
        "# Importing libraries and Librispeech dataset"
      ]
    },
    {
      "cell_type": "code",
      "metadata": {
        "id": "bBwrIQKUSsXm"
      },
      "source": [
        "import numpy as np\n",
        "from pathlib import Path\n",
        "import random\n",
        "import shutil\n",
        "import IPython\n",
        "import os\n",
        "import IPython.display as ipd\n",
        "import matplotlib.pyplot as plt\n",
        "import tqdm.notebook as tq\n",
        "import requests\n",
        "import json\n",
        "import pandas as pd"
      ],
      "execution_count": 1,
      "outputs": []
    },
    {
      "cell_type": "code",
      "metadata": {
        "id": "MNJNFpQSoLo2"
      },
      "source": [
        "# variable to choose if we import the test-clean set as well\n",
        "import_test_clean = True"
      ],
      "execution_count": 2,
      "outputs": []
    },
    {
      "cell_type": "code",
      "metadata": {
        "id": "lpXh5mu-VL9E",
        "colab": {
          "base_uri": "https://localhost:8080/"
        },
        "outputId": "eebeaf15-d45e-4fb6-d6ff-b25b67993501"
      },
      "source": [
        "import tarfile\n",
        "if not os.path.isdir(\"LibriSpeech\"):\n",
        "  # Getting the .tar.gz file from LibriSpeech (\"dev-clean\" set from https://www.openslr.org/12)\n",
        "  !wget https://www.openslr.org/resources/12/dev-clean.tar.gz\n",
        "  tar = tarfile.open(\"dev-clean.tar.gz\")\n",
        "  tar.extractall()\n",
        "  tar.close()\n",
        "  !rm dev-clean.tar.gz\n",
        "\n",
        "  if import_test_clean: # getting the test subset\n",
        "    !wget https://www.openslr.org/resources/12/test-clean.tar.gz\n",
        "    tar_test = tarfile.open(\"test-clean.tar.gz\")\n",
        "    tar_test.extractall()\n",
        "    tar_test.close()\n",
        "    !rm test-clean.tar.gz\n",
        "\n",
        "else:\n",
        "  print(\"LibriSpeech already downloaded :)\")"
      ],
      "execution_count": 3,
      "outputs": [
        {
          "output_type": "stream",
          "text": [
            "--2021-07-21 09:55:04--  https://www.openslr.org/resources/12/dev-clean.tar.gz\n",
            "Resolving www.openslr.org (www.openslr.org)... 46.101.158.64\n",
            "Connecting to www.openslr.org (www.openslr.org)|46.101.158.64|:443... connected.\n",
            "HTTP request sent, awaiting response... 200 OK\n",
            "Length: 337926286 (322M) [application/x-gzip]\n",
            "Saving to: ‘dev-clean.tar.gz’\n",
            "\n",
            "dev-clean.tar.gz    100%[===================>] 322.27M  32.3MB/s    in 11s     \n",
            "\n",
            "2021-07-21 09:55:15 (29.9 MB/s) - ‘dev-clean.tar.gz’ saved [337926286/337926286]\n",
            "\n",
            "--2021-07-21 09:55:18--  https://www.openslr.org/resources/12/test-clean.tar.gz\n",
            "Resolving www.openslr.org (www.openslr.org)... 46.101.158.64\n",
            "Connecting to www.openslr.org (www.openslr.org)|46.101.158.64|:443... connected.\n",
            "HTTP request sent, awaiting response... 200 OK\n",
            "Length: 346663984 (331M) [application/x-gzip]\n",
            "Saving to: ‘test-clean.tar.gz’\n",
            "\n",
            "test-clean.tar.gz   100%[===================>] 330.60M  32.8MB/s    in 11s     \n",
            "\n",
            "2021-07-21 09:55:29 (30.4 MB/s) - ‘test-clean.tar.gz’ saved [346663984/346663984]\n",
            "\n"
          ],
          "name": "stdout"
        }
      ]
    },
    {
      "cell_type": "markdown",
      "metadata": {
        "id": "wbydu9Sww-oi"
      },
      "source": [
        "# Functions"
      ]
    },
    {
      "cell_type": "markdown",
      "metadata": {
        "id": "iyLnuQvAIsze"
      },
      "source": [
        "## Chapters information extraction"
      ]
    },
    {
      "cell_type": "code",
      "metadata": {
        "id": "HrYKCvf3xNLY"
      },
      "source": [
        "def get_chapters_info():\n",
        "  \"\"\"\n",
        "  Reading the file CHAPTERS.TXT, in which the data is organized as:\n",
        "  ID|READER|MINUTES|SUBSET|PROJ.|BOOK ID|CH. TITLE|PROJECT TITLE (Book title)\n",
        "  Returns:\n",
        "    chapters_info: List with the information about chapters coming from the chosen subset \"dev-clean\"\n",
        "  \"\"\"\n",
        "\n",
        "\n",
        "  chapters_file = open(\"LibriSpeech/CHAPTERS.TXT\") # Open the text file containing info about all chapters\n",
        "  chapters_info_all = chapters_file.readlines()\n",
        "  chapters_info_all = chapters_info_all[14:]        # Remove the first several lines with just text (kinda readme)\n",
        "\n",
        "  # Only extracting the chapters info from the dev-clean subset\n",
        "  chapters_info = [] \n",
        "  for item in chapters_info_all:\n",
        "    subset = item.split(\"| \")[3]\n",
        "    if \"dev-clean\" in subset: # Not using equivallence (==) because of spaces in the string\n",
        "      chapters_info.append(item)\n",
        "\n",
        "  if import_test_clean:\n",
        "    for item in chapters_info_all:\n",
        "      subset = item.split(\"| \")[3]\n",
        "      if \"test-clean\" in subset: # Not using equivallence (==) because of spaces in the string\n",
        "        chapters_info.append(item)\n",
        "\n",
        "\n",
        "  #print(\"Number of chapters in the whole LibriSpeech dataset:\", len(chapters_info_all))\n",
        "  print(\"Number of chapters in the chosen subset of chapters 'dev-clean' and 'test-clean':\", len(chapters_info))\n",
        "\n",
        "  return chapters_info"
      ],
      "execution_count": 4,
      "outputs": []
    },
    {
      "cell_type": "markdown",
      "metadata": {
        "id": "Rnc8oPDqGB2Y"
      },
      "source": [
        "## Extracting the lines of text from the chapters"
      ]
    },
    {
      "cell_type": "code",
      "metadata": {
        "id": "F7N1Nu1eQ8J2"
      },
      "source": [
        "# Extract the lines from the text files of chapters\n",
        "\n",
        "def extract_lines(chaptersPaths, chaptersTable, debugModeOn=False):\n",
        "  \"\"\"\n",
        "  Extracting lines from chapters into the list content_lines (array with 2 columns):\n",
        "  The first column is with indexes (speaker-chapter-line, example \"1919-142785-0063\")\n",
        "  The second column is with strings corresponding to lines (example \"ILLUSTRATION SAGE\")\n",
        "  \"\"\"\n",
        "  \n",
        "  content_lines = []\n",
        "  chaptersIDs = list(map(int, chaptersTable[:,0])) # Extract only the list of chapter IDs\n",
        "  # print(chaptersIDs)\n",
        "\n",
        "  for i, file in enumerate(chaptersPaths):\n",
        "    chapter_id = int(file.split(\"/\")[3])\n",
        "\n",
        "    # If the current chapter belongs to the list of considered chapters\n",
        "    if (chapter_id in chaptersIDs):\n",
        "      f = open(file, \"r\")                 # Open each file to read it\n",
        "      content = f.readlines()             # Read all lines into a list\n",
        "      for line in content:                # Iterate through each line in a list. example of line: \"1919-142785-0063 ILLUSTRATION SAGE\\n\"\n",
        "        string = line.split('\\n')[-2]     # Remove the \"\\n\" from lines\n",
        "        string = string.split(' ', 1)     # Split the string after the first space, keep both parts. example of result: ['1919-142785-0063', 'ILLUSTRATION SAGE']\n",
        "        content_lines.append(string)      # Add the extracted strings to the list of lines\n",
        "\n",
        "\n",
        "  if debugModeOn:\n",
        "    print(\"Number of lines after filtering:\", len(content_lines))\n",
        "\n",
        "  return np.asarray(content_lines)\n",
        "  "
      ],
      "execution_count": 7,
      "outputs": []
    },
    {
      "cell_type": "markdown",
      "metadata": {
        "id": "DN2sGEvRIyPO"
      },
      "source": [
        "## Books publication year extraction"
      ]
    },
    {
      "cell_type": "code",
      "metadata": {
        "id": "Z3eyb5z4xYOz"
      },
      "source": [
        "def get_publication_years(chaptersInfo, debugModeOn = False):\n",
        "  \"\"\"\n",
        "  Searching for the books' published year.\n",
        "  Going through the information about chapters from \"dev-clean\", extracting lists.\n",
        "  Parameters:\n",
        "    chaptersInfo: Extracted information about chapters\n",
        "  Returns:\n",
        "    chapters_table: The list of chapters IDs from the list chapters_info, the corresponding books' published years, and the book titles\n",
        "    books_table: The list of book titles and corresponding published years (only different books)\n",
        "  \"\"\"\n",
        "\n",
        "  chapters_table = []\n",
        "  books_table = []\n",
        "  \n",
        "  prev_book_id = None\n",
        "\n",
        "  url = r\"https://www.googleapis.com/books/v1/volumes\" # TODO: find what is this volumes in the url?\n",
        "\n",
        "  for i in range(len(chaptersInfo)):\n",
        "    chapter_id = chaptersInfo[i].split(\"| \")[0]\n",
        "    if debugModeOn:\n",
        "      print(\"Line no.\", i)\n",
        "      print(\"Chapter ID \", chapter_id)\n",
        "    book_id = chaptersInfo[i].split(\"| \")[5]\n",
        "    book_title = chaptersInfo[i].split(\"| \")[7]\n",
        "\n",
        "    # Do the query only when a new book is examined\n",
        "    # (Since several chapters refer to the same book)\n",
        "    \n",
        "    if (prev_book_id != book_id):\n",
        "      year_found = False    # For keeping track if the info about the published year is accessible\n",
        "      #print(\"New query starting for book ID: \", book_id)\n",
        "\n",
        "      # Building the query\n",
        "      book_query = \"intitle:\" + book_title\n",
        "      params = {\"q\": book_query}\n",
        "      response = requests.get(url, params = params)\n",
        "      response_dict = response.json()\n",
        "      if \"items\" in response_dict:\n",
        "        response_all_results = response_dict[\"items\"]\n",
        "  # For eventual debugging \n",
        "  #    else:\n",
        "  #      print(\"No key named items in the dictionary\")\n",
        "      \n",
        "      # Exploring all results found for the chosen book\n",
        "      \n",
        "      result_year_earliest = 2021  # The earliest found year: initialized to today\n",
        "      \n",
        "      for result in response_all_results:\n",
        "        if \"volumeInfo\" in result:\n",
        "          result_info = result[\"volumeInfo\"]\n",
        "          if \"publishedDate\" in result_info:   # If there is information about the published date\n",
        "            result_year_str = result_info[\"publishedDate\"]\n",
        "            if (result_year_str[:4].isdigit()):  # If the published date string can be converted to a digit\n",
        "              result_year = int(result_year_str[:4])\n",
        "              year_found = True\n",
        "\n",
        "              # If the currently examined book is earlier than the earliest found so far\n",
        "              if (result_year < result_year_earliest):\n",
        "                result_year_earliest = result_year\n",
        "      \n",
        "      if year_found == True: # If the published year successfully found, add it to the list of years\n",
        "        books_table.append([book_title, int(result_year_earliest)])\n",
        "                      \n",
        "\n",
        "  # For eventual debugging      \n",
        "  #          else:\n",
        "  #            print(\"The found published date is not a digit\")    \n",
        "  #        else:\n",
        "  #          print(\"No key named publishedDate in the dictionary\")        \n",
        "  #      else:\n",
        "  #        print(\"No key named volumeInfo in the dictionary\")\"\"\"\n",
        "                \n",
        "              \n",
        "    if year_found == True: # If the published year successfully found, add it to the list of years\n",
        "      chapters_table.append([chapter_id, int(result_year_earliest), book_title])\n",
        "      if debugModeOn:\n",
        "        print(\"Earliest found published year of the book '\", book_title,\"': \", result_year_earliest, \"\\n\")\n",
        "    else:\n",
        "      print(\"No info found about the published year of the book '\", book_title[:-1], \"\\n\")\n",
        "      \n",
        "    prev_book_id = book_id\n",
        "\n",
        "  chapters_table = np.asarray(chapters_table)\n",
        "  books_table = np.asarray(books_table)\n",
        "\n",
        "  for ch in chapters_table:\n",
        "    ch_title = (ch[2])[:-1]\n",
        "    ch[2] = ch_title\n",
        "    ch_id = int(ch[0])\n",
        "    ch[0] = ch_id\n",
        "\n",
        "  for b in books_table:\n",
        "    b_title = (b[0])[:-1]\n",
        "    b[0] = b_title\n",
        "  \n",
        "  if debugModeOn:\n",
        "    print(\"Number of different books in the chosen subset of chapters:\", len(books_table))\n",
        "    print(\"\\n\")\n",
        "\n",
        "  return chapters_table, books_table"
      ],
      "execution_count": 5,
      "outputs": []
    },
    {
      "cell_type": "markdown",
      "metadata": {
        "id": "fdaUqBSSyodE"
      },
      "source": [
        "## Filtering the dataset according to the published year data"
      ]
    },
    {
      "cell_type": "code",
      "metadata": {
        "id": "klHp2fVJxeoo"
      },
      "source": [
        "def filter_by_publication_year(chaptersTable, yearMin=1800, debugModeOn=False):\n",
        "  \"\"\"\n",
        "  The function filter_by_publication_year filters the dataset of chapters according to the published year data\n",
        "  Parameters:\n",
        "    chaptersTable (2D array) - the list of chapters information to be filtered (chapters ID, published year, book title)\n",
        "    yearMin - the earliest published year to consider\n",
        "    debugModeOn\n",
        "  Returns:\n",
        "    chaptersTableFilter\n",
        "  \"\"\"\n",
        "  chaptersTableFilter = []\n",
        "\n",
        "  for i in range(len(chaptersTable[:,0])):\n",
        "    if (int(chaptersTable[i,1]) > yearMin):\n",
        "      chaptersTableFilter.append(chaptersTable[i])\n",
        "    elif debugModeOn:\n",
        "      print(\"Deleted chapter with the ID no. \", chapters_table[i,0])\n",
        "        \n",
        "  print(\"\\nNumber of chapters in the original subset:\", len(chaptersTable))\n",
        "  print(\"Number of chapters in the filtered subset:\", len(chaptersTableFilter))\n",
        " \n",
        "  chaptersTableFilter = np.asarray(chaptersTableFilter)\n",
        "  \n",
        "  return chaptersTableFilter"
      ],
      "execution_count": 6,
      "outputs": []
    },
    {
      "cell_type": "markdown",
      "metadata": {
        "id": "Y7xm4qvio7M5"
      },
      "source": [
        "## Filtering sentences with non-standard words (according to NLTK)"
      ]
    },
    {
      "cell_type": "code",
      "metadata": {
        "id": "M4ETEqVnpB2I",
        "colab": {
          "base_uri": "https://localhost:8080/"
        },
        "outputId": "aa0f385e-20e1-4002-fcc1-a4587b2bdfc4"
      },
      "source": [
        "import nltk\n",
        "nltk.download('words')\n",
        "nltk.download('wordnet')\n",
        "# Basic vocabulary dictionary:\n",
        "english_vocab = set(w.upper() for w in nltk.corpus.words.words())\n",
        "\n",
        "# Lemmatizer:\n",
        "from nltk.stem.wordnet import WordNetLemmatizer\n",
        "lemmatizer = WordNetLemmatizer()\n",
        "# Adding all country names: (We estimate countries are common language)\n",
        "!pip install pycountry\n",
        "import pycountry\n",
        "countries = []\n",
        "for country in pycountry.countries:\n",
        "  countries += (country.name.upper().split(\" \")[:])\n",
        "  countries.append('ENGLAND') # Because of uk it's not in...\n",
        "\n",
        "# Other frequent common words still not in english_vocab\n",
        "other_allowed_exceptions = [\"OTHERS\", \"LONDON\", \"SYDNEY\", \"EUROPE\", 'FAVOUR', 'FAVOURABLE', 'FAVOURITE'] # what about SAVOUR, VAPOUR,... would also be an issue for speech to text, so I'd say no... but, what about americans versions... *outliers*"
      ],
      "execution_count": 8,
      "outputs": [
        {
          "output_type": "stream",
          "text": [
            "[nltk_data] Downloading package words to /root/nltk_data...\n",
            "[nltk_data]   Unzipping corpora/words.zip.\n",
            "[nltk_data] Downloading package wordnet to /root/nltk_data...\n",
            "[nltk_data]   Unzipping corpora/wordnet.zip.\n",
            "Collecting pycountry\n",
            "  Downloading pycountry-20.7.3.tar.gz (10.1 MB)\n",
            "\u001b[K     |████████████████████████████████| 10.1 MB 39.3 MB/s \n",
            "\u001b[?25hBuilding wheels for collected packages: pycountry\n",
            "  Building wheel for pycountry (setup.py) ... \u001b[?25l\u001b[?25hdone\n",
            "  Created wheel for pycountry: filename=pycountry-20.7.3-py2.py3-none-any.whl size=10746883 sha256=813b6251a59262b3fb88c326b0345a77306952282a6618c873613ed7a5b41475\n",
            "  Stored in directory: /root/.cache/pip/wheels/57/e8/3f/120ccc1ff7541c108bc5d656e2a14c39da0d824653b62284c6\n",
            "Successfully built pycountry\n",
            "Installing collected packages: pycountry\n",
            "Successfully installed pycountry-20.7.3\n"
          ],
          "name": "stdout"
        }
      ]
    },
    {
      "cell_type": "markdown",
      "metadata": {
        "id": "M_0CS_FMqGPj"
      },
      "source": [
        "### Dictionary of contractions"
      ]
    },
    {
      "cell_type": "code",
      "metadata": {
        "id": "LDcgbIscpB8G"
      },
      "source": [
        "contractions_dict = { \n",
        "# \"ain't\": \"am not / are not / is not / has not / have not\",\n",
        "\"aren't\": \"are not / am not\",\n",
        "\"can't\": \"cannot\",\n",
        "# \"can't've\": \"cannot have\",\n",
        "# \"'cause\": \"because\",\n",
        "\"could've\": \"could have\",\n",
        "\"couldn't\": \"could not\",\n",
        "# \"couldn't've\": \"could not have\",\n",
        "\"didn't\": \"did not\",\n",
        "\"doesn't\": \"does not\",\n",
        "\"don't\": \"do not\",\n",
        "\"hadn't\": \"had not\",\n",
        "# \"hadn't've\": \"had not have\",\n",
        "\"hasn't\": \"has not\",\n",
        "\"haven't\": \"have not\",\n",
        "\"he'd\": \"he had / he would\",\n",
        "# \"he'd've\": \"he would have\",\n",
        "\"he'll\": \"he shall / he will\",\n",
        "# \"he'll've\": \"he shall have / he will have\",\n",
        "\"he's\": \"he has / he is\",\n",
        "# \"how'd\": \"how did\",\n",
        "# \"how'd'y\": \"how do you\",\n",
        "# \"how'll\": \"how will\",\n",
        "\"how's\": \"how has / how is / how does\",\n",
        "\"I'd\": \"I had / I would\",\n",
        "# \"I'd've\": \"I would have\",\n",
        "\"I'll\": \"I shall / I will\",\n",
        "# \"I'll've\": \"I shall have / I will have\",\n",
        "\"I'm\": \"I am\",\n",
        "\"I've\": \"I have\",\n",
        "\"isn't\": \"is not\",\n",
        "\"it'd\": \"it had / it would\",\n",
        "# \"it'd've\": \"it would have\",\n",
        "\"it'll\": \"it shall / it will\",\n",
        "# \"it'll've\": \"it shall have / it will have\",\n",
        "\"it's\": \"it has / it is\",\n",
        "\"let's\": \"let us\",\n",
        "# \"ma'am\": \"madam\",\n",
        "# \"mayn't\": \"may not\",\n",
        "# \"might've\": \"might have\",\n",
        "# \"mightn't\": \"might not\",\n",
        "# \"mightn't've\": \"might not have\",\n",
        "# \"must've\": \"must have\",\n",
        "\"mustn't\": \"must not\",\n",
        "# \"mustn't've\": \"must not have\",\n",
        "# \"needn't\": \"need not\",\n",
        "# \"needn't've\": \"need not have\",\n",
        "\"o'clock\": \"of the clock\",\n",
        "# \"oughtn't\": \"ought not\",\n",
        "# \"oughtn't've\": \"ought not have\",\n",
        "# \"shan't\": \"shall not\",\n",
        "# \"sha'n't\": \"shall not\",\n",
        "# \"shan't've\": \"shall not have\",\n",
        "\"she'd\": \"she had / she would\",\n",
        "# \"she'd've\": \"she would have\",\n",
        "\"she'll\": \"she shall / she will\",\n",
        "# \"she'll've\": \"she shall have / she will have\",\n",
        "\"she's\": \"she has / she is\",\n",
        "\"should've\": \"should have\",\n",
        "\"shouldn't\": \"should not\",\n",
        "# \"shouldn't've\": \"should not have\",\n",
        "# \"so've\": \"so have\",\n",
        "# \"so's\": \"so as / so is\",\n",
        "\"that'd\": \"that would / that had\",\n",
        "# \"that'd've\": \"that would have\",\n",
        "\"that's\": \"that has / that is\",\n",
        "\"there'd\": \"there had / there would\",\n",
        "# \"there'd've\": \"there would have\",\n",
        "\"there's\": \"there has / there is\",\n",
        "\"they'd\": \"they had / they would\",\n",
        "# \"they'd've\": \"they would have\",\n",
        "\"they'll\": \"they shall / they will\",\n",
        "# \"they'll've\": \"they shall have / they will have\",\n",
        "\"they're\": \"they are\",\n",
        "\"they've\": \"they have\",\n",
        "# \"to've\": \"to have\",\n",
        "\"wasn't\": \"was not\",\n",
        "\"we'd\": \"we had / we would\",\n",
        "# \"we'd've\": \"we would have\",\n",
        "\"we'll\": \"we will\",\n",
        "# \"we'll've\": \"we will have\",\n",
        "\"we're\": \"we are\",\n",
        "\"we've\": \"we have\",\n",
        "\"weren't\": \"were not\",\n",
        "\"what'll\": \"what shall / what will\",\n",
        "# \"what'll've\": \"what shall have / what will have\",\n",
        "# \"what're\": \"what are\",\n",
        "# \"what's\": \"what has / what is\",\n",
        "# \"what've\": \"what have\",\n",
        "# \"when's\": \"when has / when is\",\n",
        "# \"when've\": \"when have\",\n",
        "# \"where'd\": \"where did\",\n",
        "# \"where's\": \"where has / where is\",\n",
        "# \"where've\": \"where have\",\n",
        "# \"who'll\": \"who shall / who will\",\n",
        "# \"who'll've\": \"who shall have / who will have\",\n",
        "# \"who's\": \"who has / who is\",\n",
        "# \"who've\": \"who have\",\n",
        "# \"why's\": \"why has / why is\",\n",
        "# \"why've\": \"why have\",\n",
        "# \"will've\": \"will have\",\n",
        "\"won't\": \"will not\",\n",
        "# \"won't've\": \"will not have\",\n",
        "# \"would've\": \"would have\",\n",
        "\"wouldn't\": \"would not\",\n",
        "# \"wouldn't've\": \"would not have\",\n",
        "\"y'all\": \"you all\",\n",
        "# \"y'all'd\": \"you all would\",\n",
        "# \"y'all'd've\": \"you all would have\",\n",
        "# \"y'all're\": \"you all are\",\n",
        "# \"y'all've\": \"you all have\",\n",
        "\"you'd\": \"you had / you would\",\n",
        "# \"you'd've\": \"you would have\",\n",
        "\"you'll\": \"you shall / you will\",\n",
        "# \"you'll've\": \"you shall have / you will have\",\n",
        "\"you're\": \"you are\",\n",
        "\"you've\": \"you have\"\n",
        "}\n",
        "\n",
        "contractions_upper_list = [string.upper() for string in contractions_dict.keys()]"
      ],
      "execution_count": 9,
      "outputs": []
    },
    {
      "cell_type": "markdown",
      "metadata": {
        "id": "KaWP4yhSqK1T"
      },
      "source": [
        "### Filtering function"
      ]
    },
    {
      "cell_type": "code",
      "metadata": {
        "id": "KBNdqSezpS7z"
      },
      "source": [
        "KEEP_CONTRACTIONS = True\n",
        "\n",
        "def filter_non_existing_words(sentences_list, debugModeOn=False):\n",
        "  \"\"\" Filters the list of sentences discard the ones with unexisting words \n",
        "  in NLTK's dictionary\n",
        "\n",
        "  :param sentences_list: list of sentences [sentence_id, uppercase_sentence]\n",
        "  :returns: filtered list of sentences, same format\n",
        "  \"\"\"\n",
        "  number_true = 0\n",
        "  number_false = 0\n",
        "  number_countries = 0\n",
        "  number_contractions = 0\n",
        "  number_exceptions = 0\n",
        "  word_count = 0    # Just checkin'\n",
        "  list_false = []\n",
        "  filtered_dataset = []\n",
        "  for i,sentence in enumerate(sentences_list[:,1]):\n",
        "    flag = True\n",
        "    for word in sentence.split(\" \"):\n",
        "      word_count += 1\n",
        "      if word in english_vocab:\n",
        "        number_true += 1\n",
        "      elif lemmatizer.lemmatize(word.lower(), 'n').upper() in english_vocab:   # Plural is also not included in english_vocab, so lemmatizing to singular\n",
        "        number_true += 1 \n",
        "      elif lemmatizer.lemmatize(word.lower(), 'v').upper() in english_vocab:  # Conjugated verbs as well / past participal\n",
        "        number_true += 1 \n",
        "      elif lemmatizer.lemmatize(word.lower(), 'a').upper() in english_vocab:  # Comparative and Superlative\n",
        "        number_true += 1 \n",
        "      # elif lemmatizer.lemmatize(word.lower(), 's').upper() in english_vocab:  # Superlative\n",
        "      #   print(\"sattelite: \", word)\n",
        "      #   number_true += 1 \n",
        "      # elif lemmatizer.lemmatize(word.lower(), 'r').upper() in english_vocab:  # Adverbs\n",
        "      #   print(\"adverbs: \", word)\n",
        "      #   number_true += 1 \n",
        "      elif word in countries:  # Comparative and Superlative\n",
        "        number_true += 1 \n",
        "        number_countries += 1\n",
        "      elif word in contractions_upper_list and KEEP_CONTRACTIONS:  # I'm, won't, shouldn't, etc...\n",
        "        number_true += 1 \n",
        "        number_contractions += 1\n",
        "      elif word in other_allowed_exceptions and KEEP_CONTRACTIONS:  # I'm, won't, shouldn't, etc...\n",
        "        number_true += 1 \n",
        "        number_exceptions += 1\n",
        "      elif word[-2:]==\"'S\": # Possessive\n",
        "        if word[:-2] in english_vocab:\n",
        "          number_true += 1\n",
        "        else:\n",
        "          flag = False\n",
        "          number_false += 1\n",
        "          list_false.append((word[:-2], sentence))\n",
        "      else:\n",
        "        flag = False\n",
        "        number_false += 1\n",
        "        list_false.append((word, sentence))\n",
        "  \n",
        "    if flag:\n",
        "      filtered_dataset.append(sentences_list[i][:])\n",
        "\n",
        "  if debugModeOn:\n",
        "    print(\"Total number of words words: \",word_count)\n",
        "    print(\"Number of existing words: \",number_true)\n",
        "    print(\"Number of unexisting words: \",number_false)\n",
        "    print(\"Number of countries: \",number_countries)\n",
        "    print(\"Number of contractions: \",number_contractions)\n",
        "    print(\"Number of other exceptions: \",number_exceptions)\n",
        "\n",
        "  return np.asarray(filtered_dataset)\n"
      ],
      "execution_count": 10,
      "outputs": []
    },
    {
      "cell_type": "markdown",
      "metadata": {
        "id": "nJUbJa0jh7cE"
      },
      "source": [
        "## Filtering sentences by number of words (eliminating too short/long sentences)"
      ]
    },
    {
      "cell_type": "code",
      "metadata": {
        "id": "Q8nuWDNth9bw"
      },
      "source": [
        "# Basic words counter function\n",
        "\n",
        "def words_counter(string):\n",
        "  word_list = []\n",
        "  word_list = string.split(\" \")\n",
        "  n_word = len(word_list)\n",
        "  return n_word"
      ],
      "execution_count": 11,
      "outputs": []
    },
    {
      "cell_type": "code",
      "metadata": {
        "id": "PzYn4FUXh6wF"
      },
      "source": [
        "# Filtering the sentences according to their length\n",
        "\n",
        "def filtering_word_count(contentLines, bounds=(0.1,0.7), debugModeOn=False):\n",
        "  lengths=[] # array with lengths of each sentence in the dataset\n",
        "  for s in contentLines:\n",
        "    sentence_len=words_counter(s[1]) # nb: s[1] is the sentence itself, while s[0] is the sentence id\n",
        "    lengths.append(sentence_len)\n",
        "  lengths=np.expand_dims(np.asarray(lengths),1)\n",
        "\n",
        "  mean_len=np.mean(lengths)\n",
        "  max_len=np.max(lengths)\n",
        "  min_len=np.min(lengths)\n",
        "  arg_min=np.argmin(lengths)\n",
        "  arg_max=np.argmax(lengths)\n",
        "\n",
        "  if debugModeOn:\n",
        "    print(\"The mean is %f\" %mean_len)\n",
        "    print(\"The max is %d at indice %d\" %(max_len, arg_max))\n",
        "    print(\"The sentence is\")\n",
        "    print(contentLines[arg_max][1])\n",
        "    print(\"The min is %d at indice %d\" %(min_len, arg_min))\n",
        "    print(\"The sentence is\")\n",
        "    print(contentLines[arg_min][1])\n",
        "\n",
        "  #histogram of lengths of sentences in the dataset\n",
        "\n",
        "  plt.figure(figsize = (10,6))\n",
        "  bins=np.arange(min_len,max_len)\n",
        "  a=plt.hist(lengths, bins=bins)\n",
        "  plt.title(\"Lenghts of lines in the LibriSpeech corpus\")\n",
        "  plt.xlabel(\"Number of words in a line\")\n",
        "  plt.ylabel(\"Number of lines\")\n",
        "  plt.xlim(0)\n",
        "  plt.show()\n",
        "\n",
        "  if debugModeOn:\n",
        "    print(\"Sentences with same lenghts (from %d to %d)\" %(min_len,max_len))\n",
        "    print(a[0])\n",
        "\n",
        "  # Filtering (eliminating too long/short sentences)\n",
        "\n",
        "  arg_sort=np.argsort(lengths,axis=0)\n",
        "  sorted_length=np.reshape(lengths[arg_sort],(lengths[arg_sort].shape[0],1)) #sort the lengths fom smaller to longer\n",
        "  sorted_dataset = np.reshape(contentLines[arg_sort],(contentLines[arg_sort].shape[0],2)) #sort the dataset by sentences length\n",
        "  min_bound=int(lengths.shape[0]*bounds[0]) # minimum length sentence index\n",
        "  max_bound=int(lengths.shape[0]*bounds[1]) # maximum length sentence index\n",
        "\n",
        "  filtered_dataset=sorted_dataset[min_bound:max_bound,:] #reduce the dataset\n",
        "  filtered_dataset_lengths=sorted_length[min_bound:max_bound,:]\n",
        "\n",
        "  # Histogram of lengths after filtering\n",
        "  \n",
        "  min2=np.min(filtered_dataset_lengths)\n",
        "  max2=np.max(filtered_dataset_lengths)\n",
        "\n",
        "  bins2=np.arange(min2,max2)\n",
        "  b=plt.hist(filtered_dataset_lengths, bins=bins2)  # arguments are passed to np.histogram\n",
        "  plt.title(\"Histogram of new lengths\")\n",
        "  plt.show()\n",
        "\n",
        "  print(\"Kept sentences with lengths between %d and %d\"%(min2, max2))\n",
        "\n",
        "  if debugModeOn:\n",
        "    print(\"Sentences with same lenghts (from %d to %d)\" %(min2,max2))\n",
        "    print(b[0])\n",
        "\n",
        "  return filtered_dataset\n"
      ],
      "execution_count": 12,
      "outputs": []
    },
    {
      "cell_type": "markdown",
      "metadata": {
        "id": "sNhU51nj4cnp"
      },
      "source": [
        "##WER based filter (for the branch 2 of the filtering)"
      ]
    },
    {
      "cell_type": "code",
      "metadata": {
        "id": "lHkufnqT4hMx",
        "colab": {
          "base_uri": "https://localhost:8080/"
        },
        "outputId": "83e1a952-a75a-43b8-b3b4-1a8cea216c44"
      },
      "source": [
        "# Installing the STT libraries\n",
        "\n",
        "!sudo apt-get install -qq python python-dev python-pip build-essential swig libpulse-dev"
      ],
      "execution_count": 13,
      "outputs": [
        {
          "output_type": "stream",
          "text": [
            "debconf: unable to initialize frontend: Dialog\n",
            "debconf: (No usable dialog-like program is installed, so the dialog based frontend cannot be used. at /usr/share/perl5/Debconf/FrontEnd/Dialog.pm line 76, <> line 26.)\n",
            "debconf: falling back to frontend: Readline\n",
            "debconf: unable to initialize frontend: Readline\n",
            "debconf: (This frontend requires a controlling tty.)\n",
            "debconf: falling back to frontend: Teletype\n",
            "dpkg-preconfigure: unable to re-open stdin: \n",
            "Selecting previously unselected package libpulse-mainloop-glib0:amd64.\n",
            "(Reading database ... 160837 files and directories currently installed.)\n",
            "Preparing to unpack .../00-libpulse-mainloop-glib0_1%3a11.1-1ubuntu7.11_amd64.deb ...\n",
            "Unpacking libpulse-mainloop-glib0:amd64 (1:11.1-1ubuntu7.11) ...\n",
            "Selecting previously unselected package libpulse-dev:amd64.\n",
            "Preparing to unpack .../01-libpulse-dev_1%3a11.1-1ubuntu7.11_amd64.deb ...\n",
            "Unpacking libpulse-dev:amd64 (1:11.1-1ubuntu7.11) ...\n",
            "Selecting previously unselected package libpython-all-dev:amd64.\n",
            "Preparing to unpack .../02-libpython-all-dev_2.7.15~rc1-1_amd64.deb ...\n",
            "Unpacking libpython-all-dev:amd64 (2.7.15~rc1-1) ...\n",
            "Selecting previously unselected package python-all.\n",
            "Preparing to unpack .../03-python-all_2.7.15~rc1-1_amd64.deb ...\n",
            "Unpacking python-all (2.7.15~rc1-1) ...\n",
            "Selecting previously unselected package python-all-dev.\n",
            "Preparing to unpack .../04-python-all-dev_2.7.15~rc1-1_amd64.deb ...\n",
            "Unpacking python-all-dev (2.7.15~rc1-1) ...\n",
            "Selecting previously unselected package python-asn1crypto.\n",
            "Preparing to unpack .../05-python-asn1crypto_0.24.0-1_all.deb ...\n",
            "Unpacking python-asn1crypto (0.24.0-1) ...\n",
            "Selecting previously unselected package python-cffi-backend.\n",
            "Preparing to unpack .../06-python-cffi-backend_1.11.5-1_amd64.deb ...\n",
            "Unpacking python-cffi-backend (1.11.5-1) ...\n",
            "Selecting previously unselected package python-crypto.\n",
            "Preparing to unpack .../07-python-crypto_2.6.1-8ubuntu2_amd64.deb ...\n",
            "Unpacking python-crypto (2.6.1-8ubuntu2) ...\n",
            "Selecting previously unselected package python-enum34.\n",
            "Preparing to unpack .../08-python-enum34_1.1.6-2_all.deb ...\n",
            "Unpacking python-enum34 (1.1.6-2) ...\n",
            "Selecting previously unselected package python-idna.\n",
            "Preparing to unpack .../09-python-idna_2.6-1_all.deb ...\n",
            "Unpacking python-idna (2.6-1) ...\n",
            "Selecting previously unselected package python-ipaddress.\n",
            "Preparing to unpack .../10-python-ipaddress_1.0.17-1_all.deb ...\n",
            "Unpacking python-ipaddress (1.0.17-1) ...\n",
            "Selecting previously unselected package python-six.\n",
            "Preparing to unpack .../11-python-six_1.11.0-2_all.deb ...\n",
            "Unpacking python-six (1.11.0-2) ...\n",
            "Selecting previously unselected package python-cryptography.\n",
            "Preparing to unpack .../12-python-cryptography_2.1.4-1ubuntu1.4_amd64.deb ...\n",
            "Unpacking python-cryptography (2.1.4-1ubuntu1.4) ...\n",
            "Selecting previously unselected package python-dbus.\n",
            "Preparing to unpack .../13-python-dbus_1.2.6-1_amd64.deb ...\n",
            "Unpacking python-dbus (1.2.6-1) ...\n",
            "Selecting previously unselected package python-gi.\n",
            "Preparing to unpack .../14-python-gi_3.26.1-2ubuntu1_amd64.deb ...\n",
            "Unpacking python-gi (3.26.1-2ubuntu1) ...\n",
            "Selecting previously unselected package python-secretstorage.\n",
            "Preparing to unpack .../15-python-secretstorage_2.3.1-2_all.deb ...\n",
            "Unpacking python-secretstorage (2.3.1-2) ...\n",
            "Selecting previously unselected package python-keyring.\n",
            "Preparing to unpack .../16-python-keyring_10.6.0-1_all.deb ...\n",
            "Unpacking python-keyring (10.6.0-1) ...\n",
            "Selecting previously unselected package python-keyrings.alt.\n",
            "Preparing to unpack .../17-python-keyrings.alt_3.0-1_all.deb ...\n",
            "Unpacking python-keyrings.alt (3.0-1) ...\n",
            "Selecting previously unselected package python-pip-whl.\n",
            "Preparing to unpack .../18-python-pip-whl_9.0.1-2.3~ubuntu1.18.04.5_all.deb ...\n",
            "Unpacking python-pip-whl (9.0.1-2.3~ubuntu1.18.04.5) ...\n",
            "Selecting previously unselected package python-pip.\n",
            "Preparing to unpack .../19-python-pip_9.0.1-2.3~ubuntu1.18.04.5_all.deb ...\n",
            "Unpacking python-pip (9.0.1-2.3~ubuntu1.18.04.5) ...\n",
            "Selecting previously unselected package python-pkg-resources.\n",
            "Preparing to unpack .../20-python-pkg-resources_39.0.1-2_all.deb ...\n",
            "Unpacking python-pkg-resources (39.0.1-2) ...\n",
            "Selecting previously unselected package python-setuptools.\n",
            "Preparing to unpack .../21-python-setuptools_39.0.1-2_all.deb ...\n",
            "Unpacking python-setuptools (39.0.1-2) ...\n",
            "Selecting previously unselected package python-wheel.\n",
            "Preparing to unpack .../22-python-wheel_0.30.0-0.2_all.deb ...\n",
            "Unpacking python-wheel (0.30.0-0.2) ...\n",
            "Selecting previously unselected package python-xdg.\n",
            "Preparing to unpack .../23-python-xdg_0.25-4ubuntu1.1_all.deb ...\n",
            "Unpacking python-xdg (0.25-4ubuntu1.1) ...\n",
            "Selecting previously unselected package swig3.0.\n",
            "Preparing to unpack .../24-swig3.0_3.0.12-1_amd64.deb ...\n",
            "Unpacking swig3.0 (3.0.12-1) ...\n",
            "Selecting previously unselected package swig.\n",
            "Preparing to unpack .../25-swig_3.0.12-1_amd64.deb ...\n",
            "Unpacking swig (3.0.12-1) ...\n",
            "Setting up python-idna (2.6-1) ...\n",
            "Setting up python-pip-whl (9.0.1-2.3~ubuntu1.18.04.5) ...\n",
            "Setting up python-asn1crypto (0.24.0-1) ...\n",
            "Setting up python-crypto (2.6.1-8ubuntu2) ...\n",
            "Setting up libpulse-mainloop-glib0:amd64 (1:11.1-1ubuntu7.11) ...\n",
            "Setting up libpulse-dev:amd64 (1:11.1-1ubuntu7.11) ...\n",
            "Setting up swig3.0 (3.0.12-1) ...\n",
            "Setting up python-wheel (0.30.0-0.2) ...\n",
            "Setting up libpython-all-dev:amd64 (2.7.15~rc1-1) ...\n",
            "Setting up python-pkg-resources (39.0.1-2) ...\n",
            "Setting up python-cffi-backend (1.11.5-1) ...\n",
            "Setting up python-gi (3.26.1-2ubuntu1) ...\n",
            "Setting up python-six (1.11.0-2) ...\n",
            "Setting up python-enum34 (1.1.6-2) ...\n",
            "Setting up python-dbus (1.2.6-1) ...\n",
            "Setting up python-ipaddress (1.0.17-1) ...\n",
            "Setting up python-pip (9.0.1-2.3~ubuntu1.18.04.5) ...\n",
            "Setting up python-all (2.7.15~rc1-1) ...\n",
            "Setting up python-xdg (0.25-4ubuntu1.1) ...\n",
            "Setting up python-setuptools (39.0.1-2) ...\n",
            "Setting up swig (3.0.12-1) ...\n",
            "Setting up python-keyrings.alt (3.0-1) ...\n",
            "Setting up python-all-dev (2.7.15~rc1-1) ...\n",
            "Setting up python-cryptography (2.1.4-1ubuntu1.4) ...\n",
            "Setting up python-secretstorage (2.3.1-2) ...\n",
            "Setting up python-keyring (10.6.0-1) ...\n",
            "Processing triggers for man-db (2.8.3-2ubuntu0.1) ...\n",
            "Processing triggers for libc-bin (2.27-3ubuntu1.2) ...\n",
            "/sbin/ldconfig.real: /usr/local/lib/python3.7/dist-packages/ideep4py/lib/libmkldnn.so.0 is not a symbolic link\n",
            "\n"
          ],
          "name": "stdout"
        }
      ]
    },
    {
      "cell_type": "code",
      "metadata": {
        "colab": {
          "base_uri": "https://localhost:8080/"
        },
        "id": "XTQI_hEC4s7J",
        "outputId": "95c26c5a-2ecd-4688-d917-ef16d700cd82"
      },
      "source": [
        "!pip install SpeechRecognition pydub\n",
        "# !pip install pocketsphinx\n",
        "!pip install jiwer\n",
        "\n",
        "import speech_recognition as sr\n",
        "# import pocketsphinx\n",
        "import jiwer #library for wer\n",
        "import json"
      ],
      "execution_count": 14,
      "outputs": [
        {
          "output_type": "stream",
          "text": [
            "Collecting SpeechRecognition\n",
            "  Downloading SpeechRecognition-3.8.1-py2.py3-none-any.whl (32.8 MB)\n",
            "\u001b[K     |████████████████████████████████| 32.8 MB 36 kB/s \n",
            "\u001b[?25hCollecting pydub\n",
            "  Downloading pydub-0.25.1-py2.py3-none-any.whl (32 kB)\n",
            "Installing collected packages: SpeechRecognition, pydub\n",
            "Successfully installed SpeechRecognition-3.8.1 pydub-0.25.1\n",
            "Collecting jiwer\n",
            "  Downloading jiwer-2.2.0-py3-none-any.whl (13 kB)\n",
            "Requirement already satisfied: numpy in /usr/local/lib/python3.7/dist-packages (from jiwer) (1.19.5)\n",
            "Collecting python-Levenshtein\n",
            "  Downloading python-Levenshtein-0.12.2.tar.gz (50 kB)\n",
            "\u001b[K     |████████████████████████████████| 50 kB 7.0 MB/s \n",
            "\u001b[?25hRequirement already satisfied: setuptools in /usr/local/lib/python3.7/dist-packages (from python-Levenshtein->jiwer) (57.2.0)\n",
            "Building wheels for collected packages: python-Levenshtein\n",
            "  Building wheel for python-Levenshtein (setup.py) ... \u001b[?25l\u001b[?25hdone\n",
            "  Created wheel for python-Levenshtein: filename=python_Levenshtein-0.12.2-cp37-cp37m-linux_x86_64.whl size=149859 sha256=2318de35d743fa5c441e6182a102fed5035df16bb878c244f3135170e52cc027\n",
            "  Stored in directory: /root/.cache/pip/wheels/05/5f/ca/7c4367734892581bb5ff896f15027a932c551080b2abd3e00d\n",
            "Successfully built python-Levenshtein\n",
            "Installing collected packages: python-Levenshtein, jiwer\n",
            "Successfully installed jiwer-2.2.0 python-Levenshtein-0.12.2\n"
          ],
          "name": "stdout"
        }
      ]
    },
    {
      "cell_type": "code",
      "metadata": {
        "id": "FPq7y2A55OVS"
      },
      "source": [
        "# nb: WER = Word Error Rate\n",
        "\n",
        "def filter_by_WER(list_of_audio_paths, dataset_sentences):\n",
        "  \"\"\"\n",
        "  Filters the list of sentences according to the WER of the transcribed audio files.\n",
        "  The transcription of audio files is done by a Google's Speech-To-Text tool.\n",
        "\n",
        "  \"\"\"\n",
        "  lines_filtered=[]\n",
        "  for i, audio_path in tq.tqdm(enumerate(list_of_audio_paths), total=len(list_of_audio_paths)):\n",
        "\n",
        "    # Finding the original sentence from the sentence id\n",
        "    sentence_id = (audio_path.split('/')[-1]).split(\".\")[0]\n",
        "    original_found = False\n",
        "    for j, sentence in enumerate(dataset_sentences):\n",
        "      if sentence_id == dataset_sentences[j,0]:\n",
        "        text_original = dataset_sentences[j,1]\n",
        "        original_found = True\n",
        "    if not original_found:\n",
        "      raise Exception(\"original sentence not found\")\n",
        "    \n",
        "    # Reading the audio file\n",
        "    recogniser = sr.Recognizer()\n",
        "    with sr.AudioFile(audio_path) as source:\n",
        "      # listen for the data (load audio to memory)\n",
        "      audio_data = recogniser.record(source)\n",
        "\n",
        "    # STT and WER\n",
        "    try:\n",
        "      # GOOGLE speech to text\n",
        "      text_google = recogniser.recognize_google(audio_data).upper()\n",
        "      # Compute Word Error Rate\n",
        "      wer_google = jiwer.wer(text_original, text_google)\n",
        "    except:\n",
        "      print(\"error with sentence: \",sentence_id,\"(actual sentence:\",text_original,\")\")\n",
        "      wer_google = 1\n",
        "    if wer_google == 0:\n",
        "      lines_filtered.append(dataset_sentences[i][:])\n",
        "\n",
        "  return np.asarray(lines_filtered)"
      ],
      "execution_count": 15,
      "outputs": []
    },
    {
      "cell_type": "markdown",
      "metadata": {
        "id": "y5hb633DxQx5"
      },
      "source": [
        "# Main"
      ]
    },
    {
      "cell_type": "markdown",
      "metadata": {
        "id": "UxXwQVRUJO6L"
      },
      "source": [
        "## Parameters"
      ]
    },
    {
      "cell_type": "code",
      "metadata": {
        "id": "J2nPIHpD2ZLS"
      },
      "source": [
        "# Parameters\n",
        "\n",
        "min_publication_year = 1850     # Earliest published date to consider for the books of the dataset\n",
        "debug_mode = False             # If True, functions will print outputs and logs"
      ],
      "execution_count": 27,
      "outputs": []
    },
    {
      "cell_type": "markdown",
      "metadata": {
        "id": "bjvUx9-CJQn2"
      },
      "source": [
        "## Extracting data"
      ]
    },
    {
      "cell_type": "code",
      "metadata": {
        "colab": {
          "base_uri": "https://localhost:8080/"
        },
        "id": "uj4i-LxQHsaI",
        "outputId": "1c6df358-8c50-4bc4-b0c3-c95ad8afce24"
      },
      "source": [
        "chapters_info = get_chapters_info()"
      ],
      "execution_count": 28,
      "outputs": [
        {
          "output_type": "stream",
          "text": [
            "Number of chapters in the chosen subset of chapters 'dev-clean' and 'test-clean': 184\n"
          ],
          "name": "stdout"
        }
      ]
    },
    {
      "cell_type": "code",
      "metadata": {
        "id": "QL3dy-VMHvqL"
      },
      "source": [
        "chapters_table, books_table = get_publication_years(chapters_info, debug_mode)"
      ],
      "execution_count": 29,
      "outputs": []
    },
    {
      "cell_type": "code",
      "metadata": {
        "colab": {
          "base_uri": "https://localhost:8080/"
        },
        "id": "Q7cQMZObv_mX",
        "outputId": "e8e12690-2a2e-4bfc-d8e2-be14de0f814f"
      },
      "source": [
        "# chapters_table is organized as: [chapter_id, book_year, book_title]\n",
        "# books_table is organized as: [book_title, book_year]\n",
        "\n",
        "print(\"chapter_table shape:\",chapters_table.shape)\n",
        "print(\"Example line of chapters_table: \",chapters_table[2])\n",
        "print(\"Example line of books_table: \", books_table[2])\n",
        "\n",
        "print(\"Number of different books: \", len(books_table))"
      ],
      "execution_count": 30,
      "outputs": [
        {
          "output_type": "stream",
          "text": [
            "chapter_table shape: (184, 3)\n",
            "Example line of chapters_table:  ['8226' '1869' 'He Knew He Was Right']\n",
            "Example line of books_table:  ['Hypatia' '1975']\n",
            "Number of different books:  117\n"
          ],
          "name": "stdout"
        }
      ]
    },
    {
      "cell_type": "code",
      "metadata": {
        "colab": {
          "base_uri": "https://localhost:8080/",
          "height": 404
        },
        "id": "EuzlaAKHshdr",
        "outputId": "6273e18c-1926-4789-c288-56a0dad14b4c"
      },
      "source": [
        "# Histogram\n",
        "\n",
        "plt.figure(figsize = (10,6))\n",
        "plt.hist(list(map(int, books_table[:,1])), bins = 30)\n",
        "#plt.axvline(x=min_publication_year, color='k', linestyle='--') # Plotting the published year threshold\n",
        "plt.title(\"Publication years of the books in the LibriSpeech corpus\")\n",
        "plt.xlabel(\"Publication year\")\n",
        "plt.ylabel(\"Number of different books\")\n",
        "plt.show()"
      ],
      "execution_count": 31,
      "outputs": [
        {
          "output_type": "display_data",
          "data": {
            "image/png": "[encoded data removed]",
            "text/plain": [
              "<Figure size 720x432 with 1 Axes>"
            ]
          },
          "metadata": {
            "tags": [],
            "needs_background": "light"
          }
        }
      ]
    },
    {
      "cell_type": "code",
      "metadata": {
        "id": "wi4uQrkTJbl0",
        "colab": {
          "base_uri": "https://localhost:8080/"
        },
        "outputId": "5ff01579-69c8-4402-c878-41effbe59f38"
      },
      "source": [
        "# Getting the list of chapters (text files)\n",
        "chapters_paths = [str(file) for file in Path().glob(\"LibriSpeech/dev-clean/*/*/*.trans.txt\")]\n",
        "if import_test_clean:\n",
        "  chapters_paths_test = [str(file) for file in Path().glob(\"LibriSpeech/test-clean/*/*/*.trans.txt\")]\n",
        "  chapters_paths = chapters_paths + chapters_paths_test\n",
        "\n",
        "print(\"Number of chapters:\", len(chapters_paths))"
      ],
      "execution_count": 32,
      "outputs": [
        {
          "output_type": "stream",
          "text": [
            "Number of chapters: 184\n"
          ],
          "name": "stdout"
        }
      ]
    },
    {
      "cell_type": "markdown",
      "metadata": {
        "id": "RdaljpACJhs3"
      },
      "source": [
        "## Filtering - Branch 1\n",
        "####*applying filtering on sentences length, book year and uncommon words*"
      ]
    },
    {
      "cell_type": "code",
      "metadata": {
        "id": "LS_tSMPO-PmV",
        "colab": {
          "base_uri": "https://localhost:8080/"
        },
        "outputId": "25b70843-5edd-40b3-cad4-23167f2a02c0"
      },
      "source": [
        "# Filtering by book published year\n",
        "chapters_table_filtered = filter_by_publication_year(chapters_table, min_publication_year)\n",
        "print(\"Example line of chapters_table_filtered: \", chapters_table_filtered[0])"
      ],
      "execution_count": 33,
      "outputs": [
        {
          "output_type": "stream",
          "text": [
            "\n",
            "Number of chapters in the original subset: 184\n",
            "Number of chapters in the filtered subset: 165\n",
            "Example line of chapters_table_filtered:  ['4943' '1886' 'For the Term of His Natural Life']\n"
          ],
          "name": "stdout"
        }
      ]
    },
    {
      "cell_type": "code",
      "metadata": {
        "colab": {
          "base_uri": "https://localhost:8080/"
        },
        "id": "yNKeJTBby7Aa",
        "outputId": "9a8cd2b6-a405-4f46-fe5a-271eab338642"
      },
      "source": [
        "content_lines = extract_lines(chapters_paths, chapters_table_filtered, debugModeOn=True)\n",
        "print(\"\\nExample first column of the 1st element of content_lines:\\n\", content_lines[0,0])\n",
        "print(\"Example second column of the 2nd element of content_lines:\\n\", content_lines[0,1])"
      ],
      "execution_count": 34,
      "outputs": [
        {
          "output_type": "stream",
          "text": [
            "Number of lines after filtering: 4809\n",
            "\n",
            "Example first column of the 1st element of content_lines:\n",
            " 3081-166546-0000\n",
            "Example second column of the 2nd element of content_lines:\n",
            " WHEN WE TOOK OUR SEATS AT THE BREAKFAST TABLE IT WAS WITH THE FEELING OF BEING NO LONGER LOOKED UPON AS CONNECTED IN ANY WAY WITH THIS CASE\n"
          ],
          "name": "stdout"
        }
      ]
    },
    {
      "cell_type": "code",
      "metadata": {
        "colab": {
          "base_uri": "https://localhost:8080/"
        },
        "id": "61yENv-kuBjv",
        "outputId": "3156ea08-9123-47f8-cf2a-61e10f301cc6"
      },
      "source": [
        "# Filtering by removing sentences with words that nltk doesn't know\n",
        "content_lines_filtered = filter_non_existing_words(content_lines, debug_mode)\n",
        "print(\"Number of lines after filtering non-existing words:\", len(content_lines_filtered))\n",
        "\n",
        "\n",
        "# If filtering non-existing words from the original dataset, it reduces from 2703 to 2151 lines\n",
        "# If filtering from the dataset filtered by years, it reduces from 2367 to 1868 lines"
      ],
      "execution_count": 35,
      "outputs": [
        {
          "output_type": "stream",
          "text": [
            "Number of lines after filtering non-existing words: 3804\n"
          ],
          "name": "stdout"
        }
      ]
    },
    {
      "cell_type": "code",
      "metadata": {
        "colab": {
          "base_uri": "https://localhost:8080/",
          "height": 702
        },
        "id": "IV4vc55fixeN",
        "outputId": "3f59f15d-7821-49ea-cd11-7d5e55c4f56e"
      },
      "source": [
        "# Filtering by sentences length\n",
        "\n",
        "content_lines_filtered_final = filtering_word_count(content_lines_filtered, bounds=(0.1,0.7), debugModeOn=debug_mode)\n",
        "print(\"Number of lines after filtering by sentences length:\", len(content_lines_filtered_final))"
      ],
      "execution_count": 36,
      "outputs": [
        {
          "output_type": "display_data",
          "data": {
            "image/png": "[encoded data removed]",
            "text/plain": [
              "<Figure size 720x432 with 1 Axes>"
            ]
          },
          "metadata": {
            "tags": [],
            "needs_background": "light"
          }
        },
        {
          "output_type": "display_data",
          "data": {
            "image/png": "[encoded data removed]",
            "text/plain": [
              "<Figure size 432x288 with 1 Axes>"
            ]
          },
          "metadata": {
            "tags": [],
            "needs_background": "light"
          }
        },
        {
          "output_type": "stream",
          "text": [
            "Kept sentences with lengths between 6 and 22\n",
            "Number of lines after filtering by sentences length: 2282\n"
          ],
          "name": "stdout"
        }
      ]
    },
    {
      "cell_type": "code",
      "metadata": {
        "colab": {
          "base_uri": "https://localhost:8080/"
        },
        "id": "_QK94nQ4vs_I",
        "outputId": "6930eee8-b7fc-4d98-85db-362f0768b02f"
      },
      "source": [
        "print(content_lines_filtered_final.shape)\n",
        "print(content_lines_filtered_final[1])"
      ],
      "execution_count": 37,
      "outputs": [
        {
          "output_type": "stream",
          "text": [
            "(2282, 2)\n",
            "['6295-244435-0006' 'BUT THE NEGOTIATIONS WERE SOON COMPLETED']\n"
          ],
          "name": "stdout"
        }
      ]
    },
    {
      "cell_type": "markdown",
      "metadata": {
        "id": "o6Zgmf1PaaQG"
      },
      "source": [
        "## Filtering - Branch 2\n",
        "####*applying a filter based on the WER between original sentences and the STT transcription of the original audio files available in the Librispeech database*"
      ]
    },
    {
      "cell_type": "code",
      "metadata": {
        "id": "pbZipnbUbLYi"
      },
      "source": [
        "# WER: reading the audio files from LibriSpeech\n",
        "audio_paths = [str(file) for file in Path().glob(\"LibriSpeech/*/*/*/*.flac\")]"
      ],
      "execution_count": 38,
      "outputs": []
    },
    {
      "cell_type": "code",
      "metadata": {
        "colab": {
          "base_uri": "https://localhost:8080/",
          "height": 590,
          "referenced_widgets": [
            "7a5c3753e1d8407da7922fcebaa95329",
            "4127b6b441b34919950a1ffe49a76995",
            "366d02f4548843598e1631e87617895b",
            "3a09f24afa714170bf121b090e7b52e8",
            "34f5041415754ae1a50f959f8745cd25",
            "fb356743e13d4bfcba9cb57da422c4c5",
            "e5033a5bfefc4352b1d5e5442f86e4e4",
            "eeeab973c9164c84babd10a04046c7c1"
          ]
        },
        "id": "FZ4jhE2VarE0",
        "outputId": "e0ee3d7d-72c8-4a26-b07d-ec3d0ec69ea7"
      },
      "source": [
        "# WER filter\n",
        "\n",
        "content_lines_all = extract_lines(chapters_paths, chapters_table)\n",
        "content_lines_WER_zero = filter_by_WER(audio_paths, content_lines_all)\n",
        "print(content_lines_WER_zero)\n",
        "print(len(content_lines_WER_zero))"
      ],
      "execution_count": 39,
      "outputs": [
        {
          "output_type": "display_data",
          "data": {
            "application/vnd.jupyter.widget-view+json": {
              "model_id": "7a5c3753e1d8407da7922fcebaa95329",
              "version_minor": 0,
              "version_major": 2
            },
            "text/plain": [
              "HBox(children=(FloatProgress(value=0.0, max=5323.0), HTML(value='')))"
            ]
          },
          "metadata": {
            "tags": []
          }
        },
        {
          "output_type": "stream",
          "text": [
            "error with sentence:  121-123852-0001 (actual sentence: AY ME )\n",
            "error with sentence:  5142-33396-0013 (actual sentence: HE IS BUT A BOY THE MEN SAID )\n",
            "error with sentence:  5142-33396-0048 (actual sentence: BY THE HAMMER OF THOR SHOUTED GRIM HERE IS NO STINGY COWARD )\n",
            "error with sentence:  5142-33396-0067 (actual sentence: BUT YOUNG SHARP TONGUE NOW THAT WE HAVE CAUGHT YOU WE WILL PUT YOU INTO A TRAP THAT YOU CANNOT GET OUT OF )\n",
            "error with sentence:  5142-33396-0060 (actual sentence: TAKE HIM OUT THORKEL AND LET HIM TASTE YOUR SWORD )\n",
            "error with sentence:  5142-33396-0027 (actual sentence: HE ACTS AS THOUGH HE HAD NOT EXPECTED US )\n",
            "error with sentence:  5142-33396-0026 (actual sentence: MY MEN LAUGHED YES A STINGY HOST )\n",
            "error with sentence:  5142-33396-0036 (actual sentence: SO I WILL GIVE OUT THIS LAW THAT MY MEN SHALL NEVER LEAVE YOU ALONE )\n",
            "error with sentence:  5142-33396-0047 (actual sentence: MY MEN POUNDED THE TABLE WITH THEIR FISTS )\n",
            "error with sentence:  5142-36377-0011 (actual sentence: MISTER JAGO IS AN AMERICAN PHILIP )\n",
            "error with sentence:  5142-36377-0009 (actual sentence: PHILIP LEFRANK THIS IS MY OVERLOOKER MISTER JAGO SAID THE OLD MAN FORMALLY PRESENTING US )\n",
            "error with sentence:  5142-36377-0013 (actual sentence: THEY POINTEDLY DREW BACK FROM JOHN JAGO AS HE APPROACHED THE EMPTY CHAIR NEXT TO ME AND MOVED ROUND TO THE OPPOSITE SIDE OF THE TABLE )\n",
            "error with sentence:  777-126732-0066 (actual sentence: THERE WAS NO YOUNG MAN OF HIS AGE IN LONDON MORE WILLING AND DOCILE THAN STEPHEN SHE AFFIRMED NONE MORE AFFECTIONATE AND READY TO PLEASE AND EVEN USEFUL AS LONG AS PEOPLE DID NOT UPSET HIS POOR HEAD )\n",
            "error with sentence:  777-126732-0056 (actual sentence: THE LIGHT THROWN DOWN BY THE SHADE FELL DAZZLINGLY ON THE WHITE PILLOW SUNK BY THE WEIGHT OF HER HEAD REPOSING WITH CLOSED EYES AND DARK HAIR DONE UP IN SEVERAL PLAITS FOR THE NIGHT )\n",
            "error with sentence:  777-126732-0001 (actual sentence: THEN WHY INDULGE IN PROPHETIC PHANTASIES )\n",
            "error with sentence:  777-126732-0006 (actual sentence: YES I HAD THE TIME TO THINK THINGS OUT A LITTLE HE ADDED WITHOUT EMPHASIS )\n",
            "error with sentence:  777-126732-0017 (actual sentence: VERY CHARACTERISTIC PERFECTLY TYPICAL )\n",
            "\n",
            "[['3081-166546-0008' 'GEORGE']\n",
            " ['3081-166546-0011'\n",
            "  'THE BOYS LOOK WIDE AWAKE ENOUGH BUT WHO CAN TELL I WOULD SOONER BELIEVE THAT']\n",
            " ['3081-166546-0013'\n",
            "  'I INQUIRED OF GEORGE WITH MY EYES STILL ON THIS FURTIVE WATCHER']\n",
            " ...\n",
            " ['2961-960-0016'\n",
            "  'BUT PLATO HAS NOT THE SAME MASTERY OVER HIS INSTRUMENT WHICH HE EXHIBITS IN THE PHAEDRUS OR SYMPOSIUM']\n",
            " ['2961-960-0017'\n",
            "  'NOTHING CAN EXCEED THE BEAUTY OR ART OF THE INTRODUCTION IN WHICH HE IS USING WORDS AFTER HIS ACCUSTOMED MANNER']\n",
            " ['2961-960-0021'\n",
            "  \"THERE IS A WANT OF FLOW AND OFTEN A DEFECT OF RHYTHM THE MEANING IS SOMETIMES OBSCURE AND THERE IS A GREATER USE OF APPOSITION AND MORE OF REPETITION THAN OCCURS IN PLATO'S EARLIER WRITINGS\"]]\n",
            "1622\n"
          ],
          "name": "stdout"
        }
      ]
    },
    {
      "cell_type": "markdown",
      "metadata": {
        "id": "sjoI2scl1i_-"
      },
      "source": [
        "## Writing both filtered subsets in JSON"
      ]
    },
    {
      "cell_type": "code",
      "metadata": {
        "colab": {
          "base_uri": "https://localhost:8080/"
        },
        "id": "ZAVNm_ci0xa1",
        "outputId": "24eacacb-eadb-4662-e63f-3de17034ae93"
      },
      "source": [
        "from google.colab import drive\n",
        "drive.mount('/content/drive')"
      ],
      "execution_count": 40,
      "outputs": [
        {
          "output_type": "stream",
          "text": [
            "Mounted at /content/drive\n"
          ],
          "name": "stdout"
        }
      ]
    },
    {
      "cell_type": "code",
      "metadata": {
        "id": "-3M3PsMFvDWx"
      },
      "source": [
        "subset_3_filters = (content_lines_filtered_final[:,0]).tolist() # keeping only lines IDs (first column)\n",
        "subset_wer_filter = (content_lines_WER_zero[:,0]).tolist()\n",
        "\n",
        "#with open(\"dataset_3_filters.json\", \"w\") as outfile:\n",
        "    #json.dump(filtered_dataset, outfile, indent=4)  \n",
        "\n",
        "with open('/content/subset_3_filters.json', 'w') as f:\n",
        "    json.dump(subset_3_filters, f, indent=4)\n",
        "with open('/content/subset_wer_filter.json', 'w') as f:\n",
        "    json.dump(subset_wer_filter, f, indent=4)"
      ],
      "execution_count": 41,
      "outputs": []
    },
    {
      "cell_type": "markdown",
      "metadata": {
        "id": "XImGoyF7nepv"
      },
      "source": [
        "## Opening the 2 subsets of sentences obtained by the 2 sets of filters \n",
        "####*+ generating the final subset of all eligible sententences by intersecting them*"
      ]
    },
    {
      "cell_type": "code",
      "metadata": {
        "id": "DGK4ZMm2k1xN",
        "colab": {
          "base_uri": "https://localhost:8080/"
        },
        "outputId": "ad68b5f6-04b0-4fc1-add5-7a179af72856"
      },
      "source": [
        "with open(\"/content/subset_3_filters.json\", \"r\") as jsonfile:\n",
        "    data_filters = json.load(jsonfile)\n",
        "\n",
        "with open(\"/content/subset_wer_filter.json\", \"r\") as jsonfile:\n",
        "   data_wer = json.load(jsonfile)\n",
        "\n",
        "\n",
        "print(\"Number of lines filtered with 3 firsts filters: \", len(data_filters))\n",
        "print(\"Number of lines filtered with the filter based on WER: \", len(data_wer))\n",
        "\n",
        "print(\"\\ndata_filters: \", data_filters)\n",
        "#print(\"data_wer: \", data_wer)"
      ],
      "execution_count": 42,
      "outputs": [
        {
          "output_type": "stream",
          "text": [
            "Number of lines filtered with 3 firsts filters:  2282\n",
            "Number of lines filtered with the filter based on WER:  1622\n",
            "\n",
            "data_filters:  ['652-130737-0012', '6295-244435-0006', '672-122797-0019', '2803-154328-0021', '777-126732-0026', '3081-166546-0033', '672-122797-0059', '672-122797-0060', '121-127105-0016', '1995-1837-0008', '672-122797-0029', '4507-16021-0019', '672-122797-0031', '6313-66129-0032', '5536-43358-0000', '251-137823-0025', '7127-75946-0005', '174-84280-0014', '3536-8226-0009', '3081-166546-0002', '672-122797-0009', '6313-66129-0019', '6295-244435-0027', '5694-64025-0013', '3752-4944-0019', '672-122797-0005', '3752-4943-0017', '6829-68769-0042', '121-127105-0033', '2078-142845-0035', '8455-210777-0066', '6241-61943-0022', '3752-4944-0029', '5338-284437-0033', '260-123288-0012', '6241-61943-0021', '3081-166546-0017', '3752-4944-0028', '260-123288-0000', '6930-81414-0018', '3081-166546-0050', '5105-28241-0007', '1089-134686-0003', '5142-33396-0029', '5536-43363-0011', '7729-102255-0000', '6930-76324-0019', '5142-33396-0026', '5694-64038-0016', '2428-83699-0031', '3752-4944-0033', '2428-83699-0004', '5142-33396-0066', '4507-16021-0008', '2428-83699-0010', '3752-4944-0043', '3576-138058-0003', '6295-244435-0028', '5142-33396-0016', '5142-33396-0061', '5683-32865-0002', '4507-16021-0012', '5536-43358-0014', '5683-32865-0006', '5683-32865-0014', '5142-33396-0017', '7021-79740-0012', '1995-1837-0028', '2428-83699-0022', '6345-93302-0013', '2428-83699-0038', '4507-16021-0014', '1995-1837-0006', '2428-83699-0026', '4507-16021-0024', '6930-81414-0021', '3081-166546-0035', '3081-166546-0048', '5683-32866-0023', '6345-93306-0004', '5683-32879-0021', '5142-33396-0008', '2035-147960-0009', '8455-210777-0047', '1272-135031-0018', '3752-4944-0008', '6241-66616-0020', '6829-68771-0021', '5683-32866-0000', '7976-110523-0018', '3752-4944-0049', '6345-93306-0012', '8455-210777-0020', '1580-141084-0036', '6295-64301-0014', '7976-110124-0025', '4507-16021-0057', '4507-16021-0054', '6295-64301-0008', '5142-36600-0000', '2428-83705-0031', '6295-64301-0004', '3752-4944-0038', '1580-141084-0043', '3752-4944-0045', '7976-105575-0001', '5683-32866-0001', '6313-66125-0013', '2086-149220-0043', '4446-2273-0020', '8842-302201-0010', '174-168635-0021', '4446-2273-0017', '2412-153954-0023', '4970-29093-0021', '652-129742-0008', '652-130737-0007', '174-168635-0009', '1988-24833-0026', '1988-24833-0028', '61-70968-0007', '8297-275155-0010', '7729-102255-0034', '3536-8226-0014', '3536-8226-0027', '61-70968-0002', '61-70968-0021', '672-122797-0057', '6345-93302-0021', '4446-2275-0027', '4446-2275-0024', '5694-64025-0008', '1462-170142-0015', '4446-2275-0020', '4970-29095-0012', '1462-170142-0003', '672-122797-0058', '1462-170138-0026', '1988-24833-0016', '6313-76958-0003', '4970-29095-0025', '4446-2275-0009', '4446-2275-0003', '6313-76958-0000', '2035-147961-0015', '1988-24833-0014', '121-121726-0006', '8297-275156-0000', '7176-92135-0010', '6829-68769-0047', '2094-142345-0004', '672-122797-0035', '3729-6852-0021', '7176-88083-0027', '121-127105-0009', '7176-92135-0026', '3000-15664-0026', '3752-4943-0009', '672-122797-0010', '672-122797-0014', '777-126732-0038', '672-122797-0024', '2803-154328-0013', '777-126732-0043', '5694-64025-0018', '2803-154320-0008', '8297-275154-0015', '2094-142345-0017', '6829-68769-0050', '5895-34622-0000', '121-121726-0008', '6313-66129-0012', '6313-66129-0011', '3000-15664-0006', '2035-147961-0003', '8297-275154-0023', '121-121726-0011', '908-157963-0003', '61-70968-0059', '908-157963-0002', '61-70968-0062', '1580-141084-0006', '8297-275154-0017', '5895-34615-0009', '5895-34615-0001', '5895-34615-0000', '8463-294828-0004', '8463-294828-0008', '3752-4944-0001', '4970-29095-0014', '5694-64029-0018', '237-134500-0042', '237-134500-0027', '3853-163249-0011', '3575-170457-0049', '2277-149896-0022', '8463-294828-0021', '260-123286-0014', '4446-2271-0022', '237-134500-0019', '260-123286-0012', '6319-275224-0012', '3081-166546-0081', '1580-141084-0012', '5142-36377-0019', '2277-149896-0004', '5142-36586-0001', '3853-163249-0044', '2277-149896-0003', '1221-135767-0015', '3170-137482-0032', '3081-166546-0069', '2035-147961-0034', '2035-147961-0033', '260-123286-0011', '1919-142785-0029', '6241-61943-0002', '6829-68771-0031', '260-123440-0000', '1462-170145-0008', '4446-2275-0045', '1462-170145-0012', '7127-75947-0019', '1462-170145-0002', '2277-149896-0033', '5694-64029-0014', '8463-294828-0016', '7127-75947-0017', '237-134493-0010', '237-134493-0009', '2035-147961-0022', '7176-92135-0013', '260-123286-0004', '6345-64257-0017', '6345-93302-0011', '3170-137482-0029', '777-126732-0080', '777-126732-0077', '3752-4944-0006', '2094-142345-0026', '3752-4944-0057', '84-121550-0027', '777-126732-0046', '6345-93302-0022', '7176-92135-0021', '260-123286-0024', '260-123288-0004', '6829-68769-0043', '260-123286-0022', '7176-88083-0015', '5142-33396-0004', '6930-81414-0015', '6345-64257-0020', '260-123440-0005', '7176-88083-0008', '7176-92135-0027', '6829-68771-0017', '3752-4943-0005', '121-127105-0018', '6345-93302-0024', '2094-142345-0007', '6930-81414-0017', '6313-66129-0006', '6829-68769-0046', '4446-2275-0030', '7021-79759-0003', '4446-2273-0014', '6313-76958-0025', '652-130737-0013', '6930-75918-0000', '2277-149896-0029', '2428-83699-0021', '4446-2271-0007', '2428-83699-0023', '2035-147961-0024', '4507-16021-0029', '6829-68771-0034', '3752-4944-0067', '4507-16021-0005', '6313-76958-0019', '6930-81414-0003', '2277-149874-0006', '4446-2275-0018', '7176-92135-0002', '6345-93306-0003', '2277-149874-0011', '4446-2273-0026', '5142-33396-0013', '4446-2273-0011', '3752-4944-0050', '7176-92135-0011', '4507-16021-0058', '3000-15664-0004', '3000-15664-0003', '6930-81414-0010', '3752-4944-0007', '2094-142345-0060', '260-123288-0019', '6930-75918-0013', '652-130726-0018', '1188-133604-0006', '2035-147961-0009', '121-121726-0004', '121-121726-0001', '1188-133604-0013', '6313-76958-0031', '2035-147961-0031', '908-157963-0024', '6313-66125-0002', '2277-149896-0016', '2428-83699-0011', '6345-64257-0015', '6829-68769-0013', '7021-79759-0000', '672-122797-0043', '1462-170142-0028', '7850-281318-0015', '251-136532-0009', '1462-170142-0018', '8455-210777-0043', '1462-170142-0017', '7127-75947-0030', '8455-210777-0029', '3081-166546-0078', '3081-166546-0072', '251-136532-0020', '3081-166546-0068', '1995-1826-0025', '1462-170142-0029', '6930-76324-0010', '8463-294828-0024', '1995-1826-0005', '3081-166546-0066', '251-118436-0004', '8463-294828-0026', '237-126133-0020', '1995-1837-0013', '8297-275155-0023', '1995-1837-0010', '3081-166546-0049', '8297-275154-0012', '174-50561-0019', '5142-33396-0047', '1993-147965-0004', '1995-1837-0005', '1462-170142-0032', '1580-141083-0005', '8555-292519-0004', '1221-135767-0020', '1221-135766-0015', '7127-75947-0002', '2803-154320-0002', '2803-154320-0005', '3575-170457-0004', '2803-154320-0009', '1580-141083-0019', '1580-141084-0013', '6319-275224-0009', '1580-141084-0018', '1580-141084-0020', '1462-170142-0034', '1919-142785-0042', '672-122797-0054', '237-134500-0009', '1089-134686-0014', '1089-134686-0007', '1462-170145-0019', '7850-286674-0007', '4077-13751-0019', '7127-75946-0021', '1089-134686-0001', '1089-134691-0019', '4992-41797-0016', '1089-134691-0007', '7850-281318-0003', '1919-142785-0035', '3081-166546-0046', '6319-57405-0007', '5895-34622-0021', '5895-34629-0003', '5536-43363-0012', '5683-32879-0008', '61-70970-0017', '1580-141083-0052', '174-168635-0000', '1988-24833-0027', '3081-166546-0014', '8463-294825-0004', '5895-34615-0008', '1580-141083-0053', '8297-275154-0024', '7127-75946-0010', '174-50561-0017', '5895-34622-0016', '7976-110523-0016', '3081-166546-0025', '7127-75946-0011', '8463-294825-0015', '5683-32866-0022', '7976-110124-0020', '61-70970-0030', '5895-34622-0010', '8463-294825-0019', '6295-244435-0011', '174-50561-0003', '5895-34629-0017', '5105-28240-0014', '251-137823-0007', '1995-1836-0002', '7976-110124-0017', '251-137823-0000', '61-70970-0032', '2078-142845-0029', '3575-170457-0052', '2412-153947-0001', '1580-141084-0015', '422-122949-0029', '121-127105-0032', '777-126732-0039', '237-134500-0005', '652-130726-0028', '237-134500-0003', '61-70968-0051', '1580-141083-0011', '1221-135767-0019', '6930-81414-0011', '7729-102255-0027', '5895-34629-0004', '2277-149896-0021', '61-70968-0048', '5694-64025-0017', '7176-92135-0029', '3575-170457-0001', '6829-68769-0037', '777-126732-0054', '7176-92135-0033', '2277-149896-0034', '5895-34629-0024', '237-134500-0026', '5895-34629-0029', '2803-154320-0014', '3575-170457-0031', '237-134500-0017', '7127-75946-0023', '5895-34629-0002', '672-122797-0039', '2803-154320-0007', '2412-153948-0010', '422-122949-0030', '1580-141083-0047', '1988-24833-0000', '4446-2273-0013', '5142-36586-0004', '8297-275155-0012', '4970-29093-0017', '2277-149897-0019', '251-118436-0001', '4970-29095-0030', '6313-76958-0002', '1580-141083-0049', '4970-29095-0023', '174-50561-0000', '4970-29093-0000', '6313-76958-0001', '1462-170138-0004', '251-118436-0022', '8297-275154-0013', '251-118436-0018', '6829-68769-0044', '652-130737-0004', '4446-2273-0030', '251-137823-0002', '1462-170138-0019', '237-126133-0009', '4970-29095-0011', '1462-170145-0011', '8297-275154-0016', '2094-142345-0025', '4077-13754-0001', '1988-24833-0008', '1188-133604-0029', '1580-141083-0039', '6313-76958-0015', '672-122797-0017', '174-84280-0009', '3752-4943-0014', '2094-142345-0020', '8297-275154-0008', '4446-2275-0023', '174-84280-0011', '3536-8226-0013', '1272-135031-0008', '1462-170142-0013', '3752-4943-0012', '2412-153954-0008', '6930-75918-0007', '1988-147956-0013', '237-134500-0029', '6829-68769-0016', '7127-75946-0025', '3752-4944-0009', '1995-1836-0007', '7976-110124-0007', '5142-33396-0045', '2428-83699-0024', '1272-141231-0000', '3752-4944-0054', '1995-1837-0011', '7127-75947-0034', '3081-166546-0055', '5694-64029-0025', '5142-33396-0055', '4507-16021-0011', '3752-4944-0060', '1580-141084-0038', '1580-141084-0037', '6345-93306-0009', '6241-61943-0007', '7127-75947-0032', '8455-210777-0021', '1580-141084-0035', '4992-41797-0019', '5694-64038-0012', '1580-141083-0028', '3081-166546-0086', '7850-111771-0005', '7850-281318-0018', '6295-244435-0019', '5683-32865-0003', '6295-244435-0026', '7976-110124-0019', '5142-33396-0027', '6829-68769-0017', '5338-284437-0019', '5105-28241-0003', '5338-284437-0012', '2428-83705-0006', '6829-68769-0019', '5683-32879-0012', '2428-83705-0010', '8463-294825-0016', '6930-81414-0027', '6241-61946-0019', '3081-166546-0027', '5694-64029-0017', '5338-284437-0000', '5683-32866-0015', '3752-4944-0040', '5338-24615-0009', '5536-43359-0008', '3752-4944-0042', '8463-287645-0014', '6241-61946-0007', '2428-83705-0039', '1272-128104-0012', '6829-68769-0014', '6295-244435-0035', '4507-16021-0036', '6295-244435-0034', '3752-4944-0035', '260-123288-0018', '4507-16021-0003', '8463-294828-0011', '260-123440-0009', '7127-75947-0008', '2035-147961-0007', '1089-134686-0027', '672-122797-0052', '260-123440-0006', '1089-134686-0035', '2086-149220-0028', '2086-149220-0027', '672-122797-0046', '4992-41806-0005', '3170-137482-0008', '1919-142785-0062', '3170-137482-0012', '672-122797-0044', '3170-137482-0014', '61-70968-0052', '777-126732-0078', '908-31957-0018', '2086-149220-0020', '1221-135766-0013', '6930-76324-0026', '237-134500-0035', '260-123286-0008', '1221-135767-0008', '260-123440-0014', '260-123440-0017', '61-70968-0053', '6345-64257-0010', '4992-41797-0012', '7850-286674-0008', '260-123288-0006', '2902-9006-0004', '6829-68769-0010', '6345-64257-0012', '7729-102255-0001', '2902-9008-0016', '1272-141231-0020', '1089-134691-0004', '7127-75947-0011', '6241-61943-0015', '6319-64726-0020', '5694-64029-0004', '6313-66129-0007', '1580-141083-0022', '672-122797-0041', '251-137823-0017', '672-122797-0036', '672-122797-0068', '8297-275154-0007', '3752-4944-0011', '672-122797-0018', '5338-284437-0006', '5694-64025-0012', '5694-64038-0011', '422-122949-0002', '121-127105-0015', '61-70970-0009', '7127-75947-0029', '8297-275154-0021', '3081-166546-0004', '5895-34629-0001', '2035-147961-0026', '777-126732-0022', '6313-66125-0000', '7176-92135-0028', '672-122797-0000', '3081-166546-0047', '2035-147961-0010', '3729-6852-0031', '121-127105-0017', '2035-147960-0001', '7176-92135-0009', '672-122797-0027', '251-118436-0021', '672-122797-0063', '3752-4944-0010', '1580-141083-0014', '2035-147961-0016', '5338-24615-0010', '1580-141083-0048', '5694-64029-0030', '8463-287645-0001', '8463-287645-0008', '3081-166546-0039', '121-127105-0010', '6829-68769-0027', '3000-15664-0027', '61-70970-0022', '672-122797-0051', '5694-64029-0032', '3752-4943-0008', '6313-66125-0006', '5694-64029-0015', '2803-154328-0001', '5142-33396-0025', '61-70968-0045', '6319-64726-0008', '5142-33396-0005', '6829-68771-0028', '1272-141231-0017', '8455-210777-0062', '1272-141231-0008', '6345-93302-0006', '7850-111771-0006', '8455-210777-0026', '5142-33396-0014', '8455-210777-0009', '1272-141231-0004', '1993-147966-0005', '5142-33396-0058', '8455-210777-0037', '6241-61943-0016', '260-123440-0018', '260-123440-0013', '908-31957-0005', '7729-102255-0013', '7729-102255-0012', '237-134500-0030', '3170-137482-0028', '260-123286-0017', '1988-147956-0024', '6930-76324-0025', '5142-36377-0016', '260-123286-0029', '3170-137482-0004', '260-123440-0003', '260-123440-0007', '2086-149220-0044', '6345-93302-0020', '1995-1837-0021', '1284-1181-0019', '1995-1837-0020', '5142-33396-0050', '6930-76324-0001', '1272-128104-0001', '5105-28233-0000', '5536-43359-0000', '5142-33396-0040', '6295-64301-0030', '5142-33396-0041', '6829-68771-0003', '2078-142845-0011', '5105-28240-0018', '1272-135031-0007', '5105-28240-0016', '5142-33396-0030', '7021-85628-0016', '5683-32879-0009', '4507-16021-0056', '6241-61946-0012', '6295-64301-0009', '2428-83699-0033', '2428-83699-0030', '7976-110124-0000', '7976-110124-0004', '6295-244435-0003', '5683-32865-0015', '6295-244435-0024', '4507-16021-0037', '7976-110124-0021', '7976-110124-0023', '5142-33396-0020', '4507-16021-0043', '6241-61946-0005', '7976-110124-0024', '4507-16021-0050', '7021-79740-0009', '3853-163249-0050', '6241-61943-0009', '8555-292519-0010', '4970-29095-0005', '6313-76958-0006', '2277-149897-0015', '4970-29095-0017', '1988-24833-0019', '1284-1181-0005', '2277-149897-0024', '2277-149897-0030', '908-157963-0030', '4446-2273-0027', '4970-29093-0004', '237-126133-0012', '4970-29093-0008', '1988-24833-0022', '8555-284447-0020', '174-168635-0022', '174-168635-0017', '3536-8226-0029', '2094-142345-0055', '652-130726-0025', '5895-34629-0031', '61-70968-0037', '8297-275155-0003', '1462-170142-0022', '8297-275155-0007', '7127-75946-0008', '1188-133604-0031', '174-168635-0001', '652-129742-0011', '652-129742-0010', '61-70968-0001', '1988-147956-0010', '1462-170142-0023', '4446-2275-0010', '7729-102255-0025', '3853-163249-0040', '1580-141084-0014', '7729-102255-0023', '8555-292519-0013', '6313-76958-0028', '2277-149896-0012', '3575-170457-0032', '4446-2271-0019', '1462-170142-0027', '8555-284449-0006', '237-134500-0007', '1462-170145-0014', '6930-75918-0011', '2277-149874-0017', '2277-149874-0013', '4446-2275-0032', '2412-153954-0002', '1919-142785-0009', '1272-141231-0021', '6313-76958-0027', '6829-68769-0011', '1580-141083-0023', '7976-110523-0019', '3752-4943-0013', '5694-64038-0005', '6829-68769-0002', '1988-147956-0018', '6241-61943-0004', '422-122949-0035', '1580-141083-0041', '2902-9006-0006', '3536-8226-0028', '6241-61943-0001', '2412-153948-0005', '1988-24833-0025', '6313-66125-0014', '6930-81414-0024', '1580-141083-0046', '5694-64038-0024', '2412-153954-0013', '6930-75918-0002', '6313-66129-0000', '5694-64029-0010', '2412-153948-0002', '422-122949-0028', '1919-142785-0034', '5694-64029-0027', '1580-141084-0021', '1988-24833-0023', '3752-4943-0029', '7976-105575-0010', '5536-43359-0010', '121-127105-0036', '2412-153954-0022', '6313-66129-0005', '1272-128104-0008', '6319-275224-0000', '6319-64726-0006', '1580-141083-0040', '5694-64038-0013', '61-70968-0009', '6345-64257-0014', '260-123288-0016', '61-70968-0006', '174-84280-0010', '7127-75946-0007', '61-70968-0004', '260-123288-0020', '7127-75946-0004', '4970-29093-0014', '237-126133-0016', '1462-170138-0001', '237-126133-0021', '2428-83699-0032', '2428-83699-0028', '1462-170138-0016', '1462-170142-0011', '6345-93302-0008', '5142-33396-0003', '5895-34622-0018', '6345-93302-0019', '4446-2275-0038', '2277-149874-0004', '4446-2271-0006', '2277-149896-0028', '4446-2271-0010', '61-70970-0003', '5895-34615-0013', '61-70968-0060', '4507-16021-0046', '1284-1180-0027', '5895-34629-0025', '61-70968-0044', '2300-131720-0006', '1993-147964-0006', '3170-137482-0016', '260-123286-0031', '5895-34622-0007', '5895-34622-0012', '5895-34629-0016', '61-70970-0010', '1462-170142-0037', '1462-170145-0001', '2086-149220-0024', '2086-149220-0026', '1089-134686-0032', '1089-134686-0029', '6295-244435-0040', '2086-149220-0038', '5683-32866-0028', '6295-244435-0021', '2086-149220-0047', '5338-284437-0016', '1089-134686-0004', '7850-281318-0007', '8455-210777-0067', '8455-210777-0056', '5142-33396-0063', '8455-210777-0048', '1993-147966-0006', '1221-135766-0014', '5142-36586-0000', '237-134500-0028', '5683-32866-0002', '2428-83705-0021', '1462-170145-0006', '2428-83705-0019', '1462-170145-0013', '2428-83705-0016', '4077-13751-0013', '2428-83705-0007', '2428-83705-0000', '4507-16021-0052', '237-134500-0014', '2078-142845-0040', '3575-170457-0034', '3853-163249-0035', '8555-292519-0012', '5683-32879-0001', '5683-32879-0022', '5683-32879-0023', '6295-64301-0025', '237-134500-0016', '4446-2275-0035', '2300-131720-0041', '4446-2275-0028', '6829-68769-0039', '8463-294828-0019', '8842-302203-0007', '777-126732-0021', '7176-88083-0016', '777-126732-0012', '8842-304647-0012', '777-126732-0008', '4446-2275-0034', '672-122797-0056', '3000-15664-0039', '3000-15664-0029', '672-122797-0050', '6829-68769-0051', '2094-142345-0035', '908-157963-0013', '2803-154320-0010', '777-126732-0044', '652-130726-0030', '7176-92135-0037', '6829-68769-0035', '6829-68769-0028', '2035-147960-0012', '3081-166546-0006', '3081-166546-0009', '3081-166546-0010', '2035-147960-0006', '3081-166546-0019', '3752-4944-0065', '3081-166546-0028', '8463-287645-0012', '3081-166546-0044', '2035-147961-0012', '8463-294828-0032', '3081-166546-0056', '777-126732-0074', '3081-166546-0059', '777-126732-0068', '7176-92135-0032', '908-157963-0022', '1993-147965-0000', '652-130737-0011', '251-137823-0006', '4446-2273-0018', '672-122797-0003', '652-129742-0000', '2277-149897-0009', '2803-154328-0014', '652-129742-0002', '2277-149897-0011', '652-130737-0005', '2803-154320-0013', '61-70970-0014', '2277-149897-0031', '4446-2275-0015', '652-129742-0014', '251-136532-0013', '672-122797-0032', '2277-149897-0023', '2277-149897-0012', '4446-2273-0012', '2803-154328-0022', '5694-64029-0000', '2086-149220-0045', '2086-149220-0042', '6319-275224-0004', '8463-287645-0009', '8463-294828-0037', '6930-76324-0024', '61-70968-0056', '2086-149220-0046', '61-70970-0002', '4992-41797-0000', '3081-166546-0013', '8455-210777-0025', '6930-76324-0014', '6319-64726-0003', '3081-166546-0003', '61-70970-0012', '7850-281318-0022', '6319-275224-0013', '1580-141084-0000', '6319-64726-0010', '251-137823-0020', '2902-9006-0000', '1089-134691-0014', '61-70970-0020', '4992-41797-0006', '7850-281318-0012', '5694-64029-0029', '1988-147956-0023', '1580-141083-0021', '174-168635-0015', '4970-29093-0015', '1580-141083-0013', '3570-5694-0012', '672-122797-0040', '672-122797-0048', '237-126133-0025', '1462-170138-0025', '1988-147956-0002', '1462-170142-0036', '5694-64029-0008', '237-134493-0013', '61-70968-0013', '7127-75946-0009', '1462-170145-0005', '5895-34622-0020', '672-122797-0069', '2086-149220-0007', '3081-166546-0052', '251-137823-0003', '3081-166546-0080', '3853-163249-0055', '237-134500-0023', '2086-149220-0021', '1988-148538-0002', '3570-5694-0019', '61-70968-0040', '61-70968-0025', '237-134500-0011', '672-122797-0015', '1462-170145-0016', '3729-6852-0019', '7127-75947-0013', '5338-284437-0005', '5142-33396-0049', '1272-141231-0011', '7021-79759-0002', '6345-93306-0021', '1272-141231-0007', '6345-93306-0008', '5142-33396-0018', '908-157963-0016', '2428-83705-0041', '4507-16021-0045', '6930-81414-0022', '6313-66129-0009', '4507-16021-0051', '1272-128104-0006', '2094-142345-0018', '6313-66129-0004', '6241-61946-0010', '6313-66129-0002', '4507-16021-0059', '2277-149897-0037', '777-126732-0010', '7176-88083-0009', '260-123288-0022', '5142-33396-0009', '260-123288-0017', '6345-64257-0008', '2412-153954-0005', '2277-149897-0006', '2277-149896-0031', '4446-2271-0024', '1284-1180-0011', '652-130737-0006', '6930-81414-0007', '6313-66129-0027', '1284-1181-0007', '3170-137482-0045', '2428-83705-0013', '652-129742-0007', '4446-2273-0002', '5142-33396-0002', '260-123440-0008', '260-123288-0001', '260-123288-0008', '1995-1826-0022', '1188-133604-0014', '260-123288-0009', '2094-142345-0050', '6241-66616-0002', '260-123286-0000', '777-126732-0029', '3000-15664-0046', '2428-83705-0005', '2035-147961-0019', '5683-32866-0025', '2035-147961-0020', '5683-32866-0027', '2035-147961-0029', '6295-244435-0007', '7976-105575-0023', '3752-4944-0056', '7976-105575-0021', '2035-147960-0007', '3752-4944-0002', '1995-1826-0002', '7976-105575-0018', '5142-33396-0056', '5142-33396-0057', '5142-33396-0062', '3752-4944-0051', '5142-33396-0064', '1995-1826-0015', '2035-147960-0011', '3752-4944-0034', '6930-76324-0009', '7976-105575-0019', '6295-64301-0001', '7976-110124-0016', '7176-92135-0007', '2078-142845-0046', '5105-28241-0013', '6829-68771-0014', '2078-142845-0038', '2035-147961-0001', '6295-64301-0017', '5683-32866-0006', '5683-32866-0007', '5142-33396-0035', '2277-149897-0027', '5683-32866-0014', '6313-66125-0003', '2035-147961-0006', '6930-76324-0003', '3752-4943-0028', '6295-64301-0012', '6295-64301-0007', '3729-6852-0038', '3570-5695-0000', '3570-5694-0022', '8297-275154-0011', '8463-294828-0012', '4446-2273-0029', '672-122797-0074', '121-127105-0006', '672-122797-0034', '8463-294825-0010', '5694-64025-0004', '3752-4943-0020', '672-122797-0021', '7176-92135-0003', '2412-153954-0024', '4446-2273-0009', '8463-294828-0020', '2094-142345-0032', '672-122797-0030', '7729-102255-0035', '3752-4944-0059', '4446-2273-0019', '7176-92135-0024', '2902-9006-0011', '4446-2275-0021', '4077-13754-0000', '5105-28233-0004', '237-134500-0006', '237-134500-0008', '5105-28240-0017', '237-134500-0021', '5683-32879-0005', '1272-135031-0004', '5683-32866-0017', '1089-134686-0037', '5683-32866-0018', '5105-28233-0001', '1089-134686-0034', '7976-110124-0022', '1089-134686-0026', '4992-41806-0009', '5683-32866-0030', '7976-110124-0005', '1995-1837-0009', '7976-105575-0022', '1089-134691-0005', '8455-210777-0050', '1995-1826-0019', '6930-76324-0013', '5683-32866-0020', '3729-6852-0014', '1919-142785-0015', '1272-135031-0020', '61-70970-0027', '4446-2275-0022', '4446-2275-0036', '4446-2271-0005', '4446-2271-0012', '1284-1180-0012', '61-70968-0055', '1284-1181-0002', '2300-131720-0000', '8297-275154-0026', '8297-275156-0001', '1919-142785-0012', '7729-102255-0005', '260-123440-0020', '61-70968-0016', '61-70968-0015', '1272-141231-0032', '1272-141231-0019', '4970-29095-0022', '4970-29095-0002', '8297-275155-0031', '237-134493-0012', '1580-141083-0008', '4507-16021-0055', '61-70968-0022', '6930-81414-0020', '2412-153948-0015', '6241-61943-0010', '1462-170142-0026', '5536-43359-0014', '908-31957-0007', '6313-66125-0020', '6295-244435-0023', '174-168635-0006', '5142-33396-0028', '1462-170142-0031', '908-157963-0005', '3853-163249-0056', '908-31957-0006', '1462-170142-0025', '1988-24833-0015', '6295-64301-0031', '251-136532-0018', '8555-292519-0008', '7850-286674-0015', '5895-34622-0006', '251-118436-0005', '5895-34622-0004', '6295-244435-0013', '5895-34622-0003', '7850-281318-0001', '6295-244435-0012', '1580-141084-0045', '1988-147956-0016', '6313-66125-0008', '2078-142845-0018', '2035-147961-0014', '7127-75946-0024', '6345-93302-0025', '777-126732-0073', '2086-149220-0032', '1462-170138-0014', '1462-170138-0015', '1462-170138-0018', '6319-275224-0016', '2035-147960-0004', '6345-93302-0010', '6295-244435-0032', '5142-36377-0000', '1462-170138-0027', '2803-154328-0010', '908-31957-0013', '5338-24615-0012', '8842-302201-0009', '777-126732-0027', '5338-284437-0027', '174-168635-0013', '6295-244435-0037', '2803-154328-0023', '6829-68769-0007', '5536-43358-0012', '652-129742-0020', '2035-147961-0013', '6313-66129-0022', '7850-281318-0002', '6241-61946-0008', '3081-166546-0040', '422-122949-0016', '2277-149897-0020', '6829-68771-0023', '251-137823-0013', '5895-34615-0003', '3576-138058-0013', '2428-83705-0029', '908-157963-0027', '6241-61946-0001', '2428-83699-0019', '3570-5696-0004', '2277-149896-0025', '2428-83699-0036', '2277-149897-0021', '3081-166546-0034', '251-137823-0009', '6345-93306-0006', '5694-64029-0009', '6241-61946-0021', '2277-149896-0019', '2277-149874-0009', '6829-68771-0022', '6241-61946-0018', '6241-61943-0023', '2428-83705-0020', '2428-83705-0040', '5694-64029-0003', '2277-149896-0015', '5895-34629-0009', '908-31957-0002', '8555-284447-0022', '1272-141231-0018', '174-50561-0005', '6345-93302-0007', '61-70970-0018', '5142-33396-0021', '251-118436-0007', '6313-76958-0024', '7976-105575-0012', '3570-5695-0009', '3570-5695-0010', '2803-161169-0016', '7021-79740-0001', '3752-4944-0062', '4507-16021-0035', '2902-9006-0020', '2803-154328-0005', '6313-76958-0026', '2428-83699-0002', '2035-147961-0040', '2803-154328-0007', '251-118436-0015', '7976-105575-0009', '5683-32879-0007', '6829-68769-0022', '1089-134686-0015', '6313-66125-0004', '5338-284437-0015', '672-122797-0007', '5142-33396-0011', '5142-33396-0022', '3536-8226-0012', '174-84280-0003', '251-118436-0000', '61-70968-0008', '6313-66129-0010', '7021-85628-0022', '6345-93306-0011', '1272-135031-0006', '3536-8226-0030', '2428-83705-0017', '6829-68771-0020', '6829-68769-0003', '174-84280-0008', '251-136532-0010', '5142-33396-0010', '4507-16021-0048', '5338-284437-0028', '4992-41797-0010', '4970-29093-0020', '6313-76958-0011', '4992-41797-0011', '3729-6852-0028', '2428-83705-0032', '1993-147964-0003', '3752-4943-0021', '5105-28240-0012', '6313-66129-0031', '6313-66125-0019', '5536-43359-0006', '251-118436-0008', '8455-210777-0023', '5105-28241-0012', '1580-141083-0024', '4446-2275-0006', '652-130737-0010', '3000-15664-0025', '3081-166546-0037', '8463-287645-0010', '4446-2273-0034', '1995-1837-0029', '5142-36377-0017', '7127-75947-0035', '1580-141084-0010', '1580-141083-0015', '8297-275156-0009', '1995-1837-0015', '7176-88083-0014', '260-123286-0007', '8463-294825-0005', '1580-141083-0003', '1580-141083-0004', '8463-287645-0000', '1221-135767-0005', '2277-149896-0011', '3575-170457-0021', '8463-294828-0029', '121-121726-0003', '1988-147956-0021', '8297-275155-0019', '121-121726-0007', '8842-302201-0007', '121-121726-0009', '1462-170142-0040', '3081-166546-0043', '1462-170142-0039', '237-126133-0013', '7729-102255-0014', '652-129742-0005', '3000-15664-0018', '8463-294828-0009', '4446-2271-0003', '2277-149896-0006', '5683-32866-0016', '5694-64029-0026', '7176-92135-0041', '4446-2275-0042', '260-123286-0015', '7176-92135-0045', '2902-9008-0009', '5694-64025-0001', '7176-88083-0012', '237-134500-0010', '6295-64301-0013', '6241-61943-0011', '1089-134686-0031', '1462-170138-0007', '1580-141083-0025', '4446-2275-0041', '6319-275224-0019', '237-134500-0040', '777-126732-0032', '7176-88083-0005', '260-123286-0013', '2803-161169-0002', '6295-64301-0005', '1988-148538-0003', '5694-64025-0009', '7127-75947-0007', '2035-147961-0008', '2277-149874-0012', '652-129742-0013', '8455-210777-0052', '1188-133604-0033', '3853-163249-0023', '652-129742-0018', '2277-149896-0018', '7729-102255-0029', '6313-76958-0016', '2277-149874-0007', '4446-2273-0015', '4507-16021-0033', '2277-149896-0023', '2428-83699-0020', '652-130737-0001', '61-70968-0061', '2428-83699-0037', '2277-149874-0002', '4446-2275-0001', '2277-149896-0026', '2277-149897-0028', '251-137823-0011', '2277-149897-0013', '260-123286-0030', '1462-170142-0038', '7729-102255-0031', '777-126732-0009', '7176-88083-0017', '1462-170142-0002', '7850-286674-0002', '6829-68769-0020', '5338-284437-0007', '7176-88083-0006', '174-50561-0006', '7176-88083-0000', '5142-36377-0006', '777-126732-0006', '6829-68769-0026', '2035-147960-0014', '260-123440-0012', '260-123440-0011', '5142-36377-0015', '237-126133-0022', '2035-147961-0036', '2035-147961-0023', '5142-33396-0001', '6829-68769-0033', '7176-92135-0008', '3752-4944-0048', '5895-34629-0027', '908-31957-0012', '3170-137482-0030', '2277-149896-0005', '237-134500-0002', '1188-133604-0017', '652-130726-0007', '1462-170145-0017', '1188-133604-0010', '4077-13754-0003', '237-134493-0018', '2094-142345-0053', '237-134500-0032', '121-127105-0007', '1089-134691-0022', '5142-33396-0007', '3752-4943-0011', '2300-131720-0024', '6313-66125-0017', '7850-286674-0003', '121-127105-0001', '5142-36377-0020', '4970-29095-0006', '3752-4943-0022', '6345-64257-0016', '61-70968-0003', '4970-29095-0035', '251-137823-0014', '1919-142785-0003', '6295-64301-0020', '1272-141231-0003', '1993-147966-0004', '8297-275156-0006', '3570-5694-0013', '1988-147956-0012', '1272-128104-0010', '2902-9008-0007', '6930-76324-0023', '8842-302203-0003', '2428-83705-0023', '8842-302203-0008', '5683-32865-0017', '8463-294828-0014', '6319-275224-0010', '1988-24833-0021', '5683-32866-0005', '5683-32865-0011', '1988-24833-0012', '1272-135031-0003', '6295-64301-0016', '1988-24833-0007', '1919-142785-0044', '5536-43363-0015', '672-122797-0073', '6295-244435-0029', '672-122797-0061', '7127-75947-0003', '2803-161169-0011', '1919-142785-0026', '5142-33396-0046', '3729-6852-0018', '5694-64025-0015', '1580-141083-0016', '2428-83705-0043', '6295-64301-0027', '422-122949-0033', '3576-138058-0030', '7021-85628-0005', '6319-57405-0002', '1580-141083-0045', '6241-66616-0016', '3081-166546-0020', '3081-166546-0024', '5142-33396-0036', '3570-5696-0006', '7976-105575-0025', '7021-79740-0003', '2803-154320-0003', '7976-105575-0004', '4507-16021-0049', '7850-281318-0023', '5694-64029-0022', '1580-141084-0034', '3081-166546-0011', '6295-64301-0002', '6295-64301-0006', '1995-1826-0016', '237-134500-0039', '7021-85628-0002', '1462-170138-0022', '1919-142785-0038', '260-123286-0005', '1995-1826-0018', '777-126732-0051', '2035-147961-0037', '8555-284447-0007', '4970-29095-0036', '121-127105-0022', '777-126732-0075', '2086-149220-0040', '7176-88083-0020', '777-126732-0042', '5694-64038-0014', '5142-36377-0010', '3570-5694-0004', '5142-33396-0068', '777-126732-0061', '5142-33396-0038', '260-123286-0016', '6930-76324-0012', '4970-29095-0034', '908-31957-0020', '1462-170142-0012', '1188-133604-0036', '1188-133604-0043', '7729-102255-0030', '8463-294828-0027', '237-134500-0024', '6295-244435-0002', '8297-275154-0025', '652-129742-0006', '1988-147956-0029', '3081-166546-0042', '4446-2273-0021', '4446-2271-0013', '4446-2273-0023', '4446-2273-0025', '652-130737-0002', '3576-138058-0032', '2277-149897-0036', '5142-33396-0053', '5694-64029-0013', '2277-149874-0005', '2277-149874-0015', '8297-275155-0001', '4970-29095-0016', '1284-1180-0029', '8555-284449-0020', '672-122797-0066', '1919-142785-0022', '2300-131720-0040', '6295-244435-0031', '237-134493-0006', '6295-244435-0025', '2094-142345-0021', '6829-68769-0052', '1988-24833-0005', '8842-302196-0004', '237-126133-0011', '8463-294828-0002', '5683-32865-0010', '237-134493-0015', '5683-32865-0013', '8297-275155-0020', '4077-13754-0004', '652-130726-0009', '1988-147956-0007', '1284-1181-0003', '4077-13751-0017', '3575-170457-0010', '6829-68769-0030', '2277-149874-0018', '2035-147960-0016', '3729-6852-0024', '6930-76324-0005', '6241-61946-0000', '5536-43358-0003', '5895-34629-0011', '5105-28240-0022', '6241-61946-0017', '61-70968-0005', '6313-76958-0007', '251-137823-0016', '7976-110124-0014', '6345-93302-0003', '1993-147964-0001', '251-136532-0002', '7850-281318-0008', '2412-153954-0011', '6313-66129-0035', '61-70968-0032', '5105-28241-0019', '5536-43359-0015', '7976-110523-0001', '4507-16021-0023', '5142-33396-0023', '6313-66129-0025', '2078-142845-0021', '1272-135031-0017', '6345-93306-0005', '5895-34622-0023', '260-123288-0027', '260-123440-0016', '251-118436-0020', '6829-68771-0011', '251-137823-0008', '7976-110523-0021', '1580-141084-0042', '1272-141231-0027', '7021-85628-0021', '6241-61946-0002', '251-118436-0014', '6345-93302-0004', '6930-76324-0006', '7850-281318-0019', '7976-105575-0024', '6930-81414-0006', '1988-147956-0011', '1284-1181-0008', '6829-68771-0015', '2428-83705-0024', '3000-15664-0007', '6829-68771-0036', '7127-75947-0015', '6345-93306-0016', '1089-134691-0001', '5142-36586-0003', '121-121726-0000', '6829-68771-0006', '1284-1181-0015', '652-130726-0027', '908-31957-0003', '2094-142345-0056', '5142-33396-0015', '1221-135767-0024', '6345-93306-0002', '6313-66129-0013', '8842-302203-0011', '1272-128104-0000', '5105-28241-0000', '237-134500-0000', '3729-6852-0037', '6930-75918-0006', '1995-1836-0008', '6829-68771-0030', '3575-170457-0048', '5694-64029-0006', '4507-16021-0042', '2277-149897-0025', '1580-141083-0020', '4446-2275-0012', '8463-287645-0011', '1995-1837-0016', '3570-5695-0013', '6241-61943-0018', '3081-166546-0016', '2277-149897-0010', '3081-166546-0012', '6241-61943-0012', '3576-138058-0025', '4446-2275-0016', '6829-68771-0027', '6313-76958-0017', '4446-2273-0028', '8297-275156-0008', '6829-68771-0035', '3853-163249-0043', '1188-133604-0039', '3081-166546-0061', '61-70970-0007', '6829-68771-0033', '1988-147956-0022', '4507-16021-0025', '2277-149896-0020', '2277-149874-0016', '8455-210777-0064', '7850-111771-0001', '6829-68771-0032', '6930-75918-0015', '652-130737-0003', '2412-153947-0016', '1284-1180-0028', '3000-15664-0009', '237-134500-0033', '6241-61943-0005', '7976-105575-0014', '1995-1826-0012', '6319-275224-0017', '61-70968-0000', '8842-302201-0013', '1919-142785-0045', '6345-64257-0007', '908-31957-0014', '1988-148538-0008', '672-122797-0016', '6829-68769-0040', '8842-302201-0008', '260-123286-0009', '5536-43358-0004', '1995-1826-0020', '1580-141084-0039', '7021-85628-0008', '1580-141084-0040', '237-126133-0017', '174-168635-0016', '3752-4944-0013', '2078-142845-0014', '7021-85628-0010', '6295-64301-0019', '5683-32879-0020', '2902-9008-0004', '251-118436-0016', '2803-154328-0011', '2078-142845-0017', '251-136532-0001', '6930-76324-0017', '6313-66125-0005', '6313-66125-0007', '6313-66125-0021', '7127-75946-0020', '5536-43359-0012', '1580-141083-0007', '1988-24833-0002', '8455-210777-0028', '5683-32865-0008', '61-70968-0023', '2078-142845-0045', '7976-105575-0005', '1580-141084-0009', '5142-36377-0018', '4992-41806-0012', '7021-85628-0020', '4992-41797-0020', '777-126732-0002', '672-122797-0012', '6345-93302-0017', '672-122797-0072', '260-123286-0003', '8455-210777-0017', '1462-170142-0009', '8842-302196-0008', '1919-142785-0028', '1580-141084-0011', '1089-134686-0021', '6829-68769-0031', '8455-210777-0005', '7176-88083-0019', '3570-5694-0001', '61-70968-0030', '1919-142785-0032', '777-126732-0004', '8455-210777-0018', '1089-134686-0025', '908-31957-0023', '908-31957-0024', '2277-149874-0010', '5683-32879-0014', '3576-138058-0026', '4992-41797-0022', '1995-1837-0027', '2428-83699-0007', '1995-1826-0023', '5142-36377-0024', '5105-28240-0019', '5142-36377-0003', '6345-93306-0020', '6295-244435-0030', '5142-33396-0012', '3170-137482-0037', '7729-102255-0021', '1284-1181-0009', '5105-28240-0004', '5142-33396-0044', '1089-134686-0002', '6295-64301-0021', '5105-28240-0005', '4507-16021-0053', '3575-170457-0022', '5105-28240-0011', '1995-1837-0004', '3576-138058-0012', '2428-83699-0027', '4446-2271-0018', '2086-149220-0029', '2086-149220-0031', '6345-64257-0018', '5142-36377-0002', '1221-135766-0004', '7021-79740-0007', '7127-75946-0015', '7976-110523-0003', '3752-4943-0024', '7976-110124-0015', '61-70970-0021', '3000-15664-0014', '7976-110124-0011', '7976-110124-0010', '7976-110124-0008', '237-134493-0011', '672-122797-0013', '1462-170142-0041', '251-137823-0022', '2094-142345-0051', '7976-105575-0011', '5536-43358-0015', '2803-154328-0009', '7976-105575-0007', '2803-154328-0008', '251-118436-0011', '7729-102255-0045', '7976-105575-0027', '7729-102255-0039', '6930-76324-0002', '251-136532-0021', '777-126732-0059', '777-126732-0058', '6829-68769-0036', '4970-29095-0032', '777-126732-0040', '7176-92135-0044', '1272-141231-0005', '1995-1837-0024', '4970-29095-0037', '4970-29093-0007', '1272-128104-0005', '6241-61946-0014', '6241-61946-0016', '1272-141231-0029', '1462-170142-0006', '7176-88083-0026', '2035-147961-0011', '6930-81414-0008', '1462-170142-0020', '121-127105-0003', '3570-5695-0003', '6319-57405-0005', '5536-43358-0019', '6319-64726-0013', '237-126133-0005', '3752-4944-0039', '5338-284437-0004', '174-84280-0006', '8297-275156-0011', '5338-284437-0021', '5338-284437-0024', '1988-147956-0028', '61-70968-0024', '8297-275154-0019', '1580-141083-0042', '5338-284437-0030', '8463-287645-0013', '8463-294825-0001', '2277-149897-0014', '2277-149897-0003', '6313-66129-0008', '3853-163249-0021', '1580-141083-0044', '8297-275155-0022', '652-129742-0004', '8842-302201-0012', '6319-64726-0015', '6930-76324-0020', '7729-102255-0033', '2035-147961-0039', '6319-275224-0015', '2035-147960-0003', '5895-34615-0015', '2035-147960-0008', '1580-141083-0002', '1272-141231-0009', '121-127105-0034', '1919-142785-0013', '4446-2273-0005', '8842-302196-0007', '672-122797-0070', '2412-153948-0008', '5895-34615-0019', '61-70968-0033', '5142-36377-0004', '3752-4943-0003', '2428-83699-0029', '251-137823-0010', '6241-61943-0025', '6313-66129-0023', '3853-163249-0026', '7850-281318-0017', '61-70970-0016', '6313-76958-0018', '7850-281318-0011', '1089-134691-0006', '5536-43359-0005', '7850-111771-0002', '1995-1826-0017', '1919-142785-0031', '1988-24833-0003', '1993-147965-0008', '8842-304647-0008', '6295-244435-0018', '1995-1836-0001', '1988-148538-0007', '1995-1826-0009', '3081-166546-0087', '5142-33396-0059', '8463-294828-0033', '8297-275154-0002', '3576-138058-0021', '3081-166546-0029', '5694-64029-0028', '8297-275155-0002', '1272-141231-0014', '2803-161169-0001', '1993-147965-0003', '1272-128104-0007', '6241-61946-0009', '7850-111771-0008', '8455-210777-0031', '3729-6852-0044', '2078-142845-0050', '251-136532-0015', '6319-275224-0018', '2078-142845-0034', '7976-110124-0013', '8455-210777-0024', '672-122797-0020', '7976-105575-0015', '8455-210777-0002', '2902-9008-0010', '1580-141084-0016', '2078-142845-0027', '6829-68769-0005', '3853-163249-0025', '908-157963-0025', '652-130726-0014', '2300-131720-0038', '652-130726-0012', '4970-29093-0009', '7729-102255-0002', '121-127105-0031', '1462-170142-0016', '3170-137482-0048', '3575-170457-0007', '2035-147961-0018', '2277-149896-0017', '3752-4944-0064', '4077-13751-0001', '4446-2273-0004', '260-123286-0026', '652-130726-0003', '8555-284449-0016', '1462-170138-0008', '4077-13751-0010', '1188-133604-0038', '260-123286-0023', '121-127105-0012', '4970-29095-0024', '7176-88083-0010', '7729-102255-0038', '2300-131720-0036', '3575-170457-0051', '3575-170457-0050', '3170-137482-0041', '2094-142345-0023', '2086-149214-0001', '6345-64257-0019', '3853-163249-0020', '4446-2275-0019', '4446-2271-0001', '6345-93302-0012', '3575-170457-0045', '3000-15664-0002', '652-130726-0017', '6829-68769-0023', '237-134500-0036', '237-134493-0001', '8555-284449-0008', '4446-2275-0005', '6829-68769-0049', '260-123440-0015', '6345-93302-0015', '5338-24615-0001', '2094-142345-0052', '1993-147964-0004', '6319-275224-0002', '3853-163249-0003', '6319-64726-0017', '2803-154328-0017', '2902-9008-0012', '1284-1181-0010', '2803-154328-0012', '6930-76324-0008', '8555-292519-0005', '3570-5694-0005', '2902-9006-0012', '5536-43358-0011', '6319-64726-0011', '6313-66125-0011', '5683-32866-0011', '4446-2273-0022', '3081-166546-0079', '1988-147956-0019', '4446-2271-0008', '3853-163249-0037', '3575-170457-0029', '2277-149896-0024', '3575-170457-0047', '3576-138058-0034', '3575-170457-0040', '5694-64029-0012', '1580-141083-0027', '4446-2275-0026', '5694-64038-0003', '3576-138058-0018', '7127-75947-0024', '8297-275155-0015', '3853-163249-0008', '3575-170457-0014', '6295-64301-0010', '1284-1180-0020', '8842-302201-0011', '5683-32866-0021', '3575-170457-0019', '2094-142345-0039', '1993-147965-0007', '1919-142785-0018', '237-134500-0022', '652-129742-0012', '1988-24833-0004', '1988-24833-0009', '4446-2271-0020', '3575-170457-0054', '6295-64301-0015', '2300-131720-0008', '5536-43359-0018', '2078-142845-0019', '6829-68769-0034', '2428-83705-0033', '6241-66616-0017', '2428-83705-0038', '2094-142345-0036', '1272-141231-0025', '2086-149220-0036', '3170-137482-0006', '5142-33396-0019', '2412-153947-0002', '7176-92135-0001', '8455-210777-0059', '6345-93302-0026', '251-137823-0018', '7176-88083-0002', '6829-68769-0032', '260-123440-0010', '2035-147960-0005', '8455-210777-0070', '3752-4944-0047', '6313-66129-0020', '5895-34615-0017', '5895-34629-0023', '61-70968-0050', '84-121550-0010', '84-121550-0015', '84-121550-0026', '84-121550-0032', '5338-284437-0010', '6345-64257-0013', '7850-281318-0013', '6829-68771-0024', '1272-141231-0022', '7176-88083-0004', '908-31957-0009', '237-134493-0004', '2094-142345-0005', '121-127105-0005', '7976-110523-0007', '121-127105-0011', '251-136532-0007', '3000-15664-0022', '5536-43363-0016', '7021-85628-0012', '5142-33396-0024', '5536-43359-0004', '5536-43359-0016', '8455-210777-0039', '5105-28241-0016', '8455-210777-0041', '5536-43359-0017', '777-126732-0023', '6829-68769-0053', '5142-36377-0001', '2428-83705-0018', '2086-149220-0023', '6313-66125-0010', '251-118436-0006', '121-127105-0013', '174-168635-0010', '7850-281318-0006', '237-126133-0010', '4992-41797-0004', '237-134500-0037', '7127-75946-0012', '3853-163249-0019', '61-70968-0026', '4970-29093-0023', '4970-29093-0022', '8455-210777-0044', '5895-34615-0010', '2803-161169-0006', '2803-161169-0003', '251-118436-0013', '3853-163249-0041', '3853-163249-0007', '3570-5695-0008', '8842-302196-0009', '3853-163249-0038', '8842-302196-0006', '8455-210777-0053', '3729-6852-0011', '7021-79740-0002', '8455-210777-0058', '8842-302196-0002', '672-122797-0038', '1995-1826-0011', '3575-170457-0011', '3575-170457-0005', '7850-111771-0009', '3570-5696-0002', '7176-92135-0036', '652-130726-0019', '6345-93306-0018', '5536-43359-0009', '7729-102255-0036', '652-130726-0000', '5683-32879-0010', '6345-93306-0007', '5142-33396-0033', '2078-142845-0013', '7021-85628-0009', '84-121550-0006', '5105-28240-0015', '2078-142845-0020', '84-121550-0004', '7729-102255-0028', '2428-83699-0042', '1919-142785-0043', '6313-66129-0018', '908-31957-0008', '6241-61946-0004', '2300-131720-0005', '1284-1180-0002', '1284-1180-0005', '2412-153948-0009', '6241-61943-0003', '652-130726-0020', '260-123286-0027', '7976-110523-0002', '6313-66129-0003', '260-123440-0019', '121-127105-0028', '6930-76324-0004', '777-126732-0035', '7176-88083-0003', '1580-141083-0037', '3576-138058-0040', '777-126732-0011', '1995-1836-0003', '6829-68769-0021', '2094-142345-0001', '422-122949-0031', '5338-24615-0011', '6930-76324-0021', '6295-244435-0022', '260-123286-0028', '3000-15664-0028', '3752-4944-0017', '5536-43359-0013', '1919-142785-0023', '5338-24615-0013', '8297-275154-0010', '422-122949-0008', '2086-149220-0034', '7976-105575-0008', '5536-43358-0010', '6241-61943-0013', '3170-137482-0005', '8555-292519-0007', '3729-6852-0029', '3170-137482-0034', '1284-1180-0032', '1580-141084-0049', '6829-68771-0018', '3170-137482-0019', '7176-92135-0017', '3853-163249-0051', '5536-43363-0002', '7127-75946-0013', '3575-170457-0012', '7176-92135-0015', '5142-33396-0054', '777-126732-0048', '7176-92135-0042', '1462-170142-0004', '6829-68769-0048', '3000-15664-0016', '5338-284437-0031', '652-130726-0026', '84-121550-0033', '1462-170145-0007', '1462-170145-0015']\n"
          ],
          "name": "stdout"
        }
      ]
    },
    {
      "cell_type": "code",
      "metadata": {
        "id": "Jrn0TPA81VnB",
        "colab": {
          "base_uri": "https://localhost:8080/"
        },
        "outputId": "b33a1349-5cd4-4ab2-809d-8937bc404f6d"
      },
      "source": [
        "# INTERSECTION OF THE 2 FILTERS\n",
        "intersect = []\n",
        "for sentence in data_filters:\n",
        "  if sentence in data_wer:\n",
        "    intersect.append(sentence)\n",
        "print(\"Number of lines in the intersection of the 2 filter branches:\", len(intersect))"
      ],
      "execution_count": 50,
      "outputs": [
        {
          "output_type": "stream",
          "text": [
            "Number of lines in the intersection of the 2 filter branches: 702\n"
          ],
          "name": "stdout"
        }
      ]
    },
    {
      "cell_type": "code",
      "metadata": {
        "id": "Nh5W0P9EJYSk"
      },
      "source": [
        "# Grouping them per book of origin\n",
        "dict_books = {}\n",
        "\n",
        "for chapter in chapters_table:\n",
        "  if chapter[2] not in dict_books.keys():\n",
        "    dict_books[chapter[2]] = []\n",
        "\n",
        "for sentence in intersect:\n",
        "  chapter_code = sentence.split('-')[1]\n",
        "  flag = False\n",
        "  for chapter in chapters_table:\n",
        "    if chapter_code == chapter[0]:\n",
        "      dict_books[chapter[2]].append(sentence)\n",
        "      \n",
        "      flag = True\n",
        "  if not flag:\n",
        "    print(\"ERROR: chapter %s didn't find his book\"%chapter)\n"
      ],
      "execution_count": 44,
      "outputs": []
    },
    {
      "cell_type": "code",
      "metadata": {
        "id": "7XyYxIhsQ6PQ",
        "colab": {
          "base_uri": "https://localhost:8080/"
        },
        "outputId": "17dc583c-6136-4aa8-e37b-717527271ee6"
      },
      "source": [
        "print(dict_books)"
      ],
      "execution_count": 45,
      "outputs": [
        {
          "output_type": "stream",
          "text": [
            "{'For the Term of His Natural Life': ['3752-4944-0029', '3752-4944-0049', '3752-4944-0006', '3752-4944-0057', '3752-4944-0067', '3752-4944-0050', '3752-4944-0009', '3752-4944-0054', '3752-4944-0040', '3752-4944-0010', '3752-4943-0029', '3752-4944-0065', '3752-4944-0002', '3752-4944-0051', '3752-4944-0034', '3752-4944-0062', '3752-4943-0021', '3752-4944-0048', '3752-4943-0011', '3752-4943-0022', '3752-4944-0013', '3752-4943-0024', '3752-4943-0003', '3752-4944-0064'], 'He Knew He Was Right': ['3536-8226-0014', '3536-8226-0029', '3536-8226-0028'], 'Hypatia': ['2902-9006-0000', '2902-9008-0009', '2902-9006-0012'], 'Steep Trails': ['3000-15664-0004', '3000-15664-0003', '3000-15664-0027', '3000-15664-0029', '3000-15664-0018', '3000-15664-0002', '3000-15664-0028'], 'Simple Story': [], 'Waverley, Volume 1': ['5338-24615-0013'], \"It's Like This, Cat (Version 2)\": ['1988-24833-0016', '1988-24833-0027', '1988-24833-0008', '1988-24833-0023', '1988-24833-0005'], 'Man Who Laughs': ['5895-34615-0001', '5895-34615-0008', '5895-34622-0016', '5895-34629-0002', '5895-34622-0018', '5895-34622-0007', '5895-34629-0016', '5895-34622-0004', '5895-34622-0003', '5895-34629-0011', '5895-34615-0019', '5895-34629-0023'], 'Soul of the Indian': ['5536-43358-0000', '5536-43363-0011', '5536-43363-0012', '5536-43359-0000', '5536-43359-0006', '5536-43359-0005', '5536-43358-0011', '5536-43359-0004', '5536-43359-0016', '5536-43359-0009'], 'Martin Pippin in the Apple Orchard': ['174-50561-0003'], 'Old Greek Stories': [], 'Journey to the Centre of the Earth': ['6241-61943-0022', '6241-61943-0021', '6241-61943-0007', '6241-61946-0019', '6241-61943-0016', '6241-61946-0005', '6241-61946-0010', '6241-61946-0018', '6241-61943-0023', '6241-61946-0017', '6241-61946-0014', '6241-61946-0016', '6241-61943-0013'], \"'Co. Aytch,' Maury Grays, First Tennessee Regiment or, A Side Show of the Big Show\": ['5694-64025-0013', '5694-64038-0016', '5694-64025-0008', '5694-64025-0018', '5694-64029-0018', '5694-64025-0017', '5694-64029-0004', '5694-64025-0012', '5694-64029-0030', '5694-64029-0015', '5694-64038-0005', '5694-64038-0024', '5694-64029-0029', '5694-64029-0008', '5694-64025-0001', '5694-64025-0015', '5694-64029-0013', '5694-64029-0028', '5694-64029-0012', '5694-64038-0003'], 'Mary Marston': ['6295-64301-0004', '6345-64257-0014', '6295-64301-0031', '6345-64257-0016', '6295-64301-0015'], 'Fairy Tales Every Child Should Know': ['6319-64726-0008', '6319-64726-0003', '6319-64726-0013', '6319-64726-0015', '6319-64726-0017', '6319-64726-0011'], 'Pony Rider Boys in the Rockies': ['6313-66129-0032', '6313-66129-0006', '6313-66125-0002', '6313-66125-0006', '6313-66129-0000', '6313-66129-0009', '6313-66129-0004', '6313-66129-0002', '6313-66125-0008', '6313-66129-0022', '6313-66129-0031', '6313-66125-0019', '6313-66125-0017', '6313-66129-0013', '6313-66125-0005', '6313-66125-0007', '6313-66125-0021', '6313-66129-0020', '6313-66129-0003'], 'Wolf Hunters': [], 'Henrietta Temple': [], 'Pony Rider Boys in Texas': ['6313-76958-0000', '6313-76958-0028'], 'Amusement Only': ['2428-83699-0031', '2428-83699-0038', '2428-83699-0021', '2428-83699-0011', '2428-83699-0030', '2428-83699-0032', '2428-83699-0019', '2428-83699-0036', '2428-83705-0040', '2428-83705-0032', '2428-83699-0020', '2428-83699-0042'], 'Passionate Friends': [], 'Literary Sense': ['6345-93302-0022', '6345-93306-0003', '6345-93302-0019', '6345-93306-0021', '6345-93306-0008', '6345-93306-0006', '6345-93306-0011', '6345-93302-0003', '6345-93306-0018'], 'With Fire and Sword (Byers)': ['7976-105575-0010', '7976-105575-0019'], 'Islands of Magic': ['7976-110124-0017', '7976-110124-0022', '7976-110124-0005', '7976-110124-0013'], 'My Book Of Favourite Fairy Tales': [], 'Hidden Treasures': ['7850-111771-0006'], 'People of the Black Circle': ['251-118436-0004', '251-118436-0022', '251-118436-0021', '251-118436-0005', '251-118436-0015', '251-118436-0014', '251-118436-0016', '251-118436-0011'], 'Count of Monte Cristo': [], 'Divine Comedy': ['84-121550-0026'], 'Beyond Good and Evil': ['422-122949-0029', '422-122949-0030', '422-122949-0002', '422-122949-0035', '422-122949-0028', '422-122949-0016', '422-122949-0031', '422-122949-0008'], 'Secret Agent': ['777-126732-0026', '777-126732-0038', '777-126732-0054', '777-126732-0012', '777-126732-0044', '777-126732-0074', '777-126732-0068', '777-126732-0010', '777-126732-0029', '777-126732-0051', '777-126732-0075', '777-126732-0040', '777-126732-0035'], 'Reviews': ['1272-128104-0006', '1272-128104-0010', '1272-128104-0007'], 'Good Things to Eat As Suggested By Rufus': ['652-129742-0010', '652-129742-0005', '652-129742-0013', '652-129742-0004', '652-129742-0012'], 'Bohemian San Francisco': ['652-130737-0012', '652-130737-0010', '652-130737-0002', '652-130726-0014', '652-130726-0003', '652-130726-0017', '652-130726-0000', '652-130726-0026'], 'Tik-Tok of Oz': ['1272-135031-0008', '1272-135031-0020', '1272-135031-0006', '1272-135031-0017'], 'Omnilingual': ['251-136532-0018', '251-136532-0001', '251-136532-0021', '251-136532-0015', '251-136532-0007'], 'Memoirs of Jacques Casanova Vol. 1': ['3170-137482-0012', '3170-137482-0014', '3170-137482-0045', '3170-137482-0034'], 'Tom Swift and the Visitor From Planet X': ['251-137823-0014', '251-137823-0016'], 'Don Quixote - Vol. 2': ['3576-138058-0003', '3576-138058-0021', '3576-138058-0034'], 'Planet of the Damned': ['1272-141231-0017', '1272-141231-0003', '1272-141231-0027'], 'Book of Household Management': ['1919-142785-0009', '1919-142785-0023'], 'History of the Decline and Fall of the Roman Empire Vol. IV': [], 'Mary Barton': [], 'My Antonia': ['2035-147961-0015', '2035-147961-0033', '2035-147961-0009', '1988-147956-0013', '2035-147961-0026', '2035-147961-0010', '2035-147960-0001', '1988-147956-0024', '1988-147956-0010', '1988-147956-0018', '1988-147956-0002', '2035-147961-0001', '2035-147961-0013', '1988-147956-0021', '2035-147961-0036', '2035-147961-0023', '1988-147956-0029', '1988-147956-0011', '2035-147960-0003', '1988-147956-0019'], 'Democracy in America II': ['1988-148538-0007'], 'House of the Seven Gables (Version 2)': ['2086-149220-0027', '2086-149220-0024', '2086-149220-0047', '2086-149220-0045', '2086-149220-0042', '2086-149220-0046', '2086-149220-0040', '2086-149214-0001', '2086-149220-0023', '2086-149220-0034'], 'Sister Carrie': ['2277-149896-0033', '2277-149897-0019', '2277-149897-0030', '2277-149896-0012', '2277-149897-0009', '2277-149897-0023', '2277-149896-0011', '2277-149874-0015', '2277-149896-0020'], 'Popular History of Ireland, Book 01': [], 'Erewhon': ['2412-153947-0001', '2412-153948-0002'], 'In Search of the Castaways': ['2803-154320-0009', '2803-154320-0014', '2803-154328-0014', '2803-154328-0022', '2803-154328-0010', '2803-154328-0023', '2803-154328-0011', '2803-154328-0017', '2803-154328-0012'], 'Stories Mother Nature Told Her Children': [], 'Work: A Story of Experience': ['3853-163249-0050', '3853-163249-0040', '3853-163249-0035', '3853-163249-0023', '3853-163249-0021', '3853-163249-0025', '3853-163249-0020', '3853-163249-0019', '3853-163249-0041', '3853-163249-0038', '3853-163249-0051'], 'Initials Only': ['3081-166546-0069', '3081-166546-0027', '3081-166546-0039', '3081-166546-0019', '3081-166546-0028', '3081-166546-0056', '3081-166546-0013', '3081-166546-0080', '3081-166546-0034', '3081-166546-0043', '3081-166546-0011', '3081-166546-0042', '3081-166546-0029'], 'Miserables Vol. 2': ['174-168635-0021', '174-168635-0000', '174-168635-0001'], \"Alexander's Bridge (version 2)\": ['1462-170138-0026', '1462-170145-0012', '1462-170142-0028', '1462-170142-0034', '1462-170145-0011', '1462-170138-0001', '1462-170142-0037', '1462-170145-0001', '1462-170145-0006', '1462-170138-0025', '1462-170145-0005', '1462-170145-0016', '1462-170142-0031', '1462-170142-0025', '1462-170138-0018', '1462-170142-0040', '1462-170142-0038', '1462-170142-0012', '1462-170142-0041', '1462-170142-0016', '1462-170145-0007', '1462-170145-0015'], 'Guns of Bull Run': ['6295-244435-0027', '6295-244435-0011', '6295-244435-0019', '6295-244435-0034', '6295-244435-0029', '6295-244435-0002', '6295-244435-0018'], 'Evil Genius': ['8297-275155-0010', '8297-275156-0000', '8297-275154-0023', '8297-275154-0012', '8297-275154-0013', '8297-275154-0008', '8297-275154-0007', '8297-275155-0007', '8297-275155-0020', '8297-275156-0008', '8297-275154-0019', '8297-275154-0002'], 'Junior Classics Volume 8: Animal and Nature Stories': ['6319-275224-0013', '6319-275224-0015', '6319-275224-0018'], 'Curious Book of Birds': ['7850-281318-0015', '7850-281318-0003', '7850-281318-0012', '7850-281318-0023', '7850-281318-0011'], 'Sky Island (version 2)': ['5338-284437-0033', '5338-284437-0019', '8555-284449-0006', '5338-284437-0016', '5338-284437-0028', '5338-284437-0024', '8555-284449-0016'], 'Among the Pond People': ['7850-286674-0015', '7850-286674-0002'], 'New Life (La vita nuova)': ['8842-302203-0003', '8842-302203-0011', '8842-302201-0008', '8842-302196-0006'], 'Sonnets of Michael Angelo Buonarroti and Tommaso Campanella': ['8842-304647-0012', '8842-304647-0008'], 'Timaeus': [], 'Patchwork Girl of Oz': ['1284-1181-0007', '1284-1181-0003', '1284-1181-0008', '1284-1180-0028', '1284-1180-0002'], 'Quest of the Silver Fleece': ['1995-1826-0025', '1995-1836-0002', '1995-1836-0007', '1995-1826-0022', '1995-1837-0009', '1995-1826-0016', '1995-1826-0020', '1995-1837-0027', '1995-1837-0004'], \"Alexander's Bridge (version 3)\": ['4446-2275-0027', '4446-2273-0014', '4446-2273-0026', '4446-2273-0030', '4446-2275-0023', '4446-2273-0027', '4446-2275-0032', '4446-2271-0006', '4446-2273-0018', '4446-2273-0012', '4446-2271-0024', '4446-2273-0009', '4446-2275-0021', '4446-2275-0022', '4446-2275-0036', '4446-2271-0012', '4446-2271-0003', '4446-2273-0015', '4446-2275-0001', '4446-2273-0021', '4446-2273-0025', '4446-2275-0012', '4446-2275-0016', '4446-2273-0028', '4446-2273-0004', '4446-2271-0001', '4446-2273-0022'], \"Commentary on St. Paul's Epistle to the Galatians\": [], 'Theory of the Leisure Class': ['3570-5694-0004'], 'Memoirs of Jacques Casanova Vol. 2': ['3729-6852-0019'], \"Story of 'Mormonism'\": ['4077-13751-0013', '4077-13754-0003', '4077-13754-0004', '4077-13751-0001'], 'Miserables Vol. 4': ['4507-16021-0024', '4507-16021-0005', '4507-16021-0056', '4507-16021-0037', '4507-16021-0043', '4507-16021-0045', '4507-16021-0051', '4507-16021-0059', '4507-16021-0055', '4507-16021-0048'], 'Off on a Comet': ['5105-28240-0012', '5105-28241-0012', '5105-28241-0019', '5105-28240-0004'], 'Gilded Age': ['4970-29095-0017', '4970-29093-0004', '4970-29093-0020', '4970-29095-0036', '4970-29095-0016', '4970-29095-0032', '4970-29093-0023'], 'Sonnets from the Portuguese (version 2)': ['908-31957-0018', '908-31957-0006', '908-31957-0013', '908-31957-0002', '908-31957-0012', '908-31957-0020', '908-31957-0014', '908-31957-0008'], \"Wylder's Hand\": ['5683-32865-0014', '5683-32866-0023', '5683-32866-0022', '5683-32865-0003', '5683-32865-0015', '5683-32866-0018', '5683-32865-0017', '5683-32865-0011', '5683-32865-0008', '5683-32866-0011'], 'Viking Tales': ['5142-33396-0029', '5142-33396-0017', '5142-33396-0013', '5142-33396-0045', '5142-33396-0025', '5142-33396-0005', '5142-33396-0041', '5142-33396-0020', '5142-33396-0063', '5142-33396-0002', '5142-33396-0057', '5142-33396-0062', '5142-33396-0022', '5142-33396-0010', '5142-33396-0001', '5142-33396-0068', '5142-33396-0038', '5142-33396-0023', '5142-33396-0019'], 'Dead Alive': ['5142-36377-0017', '5142-36377-0002'], 'Descent of Man and Selection in Relation to Sex, Part 1': ['5142-36586-0001'], 'Exemplary Novels of Miguel de Cervantes Saavedra': [], 'Mother Careys Chickens': ['4992-41797-0019', '4992-41806-0009', '4992-41797-0010', '4992-41797-0011'], \"Aunt Jane's Nieces at Work\": ['6829-68771-0031', '6829-68769-0010', '6829-68769-0051', '6829-68771-0014', '6829-68769-0007', '6829-68771-0022', '6829-68771-0020', '6829-68769-0026', '6829-68769-0052', '6829-68771-0036', '6829-68771-0030', '6829-68771-0027', '6829-68771-0035', '6829-68769-0053', '6829-68769-0021'], 'Robin Hood.': ['61-70968-0052', '61-70970-0009', '61-70970-0022', '61-70968-0001', '61-70968-0004', '61-70970-0003', '61-70968-0044', '61-70970-0010', '61-70970-0012', '61-70968-0055', '61-70968-0005', '61-70968-0032', '61-70970-0007'], 'Ten Years Later': ['6930-75918-0000', '6930-75918-0013', '7127-75946-0011', '7127-75947-0029', '7127-75947-0035', '6930-75918-0015', '7127-75947-0024'], 'Boarded Up House': ['6930-76324-0026', '6930-76324-0025', '6930-76324-0001', '6930-76324-0024', '6930-76324-0012', '6930-76324-0005', '6930-76324-0006', '6930-76324-0017', '6930-76324-0004'], 'Gentle Measures in the Management and Training of the Young': ['7021-79759-0002', '7021-79740-0001', '7021-79740-0002'], 'Weapons of Mystery': ['6930-81414-0017', '6930-81414-0003', '6930-81414-0010', '6930-81414-0007', '6930-81414-0020', '6930-81414-0008'], 'Book of Stories for the Storyteller': ['7021-85628-0016', '7021-85628-0002', '7021-85628-0008'], 'Hoof and Claw': ['7176-88083-0017', '7176-88083-0019'], 'Sunny Side': ['7176-92135-0003', '7176-92135-0036'], 'Abraham Lincoln: A History (Volume 1)': ['7729-102255-0000', '7729-102255-0034', '7729-102255-0025', '7729-102255-0023', '7729-102255-0035', '7729-102255-0029', '7729-102255-0031', '7729-102255-0030', '7729-102255-0039', '7729-102255-0033', '7729-102255-0002', '7729-102255-0036'], 'Foolish Dictionary': ['121-121726-0011', '121-121726-0004', '121-121726-0007', '121-121726-0000'], 'Last of the Mohicans': [], 'Andersens Fairy Tales': ['672-122797-0059', '672-122797-0005', '672-122797-0035', '672-122797-0043', '672-122797-0046', '672-122797-0044', '672-122797-0034', '672-122797-0030', '672-122797-0061', '672-122797-0070', '672-122797-0038'], 'Journey to the Interior of the Earth': ['260-123288-0012', '260-123286-0014', '260-123286-0011', '260-123286-0024', '260-123286-0022', '260-123286-0017', '260-123286-0029', '260-123288-0020', '260-123286-0031', '260-123286-0007', '260-123286-0013', '260-123286-0030', '260-123286-0016', '260-123288-0027', '260-123286-0009', '260-123286-0003', '260-123286-0023'], \"Alice's Adventures in Wonderland\": ['260-123440-0000', '260-123440-0018', '260-123440-0013', '260-123440-0007', '260-123440-0015', '260-123440-0010'], \"Shakespeare's Sonnets\": [], 'Five Little Peppers and How They Grew': [], 'Turn of the Screw': ['121-127105-0016', '121-127105-0033', '121-127105-0006', '121-127105-0001', '121-127105-0003', '121-127105-0011'], 'Edison, His Life and Inventions': ['2300-131720-0041', '2300-131720-0024', '2300-131720-0040', '2300-131720-0038', '2300-131720-0036', '2300-131720-0008'], 'Lectures on Landscape': ['1188-133604-0013', '1188-133604-0029', '1188-133604-0039', '1188-133604-0038'], 'O Pioneers!': ['237-134500-0019', '237-134500-0026', '237-134500-0029', '237-134500-0035', '237-134500-0028', '237-134500-0023', '237-134500-0008', '237-134500-0024', '237-134493-0004'], 'History of the Decline and Fall of the Roman Empire Vol. II': [], 'Portrait of the Artist as a Young Man': ['1089-134686-0014', '1089-134686-0007', '1089-134686-0001', '1089-134686-0027', '1089-134686-0035', '1089-134686-0029', '1089-134686-0004', '1089-134691-0014', '1089-134686-0026', '1089-134686-0021', '1089-134686-0025'], 'Scarlet Letter': ['1221-135766-0015', '1221-135767-0019', '1221-135766-0014'], 'Return of Sherlock Holmes': ['1580-141084-0036', '1580-141084-0006', '1580-141084-0012', '1580-141083-0005', '1580-141083-0019', '1580-141084-0020', '1580-141084-0038', '1580-141084-0037', '1580-141083-0022', '1580-141083-0023', '1580-141083-0046', '1580-141084-0021', '1580-141084-0000', '1580-141083-0021', '1580-141083-0008', '1580-141084-0045', '1580-141084-0010', '1580-141083-0016', '1580-141084-0034', '1580-141084-0039', '1580-141084-0009', '1580-141083-0042', '1580-141084-0016', '1580-141083-0027', '1580-141084-0049'], 'Adam Bede': ['2094-142345-0007', '2094-142345-0025', '2094-142345-0035', '2094-142345-0018', '2094-142345-0051'], 'Poems of William Blake': ['908-157963-0002', '908-157963-0013', '908-157963-0005', '908-157963-0027', '908-157963-0025'], 'Life Of Charlotte Bronte Volume 1': ['3575-170457-0034', '3575-170457-0010', '3575-170457-0048', '3575-170457-0022', '3575-170457-0045', '3575-170457-0029', '3575-170457-0047', '3575-170457-0040', '3575-170457-0014', '3575-170457-0054', '3575-170457-0011', '3575-170457-0012'], 'Fixed Period': ['8455-210777-0066', '8455-210777-0029', '8455-210777-0021', '8455-210777-0026', '8455-210777-0009', '8455-210777-0037', '8455-210777-0067', '8455-210777-0050', '8455-210777-0052', '8455-210777-0028', '8455-210777-0024', '8455-210777-0059', '8455-210777-0044', '8455-210777-0053', '8455-210777-0058'], 'History of England from the Invasion of Julius Caesar to the Revolution of 1688, Volume 1E': [], 'Analysis of Mind': [], 'Underground Railroad, Part 4': ['8463-287645-0014', '8463-287645-0013'], 'Eight Harvard Poets': ['8555-292519-0012', '8555-292519-0008', '8555-292519-0007'], 'Twenty Thousand Leagues Under The Sea (version 3)': ['8463-294828-0016', '8463-294828-0020', '8463-294825-0005', '8463-294825-0001']}\n"
          ],
          "name": "stdout"
        }
      ]
    },
    {
      "cell_type": "code",
      "metadata": {
        "id": "Cecg0AxTLVPE",
        "colab": {
          "base_uri": "https://localhost:8080/"
        },
        "outputId": "aa55625d-2ddc-440e-f4d3-928c5d058d66"
      },
      "source": [
        "# Stats of eligible sentences per book\n",
        "\n",
        "num_remaining_books = 0\n",
        "num_sentences_1 = 0\n",
        "num_sentences_2 = 0\n",
        "num_sentences_3 = 0\n",
        "num_sentences_4 = 0 \n",
        "\n",
        "data = {'book title': [],\n",
        "        'book year': [],\n",
        "        'number of sentences': []\n",
        "        }\n",
        "for book in dict_books.keys():\n",
        "  year = 0\n",
        "  for b in books_table:\n",
        "    if b[0]==book:\n",
        "      year = b[1]\n",
        "      break\n",
        "  data['book title'].append(book)\n",
        "  data['book year'].append(year)\n",
        "  data['number of sentences'].append(len(dict_books[book]))\n",
        "  if len(dict_books[book]) == 1:\n",
        "    num_sentences_1 += 1\n",
        "  if len(dict_books[book]) == 2:\n",
        "    num_sentences_2 += 1\n",
        "  if len(dict_books[book]) == 3:\n",
        "    num_sentences_3 += 1\n",
        "  if len(dict_books[book]) == 4:\n",
        "    num_sentences_4 += 1  \n",
        "  # print('{:>60}  {:>16}  {:>12}'.format(book[:55], year, len(dict_books[book])))\n",
        "  if len(dict_books[book]) > 0:\n",
        "    num_remaining_books += 1\n",
        "print(\"Total number of different books still having eligible sentences:\", num_remaining_books,\"/\",len(books_table))\n",
        "\n",
        "df = pd.DataFrame (data, columns = ['book title','book year','number of sentences'])"
      ],
      "execution_count": 51,
      "outputs": [
        {
          "output_type": "stream",
          "text": [
            "Total number of different books still having eligible sentences: 95 / 117\n"
          ],
          "name": "stdout"
        }
      ]
    },
    {
      "cell_type": "code",
      "metadata": {
        "id": "D1nA1kudUozJ",
        "colab": {
          "base_uri": "https://localhost:8080/",
          "height": 1000
        },
        "outputId": "5913921f-71e5-4319-ac04-62a04e86d5ff"
      },
      "source": [
        "df.sort_values(by=['number of sentences'], ascending=False).style.hide_index()"
      ],
      "execution_count": 52,
      "outputs": [
        {
          "output_type": "execute_result",
          "data": {
            "text/html": [
              "<style  type=\"text/css\" >\n",
              "</style><table id=\"T_b3760a7e_ea16_11eb_a8fa_0242ac1c0002\" ><thead>    <tr>        <th class=\"col_heading level0 col0\" >book title</th>        <th class=\"col_heading level0 col1\" >book year</th>        <th class=\"col_heading level0 col2\" >number of sentences</th>    </tr></thead><tbody>\n",
              "                <tr>\n",
              "                                <td id=\"T_b3760a7e_ea16_11eb_a8fa_0242ac1c0002row0_col0\" class=\"data row0 col0\" >Alexander's Bridge (version 3)</td>\n",
              "                        <td id=\"T_b3760a7e_ea16_11eb_a8fa_0242ac1c0002row0_col1\" class=\"data row0 col1\" >1912</td>\n",
              "                        <td id=\"T_b3760a7e_ea16_11eb_a8fa_0242ac1c0002row0_col2\" class=\"data row0 col2\" >27</td>\n",
              "            </tr>\n",
              "            <tr>\n",
              "                                <td id=\"T_b3760a7e_ea16_11eb_a8fa_0242ac1c0002row1_col0\" class=\"data row1 col0\" >Return of Sherlock Holmes</td>\n",
              "                        <td id=\"T_b3760a7e_ea16_11eb_a8fa_0242ac1c0002row1_col1\" class=\"data row1 col1\" >1984</td>\n",
              "                        <td id=\"T_b3760a7e_ea16_11eb_a8fa_0242ac1c0002row1_col2\" class=\"data row1 col2\" >25</td>\n",
              "            </tr>\n",
              "            <tr>\n",
              "                                <td id=\"T_b3760a7e_ea16_11eb_a8fa_0242ac1c0002row2_col0\" class=\"data row2 col0\" >For the Term of His Natural Life</td>\n",
              "                        <td id=\"T_b3760a7e_ea16_11eb_a8fa_0242ac1c0002row2_col1\" class=\"data row2 col1\" >1886</td>\n",
              "                        <td id=\"T_b3760a7e_ea16_11eb_a8fa_0242ac1c0002row2_col2\" class=\"data row2 col2\" >24</td>\n",
              "            </tr>\n",
              "            <tr>\n",
              "                                <td id=\"T_b3760a7e_ea16_11eb_a8fa_0242ac1c0002row3_col0\" class=\"data row3 col0\" >Alexander's Bridge (version 2)</td>\n",
              "                        <td id=\"T_b3760a7e_ea16_11eb_a8fa_0242ac1c0002row3_col1\" class=\"data row3 col1\" >1912</td>\n",
              "                        <td id=\"T_b3760a7e_ea16_11eb_a8fa_0242ac1c0002row3_col2\" class=\"data row3 col2\" >22</td>\n",
              "            </tr>\n",
              "            <tr>\n",
              "                                <td id=\"T_b3760a7e_ea16_11eb_a8fa_0242ac1c0002row4_col0\" class=\"data row4 col0\" >My Antonia</td>\n",
              "                        <td id=\"T_b3760a7e_ea16_11eb_a8fa_0242ac1c0002row4_col1\" class=\"data row4 col1\" >1962</td>\n",
              "                        <td id=\"T_b3760a7e_ea16_11eb_a8fa_0242ac1c0002row4_col2\" class=\"data row4 col2\" >20</td>\n",
              "            </tr>\n",
              "            <tr>\n",
              "                                <td id=\"T_b3760a7e_ea16_11eb_a8fa_0242ac1c0002row5_col0\" class=\"data row5 col0\" >'Co. Aytch,' Maury Grays, First Tennessee Regiment or, A Side Show of the Big Show</td>\n",
              "                        <td id=\"T_b3760a7e_ea16_11eb_a8fa_0242ac1c0002row5_col1\" class=\"data row5 col1\" >1882</td>\n",
              "                        <td id=\"T_b3760a7e_ea16_11eb_a8fa_0242ac1c0002row5_col2\" class=\"data row5 col2\" >20</td>\n",
              "            </tr>\n",
              "            <tr>\n",
              "                                <td id=\"T_b3760a7e_ea16_11eb_a8fa_0242ac1c0002row6_col0\" class=\"data row6 col0\" >Pony Rider Boys in the Rockies</td>\n",
              "                        <td id=\"T_b3760a7e_ea16_11eb_a8fa_0242ac1c0002row6_col1\" class=\"data row6 col1\" >2007</td>\n",
              "                        <td id=\"T_b3760a7e_ea16_11eb_a8fa_0242ac1c0002row6_col2\" class=\"data row6 col2\" >19</td>\n",
              "            </tr>\n",
              "            <tr>\n",
              "                                <td id=\"T_b3760a7e_ea16_11eb_a8fa_0242ac1c0002row7_col0\" class=\"data row7 col0\" >Viking Tales</td>\n",
              "                        <td id=\"T_b3760a7e_ea16_11eb_a8fa_0242ac1c0002row7_col1\" class=\"data row7 col1\" >1876</td>\n",
              "                        <td id=\"T_b3760a7e_ea16_11eb_a8fa_0242ac1c0002row7_col2\" class=\"data row7 col2\" >19</td>\n",
              "            </tr>\n",
              "            <tr>\n",
              "                                <td id=\"T_b3760a7e_ea16_11eb_a8fa_0242ac1c0002row8_col0\" class=\"data row8 col0\" >Journey to the Interior of the Earth</td>\n",
              "                        <td id=\"T_b3760a7e_ea16_11eb_a8fa_0242ac1c0002row8_col1\" class=\"data row8 col1\" >1913</td>\n",
              "                        <td id=\"T_b3760a7e_ea16_11eb_a8fa_0242ac1c0002row8_col2\" class=\"data row8 col2\" >17</td>\n",
              "            </tr>\n",
              "            <tr>\n",
              "                                <td id=\"T_b3760a7e_ea16_11eb_a8fa_0242ac1c0002row9_col0\" class=\"data row9 col0\" >Fixed Period</td>\n",
              "                        <td id=\"T_b3760a7e_ea16_11eb_a8fa_0242ac1c0002row9_col1\" class=\"data row9 col1\" >1882</td>\n",
              "                        <td id=\"T_b3760a7e_ea16_11eb_a8fa_0242ac1c0002row9_col2\" class=\"data row9 col2\" >15</td>\n",
              "            </tr>\n",
              "            <tr>\n",
              "                                <td id=\"T_b3760a7e_ea16_11eb_a8fa_0242ac1c0002row10_col0\" class=\"data row10 col0\" >Aunt Jane's Nieces at Work</td>\n",
              "                        <td id=\"T_b3760a7e_ea16_11eb_a8fa_0242ac1c0002row10_col1\" class=\"data row10 col1\" >1909</td>\n",
              "                        <td id=\"T_b3760a7e_ea16_11eb_a8fa_0242ac1c0002row10_col2\" class=\"data row10 col2\" >15</td>\n",
              "            </tr>\n",
              "            <tr>\n",
              "                                <td id=\"T_b3760a7e_ea16_11eb_a8fa_0242ac1c0002row11_col0\" class=\"data row11 col0\" >Initials Only</td>\n",
              "                        <td id=\"T_b3760a7e_ea16_11eb_a8fa_0242ac1c0002row11_col1\" class=\"data row11 col1\" >1918</td>\n",
              "                        <td id=\"T_b3760a7e_ea16_11eb_a8fa_0242ac1c0002row11_col2\" class=\"data row11 col2\" >13</td>\n",
              "            </tr>\n",
              "            <tr>\n",
              "                                <td id=\"T_b3760a7e_ea16_11eb_a8fa_0242ac1c0002row12_col0\" class=\"data row12 col0\" >Robin Hood.</td>\n",
              "                        <td id=\"T_b3760a7e_ea16_11eb_a8fa_0242ac1c0002row12_col1\" class=\"data row12 col1\" >1947</td>\n",
              "                        <td id=\"T_b3760a7e_ea16_11eb_a8fa_0242ac1c0002row12_col2\" class=\"data row12 col2\" >13</td>\n",
              "            </tr>\n",
              "            <tr>\n",
              "                                <td id=\"T_b3760a7e_ea16_11eb_a8fa_0242ac1c0002row13_col0\" class=\"data row13 col0\" >Secret Agent</td>\n",
              "                        <td id=\"T_b3760a7e_ea16_11eb_a8fa_0242ac1c0002row13_col1\" class=\"data row13 col1\" >1919</td>\n",
              "                        <td id=\"T_b3760a7e_ea16_11eb_a8fa_0242ac1c0002row13_col2\" class=\"data row13 col2\" >13</td>\n",
              "            </tr>\n",
              "            <tr>\n",
              "                                <td id=\"T_b3760a7e_ea16_11eb_a8fa_0242ac1c0002row14_col0\" class=\"data row14 col0\" >Journey to the Centre of the Earth</td>\n",
              "                        <td id=\"T_b3760a7e_ea16_11eb_a8fa_0242ac1c0002row14_col1\" class=\"data row14 col1\" >1905</td>\n",
              "                        <td id=\"T_b3760a7e_ea16_11eb_a8fa_0242ac1c0002row14_col2\" class=\"data row14 col2\" >13</td>\n",
              "            </tr>\n",
              "            <tr>\n",
              "                                <td id=\"T_b3760a7e_ea16_11eb_a8fa_0242ac1c0002row15_col0\" class=\"data row15 col0\" >Abraham Lincoln: A History (Volume 1)</td>\n",
              "                        <td id=\"T_b3760a7e_ea16_11eb_a8fa_0242ac1c0002row15_col1\" class=\"data row15 col1\" >1890</td>\n",
              "                        <td id=\"T_b3760a7e_ea16_11eb_a8fa_0242ac1c0002row15_col2\" class=\"data row15 col2\" >12</td>\n",
              "            </tr>\n",
              "            <tr>\n",
              "                                <td id=\"T_b3760a7e_ea16_11eb_a8fa_0242ac1c0002row16_col0\" class=\"data row16 col0\" >Man Who Laughs</td>\n",
              "                        <td id=\"T_b3760a7e_ea16_11eb_a8fa_0242ac1c0002row16_col1\" class=\"data row16 col1\" >1888</td>\n",
              "                        <td id=\"T_b3760a7e_ea16_11eb_a8fa_0242ac1c0002row16_col2\" class=\"data row16 col2\" >12</td>\n",
              "            </tr>\n",
              "            <tr>\n",
              "                                <td id=\"T_b3760a7e_ea16_11eb_a8fa_0242ac1c0002row17_col0\" class=\"data row17 col0\" >Life Of Charlotte Bronte Volume 1</td>\n",
              "                        <td id=\"T_b3760a7e_ea16_11eb_a8fa_0242ac1c0002row17_col1\" class=\"data row17 col1\" >2015</td>\n",
              "                        <td id=\"T_b3760a7e_ea16_11eb_a8fa_0242ac1c0002row17_col2\" class=\"data row17 col2\" >12</td>\n",
              "            </tr>\n",
              "            <tr>\n",
              "                                <td id=\"T_b3760a7e_ea16_11eb_a8fa_0242ac1c0002row18_col0\" class=\"data row18 col0\" >Amusement Only</td>\n",
              "                        <td id=\"T_b3760a7e_ea16_11eb_a8fa_0242ac1c0002row18_col1\" class=\"data row18 col1\" >1901</td>\n",
              "                        <td id=\"T_b3760a7e_ea16_11eb_a8fa_0242ac1c0002row18_col2\" class=\"data row18 col2\" >12</td>\n",
              "            </tr>\n",
              "            <tr>\n",
              "                                <td id=\"T_b3760a7e_ea16_11eb_a8fa_0242ac1c0002row19_col0\" class=\"data row19 col0\" >Evil Genius</td>\n",
              "                        <td id=\"T_b3760a7e_ea16_11eb_a8fa_0242ac1c0002row19_col1\" class=\"data row19 col1\" >2005</td>\n",
              "                        <td id=\"T_b3760a7e_ea16_11eb_a8fa_0242ac1c0002row19_col2\" class=\"data row19 col2\" >12</td>\n",
              "            </tr>\n",
              "            <tr>\n",
              "                                <td id=\"T_b3760a7e_ea16_11eb_a8fa_0242ac1c0002row20_col0\" class=\"data row20 col0\" >Portrait of the Artist as a Young Man</td>\n",
              "                        <td id=\"T_b3760a7e_ea16_11eb_a8fa_0242ac1c0002row20_col1\" class=\"data row20 col1\" >1916</td>\n",
              "                        <td id=\"T_b3760a7e_ea16_11eb_a8fa_0242ac1c0002row20_col2\" class=\"data row20 col2\" >11</td>\n",
              "            </tr>\n",
              "            <tr>\n",
              "                                <td id=\"T_b3760a7e_ea16_11eb_a8fa_0242ac1c0002row21_col0\" class=\"data row21 col0\" >Work: A Story of Experience</td>\n",
              "                        <td id=\"T_b3760a7e_ea16_11eb_a8fa_0242ac1c0002row21_col1\" class=\"data row21 col1\" >1873</td>\n",
              "                        <td id=\"T_b3760a7e_ea16_11eb_a8fa_0242ac1c0002row21_col2\" class=\"data row21 col2\" >11</td>\n",
              "            </tr>\n",
              "            <tr>\n",
              "                                <td id=\"T_b3760a7e_ea16_11eb_a8fa_0242ac1c0002row22_col0\" class=\"data row22 col0\" >Andersens Fairy Tales</td>\n",
              "                        <td id=\"T_b3760a7e_ea16_11eb_a8fa_0242ac1c0002row22_col1\" class=\"data row22 col1\" >1860</td>\n",
              "                        <td id=\"T_b3760a7e_ea16_11eb_a8fa_0242ac1c0002row22_col2\" class=\"data row22 col2\" >11</td>\n",
              "            </tr>\n",
              "            <tr>\n",
              "                                <td id=\"T_b3760a7e_ea16_11eb_a8fa_0242ac1c0002row23_col0\" class=\"data row23 col0\" >Soul of the Indian</td>\n",
              "                        <td id=\"T_b3760a7e_ea16_11eb_a8fa_0242ac1c0002row23_col1\" class=\"data row23 col1\" >1911</td>\n",
              "                        <td id=\"T_b3760a7e_ea16_11eb_a8fa_0242ac1c0002row23_col2\" class=\"data row23 col2\" >10</td>\n",
              "            </tr>\n",
              "            <tr>\n",
              "                                <td id=\"T_b3760a7e_ea16_11eb_a8fa_0242ac1c0002row24_col0\" class=\"data row24 col0\" >Miserables Vol. 4</td>\n",
              "                        <td id=\"T_b3760a7e_ea16_11eb_a8fa_0242ac1c0002row24_col1\" class=\"data row24 col1\" >1903</td>\n",
              "                        <td id=\"T_b3760a7e_ea16_11eb_a8fa_0242ac1c0002row24_col2\" class=\"data row24 col2\" >10</td>\n",
              "            </tr>\n",
              "            <tr>\n",
              "                                <td id=\"T_b3760a7e_ea16_11eb_a8fa_0242ac1c0002row25_col0\" class=\"data row25 col0\" >House of the Seven Gables (Version 2)</td>\n",
              "                        <td id=\"T_b3760a7e_ea16_11eb_a8fa_0242ac1c0002row25_col1\" class=\"data row25 col1\" >1961</td>\n",
              "                        <td id=\"T_b3760a7e_ea16_11eb_a8fa_0242ac1c0002row25_col2\" class=\"data row25 col2\" >10</td>\n",
              "            </tr>\n",
              "            <tr>\n",
              "                                <td id=\"T_b3760a7e_ea16_11eb_a8fa_0242ac1c0002row26_col0\" class=\"data row26 col0\" >Wylder's Hand</td>\n",
              "                        <td id=\"T_b3760a7e_ea16_11eb_a8fa_0242ac1c0002row26_col1\" class=\"data row26 col1\" >1865</td>\n",
              "                        <td id=\"T_b3760a7e_ea16_11eb_a8fa_0242ac1c0002row26_col2\" class=\"data row26 col2\" >10</td>\n",
              "            </tr>\n",
              "            <tr>\n",
              "                                <td id=\"T_b3760a7e_ea16_11eb_a8fa_0242ac1c0002row27_col0\" class=\"data row27 col0\" >Quest of the Silver Fleece</td>\n",
              "                        <td id=\"T_b3760a7e_ea16_11eb_a8fa_0242ac1c0002row27_col1\" class=\"data row27 col1\" >1911</td>\n",
              "                        <td id=\"T_b3760a7e_ea16_11eb_a8fa_0242ac1c0002row27_col2\" class=\"data row27 col2\" >9</td>\n",
              "            </tr>\n",
              "            <tr>\n",
              "                                <td id=\"T_b3760a7e_ea16_11eb_a8fa_0242ac1c0002row28_col0\" class=\"data row28 col0\" >In Search of the Castaways</td>\n",
              "                        <td id=\"T_b3760a7e_ea16_11eb_a8fa_0242ac1c0002row28_col1\" class=\"data row28 col1\" >1873</td>\n",
              "                        <td id=\"T_b3760a7e_ea16_11eb_a8fa_0242ac1c0002row28_col2\" class=\"data row28 col2\" >9</td>\n",
              "            </tr>\n",
              "            <tr>\n",
              "                                <td id=\"T_b3760a7e_ea16_11eb_a8fa_0242ac1c0002row29_col0\" class=\"data row29 col0\" >Sister Carrie</td>\n",
              "                        <td id=\"T_b3760a7e_ea16_11eb_a8fa_0242ac1c0002row29_col1\" class=\"data row29 col1\" >1900</td>\n",
              "                        <td id=\"T_b3760a7e_ea16_11eb_a8fa_0242ac1c0002row29_col2\" class=\"data row29 col2\" >9</td>\n",
              "            </tr>\n",
              "            <tr>\n",
              "                                <td id=\"T_b3760a7e_ea16_11eb_a8fa_0242ac1c0002row30_col0\" class=\"data row30 col0\" >Boarded Up House</td>\n",
              "                        <td id=\"T_b3760a7e_ea16_11eb_a8fa_0242ac1c0002row30_col1\" class=\"data row30 col1\" >1915</td>\n",
              "                        <td id=\"T_b3760a7e_ea16_11eb_a8fa_0242ac1c0002row30_col2\" class=\"data row30 col2\" >9</td>\n",
              "            </tr>\n",
              "            <tr>\n",
              "                                <td id=\"T_b3760a7e_ea16_11eb_a8fa_0242ac1c0002row31_col0\" class=\"data row31 col0\" >Literary Sense</td>\n",
              "                        <td id=\"T_b3760a7e_ea16_11eb_a8fa_0242ac1c0002row31_col1\" class=\"data row31 col1\" >1903</td>\n",
              "                        <td id=\"T_b3760a7e_ea16_11eb_a8fa_0242ac1c0002row31_col2\" class=\"data row31 col2\" >9</td>\n",
              "            </tr>\n",
              "            <tr>\n",
              "                                <td id=\"T_b3760a7e_ea16_11eb_a8fa_0242ac1c0002row32_col0\" class=\"data row32 col0\" >O Pioneers!</td>\n",
              "                        <td id=\"T_b3760a7e_ea16_11eb_a8fa_0242ac1c0002row32_col1\" class=\"data row32 col1\" >1913</td>\n",
              "                        <td id=\"T_b3760a7e_ea16_11eb_a8fa_0242ac1c0002row32_col2\" class=\"data row32 col2\" >9</td>\n",
              "            </tr>\n",
              "            <tr>\n",
              "                                <td id=\"T_b3760a7e_ea16_11eb_a8fa_0242ac1c0002row33_col0\" class=\"data row33 col0\" >Sonnets from the Portuguese (version 2)</td>\n",
              "                        <td id=\"T_b3760a7e_ea16_11eb_a8fa_0242ac1c0002row33_col1\" class=\"data row33 col1\" >1997</td>\n",
              "                        <td id=\"T_b3760a7e_ea16_11eb_a8fa_0242ac1c0002row33_col2\" class=\"data row33 col2\" >8</td>\n",
              "            </tr>\n",
              "            <tr>\n",
              "                                <td id=\"T_b3760a7e_ea16_11eb_a8fa_0242ac1c0002row34_col0\" class=\"data row34 col0\" >Beyond Good and Evil</td>\n",
              "                        <td id=\"T_b3760a7e_ea16_11eb_a8fa_0242ac1c0002row34_col1\" class=\"data row34 col1\" >2003</td>\n",
              "                        <td id=\"T_b3760a7e_ea16_11eb_a8fa_0242ac1c0002row34_col2\" class=\"data row34 col2\" >8</td>\n",
              "            </tr>\n",
              "            <tr>\n",
              "                                <td id=\"T_b3760a7e_ea16_11eb_a8fa_0242ac1c0002row35_col0\" class=\"data row35 col0\" >People of the Black Circle</td>\n",
              "                        <td id=\"T_b3760a7e_ea16_11eb_a8fa_0242ac1c0002row35_col1\" class=\"data row35 col1\" >1977</td>\n",
              "                        <td id=\"T_b3760a7e_ea16_11eb_a8fa_0242ac1c0002row35_col2\" class=\"data row35 col2\" >8</td>\n",
              "            </tr>\n",
              "            <tr>\n",
              "                                <td id=\"T_b3760a7e_ea16_11eb_a8fa_0242ac1c0002row36_col0\" class=\"data row36 col0\" >Bohemian San Francisco</td>\n",
              "                        <td id=\"T_b3760a7e_ea16_11eb_a8fa_0242ac1c0002row36_col1\" class=\"data row36 col1\" >1914</td>\n",
              "                        <td id=\"T_b3760a7e_ea16_11eb_a8fa_0242ac1c0002row36_col2\" class=\"data row36 col2\" >8</td>\n",
              "            </tr>\n",
              "            <tr>\n",
              "                                <td id=\"T_b3760a7e_ea16_11eb_a8fa_0242ac1c0002row37_col0\" class=\"data row37 col0\" >Gilded Age</td>\n",
              "                        <td id=\"T_b3760a7e_ea16_11eb_a8fa_0242ac1c0002row37_col1\" class=\"data row37 col1\" >1997</td>\n",
              "                        <td id=\"T_b3760a7e_ea16_11eb_a8fa_0242ac1c0002row37_col2\" class=\"data row37 col2\" >7</td>\n",
              "            </tr>\n",
              "            <tr>\n",
              "                                <td id=\"T_b3760a7e_ea16_11eb_a8fa_0242ac1c0002row38_col0\" class=\"data row38 col0\" >Guns of Bull Run</td>\n",
              "                        <td id=\"T_b3760a7e_ea16_11eb_a8fa_0242ac1c0002row38_col1\" class=\"data row38 col1\" >1942</td>\n",
              "                        <td id=\"T_b3760a7e_ea16_11eb_a8fa_0242ac1c0002row38_col2\" class=\"data row38 col2\" >7</td>\n",
              "            </tr>\n",
              "            <tr>\n",
              "                                <td id=\"T_b3760a7e_ea16_11eb_a8fa_0242ac1c0002row39_col0\" class=\"data row39 col0\" >Ten Years Later</td>\n",
              "                        <td id=\"T_b3760a7e_ea16_11eb_a8fa_0242ac1c0002row39_col1\" class=\"data row39 col1\" >1980</td>\n",
              "                        <td id=\"T_b3760a7e_ea16_11eb_a8fa_0242ac1c0002row39_col2\" class=\"data row39 col2\" >7</td>\n",
              "            </tr>\n",
              "            <tr>\n",
              "                                <td id=\"T_b3760a7e_ea16_11eb_a8fa_0242ac1c0002row40_col0\" class=\"data row40 col0\" >Steep Trails</td>\n",
              "                        <td id=\"T_b3760a7e_ea16_11eb_a8fa_0242ac1c0002row40_col1\" class=\"data row40 col1\" >1975</td>\n",
              "                        <td id=\"T_b3760a7e_ea16_11eb_a8fa_0242ac1c0002row40_col2\" class=\"data row40 col2\" >7</td>\n",
              "            </tr>\n",
              "            <tr>\n",
              "                                <td id=\"T_b3760a7e_ea16_11eb_a8fa_0242ac1c0002row41_col0\" class=\"data row41 col0\" >Sky Island (version 2)</td>\n",
              "                        <td id=\"T_b3760a7e_ea16_11eb_a8fa_0242ac1c0002row41_col1\" class=\"data row41 col1\" >1990</td>\n",
              "                        <td id=\"T_b3760a7e_ea16_11eb_a8fa_0242ac1c0002row41_col2\" class=\"data row41 col2\" >7</td>\n",
              "            </tr>\n",
              "            <tr>\n",
              "                                <td id=\"T_b3760a7e_ea16_11eb_a8fa_0242ac1c0002row42_col0\" class=\"data row42 col0\" >Fairy Tales Every Child Should Know</td>\n",
              "                        <td id=\"T_b3760a7e_ea16_11eb_a8fa_0242ac1c0002row42_col1\" class=\"data row42 col1\" >1907</td>\n",
              "                        <td id=\"T_b3760a7e_ea16_11eb_a8fa_0242ac1c0002row42_col2\" class=\"data row42 col2\" >6</td>\n",
              "            </tr>\n",
              "            <tr>\n",
              "                                <td id=\"T_b3760a7e_ea16_11eb_a8fa_0242ac1c0002row43_col0\" class=\"data row43 col0\" >Alice's Adventures in Wonderland</td>\n",
              "                        <td id=\"T_b3760a7e_ea16_11eb_a8fa_0242ac1c0002row43_col1\" class=\"data row43 col1\" >1898</td>\n",
              "                        <td id=\"T_b3760a7e_ea16_11eb_a8fa_0242ac1c0002row43_col2\" class=\"data row43 col2\" >6</td>\n",
              "            </tr>\n",
              "            <tr>\n",
              "                                <td id=\"T_b3760a7e_ea16_11eb_a8fa_0242ac1c0002row44_col0\" class=\"data row44 col0\" >Turn of the Screw</td>\n",
              "                        <td id=\"T_b3760a7e_ea16_11eb_a8fa_0242ac1c0002row44_col1\" class=\"data row44 col1\" >1935</td>\n",
              "                        <td id=\"T_b3760a7e_ea16_11eb_a8fa_0242ac1c0002row44_col2\" class=\"data row44 col2\" >6</td>\n",
              "            </tr>\n",
              "            <tr>\n",
              "                                <td id=\"T_b3760a7e_ea16_11eb_a8fa_0242ac1c0002row45_col0\" class=\"data row45 col0\" >Edison, His Life and Inventions</td>\n",
              "                        <td id=\"T_b3760a7e_ea16_11eb_a8fa_0242ac1c0002row45_col1\" class=\"data row45 col1\" >1910</td>\n",
              "                        <td id=\"T_b3760a7e_ea16_11eb_a8fa_0242ac1c0002row45_col2\" class=\"data row45 col2\" >6</td>\n",
              "            </tr>\n",
              "            <tr>\n",
              "                                <td id=\"T_b3760a7e_ea16_11eb_a8fa_0242ac1c0002row46_col0\" class=\"data row46 col0\" >Weapons of Mystery</td>\n",
              "                        <td id=\"T_b3760a7e_ea16_11eb_a8fa_0242ac1c0002row46_col1\" class=\"data row46 col1\" >1895</td>\n",
              "                        <td id=\"T_b3760a7e_ea16_11eb_a8fa_0242ac1c0002row46_col2\" class=\"data row46 col2\" >6</td>\n",
              "            </tr>\n",
              "            <tr>\n",
              "                                <td id=\"T_b3760a7e_ea16_11eb_a8fa_0242ac1c0002row47_col0\" class=\"data row47 col0\" >Poems of William Blake</td>\n",
              "                        <td id=\"T_b3760a7e_ea16_11eb_a8fa_0242ac1c0002row47_col1\" class=\"data row47 col1\" >1859</td>\n",
              "                        <td id=\"T_b3760a7e_ea16_11eb_a8fa_0242ac1c0002row47_col2\" class=\"data row47 col2\" >5</td>\n",
              "            </tr>\n",
              "            <tr>\n",
              "                                <td id=\"T_b3760a7e_ea16_11eb_a8fa_0242ac1c0002row48_col0\" class=\"data row48 col0\" >Curious Book of Birds</td>\n",
              "                        <td id=\"T_b3760a7e_ea16_11eb_a8fa_0242ac1c0002row48_col1\" class=\"data row48 col1\" >1903</td>\n",
              "                        <td id=\"T_b3760a7e_ea16_11eb_a8fa_0242ac1c0002row48_col2\" class=\"data row48 col2\" >5</td>\n",
              "            </tr>\n",
              "            <tr>\n",
              "                                <td id=\"T_b3760a7e_ea16_11eb_a8fa_0242ac1c0002row49_col0\" class=\"data row49 col0\" >Adam Bede</td>\n",
              "                        <td id=\"T_b3760a7e_ea16_11eb_a8fa_0242ac1c0002row49_col1\" class=\"data row49 col1\" >1859</td>\n",
              "                        <td id=\"T_b3760a7e_ea16_11eb_a8fa_0242ac1c0002row49_col2\" class=\"data row49 col2\" >5</td>\n",
              "            </tr>\n",
              "            <tr>\n",
              "                                <td id=\"T_b3760a7e_ea16_11eb_a8fa_0242ac1c0002row50_col0\" class=\"data row50 col0\" >It's Like This, Cat (Version 2)</td>\n",
              "                        <td id=\"T_b3760a7e_ea16_11eb_a8fa_0242ac1c0002row50_col1\" class=\"data row50 col1\" >1999</td>\n",
              "                        <td id=\"T_b3760a7e_ea16_11eb_a8fa_0242ac1c0002row50_col2\" class=\"data row50 col2\" >5</td>\n",
              "            </tr>\n",
              "            <tr>\n",
              "                                <td id=\"T_b3760a7e_ea16_11eb_a8fa_0242ac1c0002row51_col0\" class=\"data row51 col0\" >Mary Marston</td>\n",
              "                        <td id=\"T_b3760a7e_ea16_11eb_a8fa_0242ac1c0002row51_col1\" class=\"data row51 col1\" >1882</td>\n",
              "                        <td id=\"T_b3760a7e_ea16_11eb_a8fa_0242ac1c0002row51_col2\" class=\"data row51 col2\" >5</td>\n",
              "            </tr>\n",
              "            <tr>\n",
              "                                <td id=\"T_b3760a7e_ea16_11eb_a8fa_0242ac1c0002row52_col0\" class=\"data row52 col0\" >Omnilingual</td>\n",
              "                        <td id=\"T_b3760a7e_ea16_11eb_a8fa_0242ac1c0002row52_col1\" class=\"data row52 col1\" >2009</td>\n",
              "                        <td id=\"T_b3760a7e_ea16_11eb_a8fa_0242ac1c0002row52_col2\" class=\"data row52 col2\" >5</td>\n",
              "            </tr>\n",
              "            <tr>\n",
              "                                <td id=\"T_b3760a7e_ea16_11eb_a8fa_0242ac1c0002row53_col0\" class=\"data row53 col0\" >Good Things to Eat As Suggested By Rufus</td>\n",
              "                        <td id=\"T_b3760a7e_ea16_11eb_a8fa_0242ac1c0002row53_col1\" class=\"data row53 col1\" >1911</td>\n",
              "                        <td id=\"T_b3760a7e_ea16_11eb_a8fa_0242ac1c0002row53_col2\" class=\"data row53 col2\" >5</td>\n",
              "            </tr>\n",
              "            <tr>\n",
              "                                <td id=\"T_b3760a7e_ea16_11eb_a8fa_0242ac1c0002row54_col0\" class=\"data row54 col0\" >Patchwork Girl of Oz</td>\n",
              "                        <td id=\"T_b3760a7e_ea16_11eb_a8fa_0242ac1c0002row54_col1\" class=\"data row54 col1\" >1913</td>\n",
              "                        <td id=\"T_b3760a7e_ea16_11eb_a8fa_0242ac1c0002row54_col2\" class=\"data row54 col2\" >5</td>\n",
              "            </tr>\n",
              "            <tr>\n",
              "                                <td id=\"T_b3760a7e_ea16_11eb_a8fa_0242ac1c0002row55_col0\" class=\"data row55 col0\" >Story of 'Mormonism'</td>\n",
              "                        <td id=\"T_b3760a7e_ea16_11eb_a8fa_0242ac1c0002row55_col1\" class=\"data row55 col1\" >1901</td>\n",
              "                        <td id=\"T_b3760a7e_ea16_11eb_a8fa_0242ac1c0002row55_col2\" class=\"data row55 col2\" >4</td>\n",
              "            </tr>\n",
              "            <tr>\n",
              "                                <td id=\"T_b3760a7e_ea16_11eb_a8fa_0242ac1c0002row56_col0\" class=\"data row56 col0\" >Off on a Comet</td>\n",
              "                        <td id=\"T_b3760a7e_ea16_11eb_a8fa_0242ac1c0002row56_col1\" class=\"data row56 col1\" >1911</td>\n",
              "                        <td id=\"T_b3760a7e_ea16_11eb_a8fa_0242ac1c0002row56_col2\" class=\"data row56 col2\" >4</td>\n",
              "            </tr>\n",
              "            <tr>\n",
              "                                <td id=\"T_b3760a7e_ea16_11eb_a8fa_0242ac1c0002row57_col0\" class=\"data row57 col0\" >Mother Careys Chickens</td>\n",
              "                        <td id=\"T_b3760a7e_ea16_11eb_a8fa_0242ac1c0002row57_col1\" class=\"data row57 col1\" >1888</td>\n",
              "                        <td id=\"T_b3760a7e_ea16_11eb_a8fa_0242ac1c0002row57_col2\" class=\"data row57 col2\" >4</td>\n",
              "            </tr>\n",
              "            <tr>\n",
              "                                <td id=\"T_b3760a7e_ea16_11eb_a8fa_0242ac1c0002row58_col0\" class=\"data row58 col0\" >New Life (La vita nuova)</td>\n",
              "                        <td id=\"T_b3760a7e_ea16_11eb_a8fa_0242ac1c0002row58_col1\" class=\"data row58 col1\" >1896</td>\n",
              "                        <td id=\"T_b3760a7e_ea16_11eb_a8fa_0242ac1c0002row58_col2\" class=\"data row58 col2\" >4</td>\n",
              "            </tr>\n",
              "            <tr>\n",
              "                                <td id=\"T_b3760a7e_ea16_11eb_a8fa_0242ac1c0002row59_col0\" class=\"data row59 col0\" >Foolish Dictionary</td>\n",
              "                        <td id=\"T_b3760a7e_ea16_11eb_a8fa_0242ac1c0002row59_col1\" class=\"data row59 col1\" >1904</td>\n",
              "                        <td id=\"T_b3760a7e_ea16_11eb_a8fa_0242ac1c0002row59_col2\" class=\"data row59 col2\" >4</td>\n",
              "            </tr>\n",
              "            <tr>\n",
              "                                <td id=\"T_b3760a7e_ea16_11eb_a8fa_0242ac1c0002row60_col0\" class=\"data row60 col0\" >Lectures on Landscape</td>\n",
              "                        <td id=\"T_b3760a7e_ea16_11eb_a8fa_0242ac1c0002row60_col1\" class=\"data row60 col1\" >1905</td>\n",
              "                        <td id=\"T_b3760a7e_ea16_11eb_a8fa_0242ac1c0002row60_col2\" class=\"data row60 col2\" >4</td>\n",
              "            </tr>\n",
              "            <tr>\n",
              "                                <td id=\"T_b3760a7e_ea16_11eb_a8fa_0242ac1c0002row61_col0\" class=\"data row61 col0\" >Twenty Thousand Leagues Under The Sea (version 3)</td>\n",
              "                        <td id=\"T_b3760a7e_ea16_11eb_a8fa_0242ac1c0002row61_col1\" class=\"data row61 col1\" >1917</td>\n",
              "                        <td id=\"T_b3760a7e_ea16_11eb_a8fa_0242ac1c0002row61_col2\" class=\"data row61 col2\" >4</td>\n",
              "            </tr>\n",
              "            <tr>\n",
              "                                <td id=\"T_b3760a7e_ea16_11eb_a8fa_0242ac1c0002row62_col0\" class=\"data row62 col0\" >Memoirs of Jacques Casanova Vol. 1</td>\n",
              "                        <td id=\"T_b3760a7e_ea16_11eb_a8fa_0242ac1c0002row62_col1\" class=\"data row62 col1\" >1960</td>\n",
              "                        <td id=\"T_b3760a7e_ea16_11eb_a8fa_0242ac1c0002row62_col2\" class=\"data row62 col2\" >4</td>\n",
              "            </tr>\n",
              "            <tr>\n",
              "                                <td id=\"T_b3760a7e_ea16_11eb_a8fa_0242ac1c0002row63_col0\" class=\"data row63 col0\" >Tik-Tok of Oz</td>\n",
              "                        <td id=\"T_b3760a7e_ea16_11eb_a8fa_0242ac1c0002row63_col1\" class=\"data row63 col1\" >1995</td>\n",
              "                        <td id=\"T_b3760a7e_ea16_11eb_a8fa_0242ac1c0002row63_col2\" class=\"data row63 col2\" >4</td>\n",
              "            </tr>\n",
              "            <tr>\n",
              "                                <td id=\"T_b3760a7e_ea16_11eb_a8fa_0242ac1c0002row64_col0\" class=\"data row64 col0\" >Islands of Magic</td>\n",
              "                        <td id=\"T_b3760a7e_ea16_11eb_a8fa_0242ac1c0002row64_col1\" class=\"data row64 col1\" >1922</td>\n",
              "                        <td id=\"T_b3760a7e_ea16_11eb_a8fa_0242ac1c0002row64_col2\" class=\"data row64 col2\" >4</td>\n",
              "            </tr>\n",
              "            <tr>\n",
              "                                <td id=\"T_b3760a7e_ea16_11eb_a8fa_0242ac1c0002row65_col0\" class=\"data row65 col0\" >Junior Classics Volume 8: Animal and Nature Stories</td>\n",
              "                        <td id=\"T_b3760a7e_ea16_11eb_a8fa_0242ac1c0002row65_col1\" class=\"data row65 col1\" >1918</td>\n",
              "                        <td id=\"T_b3760a7e_ea16_11eb_a8fa_0242ac1c0002row65_col2\" class=\"data row65 col2\" >3</td>\n",
              "            </tr>\n",
              "            <tr>\n",
              "                                <td id=\"T_b3760a7e_ea16_11eb_a8fa_0242ac1c0002row66_col0\" class=\"data row66 col0\" >Don Quixote - Vol. 2</td>\n",
              "                        <td id=\"T_b3760a7e_ea16_11eb_a8fa_0242ac1c0002row66_col1\" class=\"data row66 col1\" >1885</td>\n",
              "                        <td id=\"T_b3760a7e_ea16_11eb_a8fa_0242ac1c0002row66_col2\" class=\"data row66 col2\" >3</td>\n",
              "            </tr>\n",
              "            <tr>\n",
              "                                <td id=\"T_b3760a7e_ea16_11eb_a8fa_0242ac1c0002row67_col0\" class=\"data row67 col0\" >Gentle Measures in the Management and Training of the Young</td>\n",
              "                        <td id=\"T_b3760a7e_ea16_11eb_a8fa_0242ac1c0002row67_col1\" class=\"data row67 col1\" >1871</td>\n",
              "                        <td id=\"T_b3760a7e_ea16_11eb_a8fa_0242ac1c0002row67_col2\" class=\"data row67 col2\" >3</td>\n",
              "            </tr>\n",
              "            <tr>\n",
              "                                <td id=\"T_b3760a7e_ea16_11eb_a8fa_0242ac1c0002row68_col0\" class=\"data row68 col0\" >Reviews</td>\n",
              "                        <td id=\"T_b3760a7e_ea16_11eb_a8fa_0242ac1c0002row68_col1\" class=\"data row68 col1\" >1984</td>\n",
              "                        <td id=\"T_b3760a7e_ea16_11eb_a8fa_0242ac1c0002row68_col2\" class=\"data row68 col2\" >3</td>\n",
              "            </tr>\n",
              "            <tr>\n",
              "                                <td id=\"T_b3760a7e_ea16_11eb_a8fa_0242ac1c0002row69_col0\" class=\"data row69 col0\" >Book of Stories for the Storyteller</td>\n",
              "                        <td id=\"T_b3760a7e_ea16_11eb_a8fa_0242ac1c0002row69_col1\" class=\"data row69 col1\" >1929</td>\n",
              "                        <td id=\"T_b3760a7e_ea16_11eb_a8fa_0242ac1c0002row69_col2\" class=\"data row69 col2\" >3</td>\n",
              "            </tr>\n",
              "            <tr>\n",
              "                                <td id=\"T_b3760a7e_ea16_11eb_a8fa_0242ac1c0002row70_col0\" class=\"data row70 col0\" >Planet of the Damned</td>\n",
              "                        <td id=\"T_b3760a7e_ea16_11eb_a8fa_0242ac1c0002row70_col1\" class=\"data row70 col1\" >1962</td>\n",
              "                        <td id=\"T_b3760a7e_ea16_11eb_a8fa_0242ac1c0002row70_col2\" class=\"data row70 col2\" >3</td>\n",
              "            </tr>\n",
              "            <tr>\n",
              "                                <td id=\"T_b3760a7e_ea16_11eb_a8fa_0242ac1c0002row71_col0\" class=\"data row71 col0\" >Scarlet Letter</td>\n",
              "                        <td id=\"T_b3760a7e_ea16_11eb_a8fa_0242ac1c0002row71_col1\" class=\"data row71 col1\" >1916</td>\n",
              "                        <td id=\"T_b3760a7e_ea16_11eb_a8fa_0242ac1c0002row71_col2\" class=\"data row71 col2\" >3</td>\n",
              "            </tr>\n",
              "            <tr>\n",
              "                                <td id=\"T_b3760a7e_ea16_11eb_a8fa_0242ac1c0002row72_col0\" class=\"data row72 col0\" >Hypatia</td>\n",
              "                        <td id=\"T_b3760a7e_ea16_11eb_a8fa_0242ac1c0002row72_col1\" class=\"data row72 col1\" >1975</td>\n",
              "                        <td id=\"T_b3760a7e_ea16_11eb_a8fa_0242ac1c0002row72_col2\" class=\"data row72 col2\" >3</td>\n",
              "            </tr>\n",
              "            <tr>\n",
              "                                <td id=\"T_b3760a7e_ea16_11eb_a8fa_0242ac1c0002row73_col0\" class=\"data row73 col0\" >Miserables Vol. 2</td>\n",
              "                        <td id=\"T_b3760a7e_ea16_11eb_a8fa_0242ac1c0002row73_col1\" class=\"data row73 col1\" >1887</td>\n",
              "                        <td id=\"T_b3760a7e_ea16_11eb_a8fa_0242ac1c0002row73_col2\" class=\"data row73 col2\" >3</td>\n",
              "            </tr>\n",
              "            <tr>\n",
              "                                <td id=\"T_b3760a7e_ea16_11eb_a8fa_0242ac1c0002row74_col0\" class=\"data row74 col0\" >He Knew He Was Right</td>\n",
              "                        <td id=\"T_b3760a7e_ea16_11eb_a8fa_0242ac1c0002row74_col1\" class=\"data row74 col1\" >1869</td>\n",
              "                        <td id=\"T_b3760a7e_ea16_11eb_a8fa_0242ac1c0002row74_col2\" class=\"data row74 col2\" >3</td>\n",
              "            </tr>\n",
              "            <tr>\n",
              "                                <td id=\"T_b3760a7e_ea16_11eb_a8fa_0242ac1c0002row75_col0\" class=\"data row75 col0\" >Eight Harvard Poets</td>\n",
              "                        <td id=\"T_b3760a7e_ea16_11eb_a8fa_0242ac1c0002row75_col1\" class=\"data row75 col1\" >1917</td>\n",
              "                        <td id=\"T_b3760a7e_ea16_11eb_a8fa_0242ac1c0002row75_col2\" class=\"data row75 col2\" >3</td>\n",
              "            </tr>\n",
              "            <tr>\n",
              "                                <td id=\"T_b3760a7e_ea16_11eb_a8fa_0242ac1c0002row76_col0\" class=\"data row76 col0\" >Pony Rider Boys in Texas</td>\n",
              "                        <td id=\"T_b3760a7e_ea16_11eb_a8fa_0242ac1c0002row76_col1\" class=\"data row76 col1\" >1910</td>\n",
              "                        <td id=\"T_b3760a7e_ea16_11eb_a8fa_0242ac1c0002row76_col2\" class=\"data row76 col2\" >2</td>\n",
              "            </tr>\n",
              "            <tr>\n",
              "                                <td id=\"T_b3760a7e_ea16_11eb_a8fa_0242ac1c0002row77_col0\" class=\"data row77 col0\" >Sunny Side</td>\n",
              "                        <td id=\"T_b3760a7e_ea16_11eb_a8fa_0242ac1c0002row77_col1\" class=\"data row77 col1\" >1986</td>\n",
              "                        <td id=\"T_b3760a7e_ea16_11eb_a8fa_0242ac1c0002row77_col2\" class=\"data row77 col2\" >2</td>\n",
              "            </tr>\n",
              "            <tr>\n",
              "                                <td id=\"T_b3760a7e_ea16_11eb_a8fa_0242ac1c0002row78_col0\" class=\"data row78 col0\" >Underground Railroad, Part 4</td>\n",
              "                        <td id=\"T_b3760a7e_ea16_11eb_a8fa_0242ac1c0002row78_col1\" class=\"data row78 col1\" >1991</td>\n",
              "                        <td id=\"T_b3760a7e_ea16_11eb_a8fa_0242ac1c0002row78_col2\" class=\"data row78 col2\" >2</td>\n",
              "            </tr>\n",
              "            <tr>\n",
              "                                <td id=\"T_b3760a7e_ea16_11eb_a8fa_0242ac1c0002row79_col0\" class=\"data row79 col0\" >Tom Swift and the Visitor From Planet X</td>\n",
              "                        <td id=\"T_b3760a7e_ea16_11eb_a8fa_0242ac1c0002row79_col1\" class=\"data row79 col1\" >1954</td>\n",
              "                        <td id=\"T_b3760a7e_ea16_11eb_a8fa_0242ac1c0002row79_col2\" class=\"data row79 col2\" >2</td>\n",
              "            </tr>\n",
              "            <tr>\n",
              "                                <td id=\"T_b3760a7e_ea16_11eb_a8fa_0242ac1c0002row80_col0\" class=\"data row80 col0\" >With Fire and Sword (Byers)</td>\n",
              "                        <td id=\"T_b3760a7e_ea16_11eb_a8fa_0242ac1c0002row80_col1\" class=\"data row80 col1\" >1911</td>\n",
              "                        <td id=\"T_b3760a7e_ea16_11eb_a8fa_0242ac1c0002row80_col2\" class=\"data row80 col2\" >2</td>\n",
              "            </tr>\n",
              "            <tr>\n",
              "                                <td id=\"T_b3760a7e_ea16_11eb_a8fa_0242ac1c0002row81_col0\" class=\"data row81 col0\" >Sonnets of Michael Angelo Buonarroti and Tommaso Campanella</td>\n",
              "                        <td id=\"T_b3760a7e_ea16_11eb_a8fa_0242ac1c0002row81_col1\" class=\"data row81 col1\" >1878</td>\n",
              "                        <td id=\"T_b3760a7e_ea16_11eb_a8fa_0242ac1c0002row81_col2\" class=\"data row81 col2\" >2</td>\n",
              "            </tr>\n",
              "            <tr>\n",
              "                                <td id=\"T_b3760a7e_ea16_11eb_a8fa_0242ac1c0002row82_col0\" class=\"data row82 col0\" >Erewhon</td>\n",
              "                        <td id=\"T_b3760a7e_ea16_11eb_a8fa_0242ac1c0002row82_col1\" class=\"data row82 col1\" >1902</td>\n",
              "                        <td id=\"T_b3760a7e_ea16_11eb_a8fa_0242ac1c0002row82_col2\" class=\"data row82 col2\" >2</td>\n",
              "            </tr>\n",
              "            <tr>\n",
              "                                <td id=\"T_b3760a7e_ea16_11eb_a8fa_0242ac1c0002row83_col0\" class=\"data row83 col0\" >Book of Household Management</td>\n",
              "                        <td id=\"T_b3760a7e_ea16_11eb_a8fa_0242ac1c0002row83_col1\" class=\"data row83 col1\" >1861</td>\n",
              "                        <td id=\"T_b3760a7e_ea16_11eb_a8fa_0242ac1c0002row83_col2\" class=\"data row83 col2\" >2</td>\n",
              "            </tr>\n",
              "            <tr>\n",
              "                                <td id=\"T_b3760a7e_ea16_11eb_a8fa_0242ac1c0002row84_col0\" class=\"data row84 col0\" >Among the Pond People</td>\n",
              "                        <td id=\"T_b3760a7e_ea16_11eb_a8fa_0242ac1c0002row84_col1\" class=\"data row84 col1\" >1900</td>\n",
              "                        <td id=\"T_b3760a7e_ea16_11eb_a8fa_0242ac1c0002row84_col2\" class=\"data row84 col2\" >2</td>\n",
              "            </tr>\n",
              "            <tr>\n",
              "                                <td id=\"T_b3760a7e_ea16_11eb_a8fa_0242ac1c0002row85_col0\" class=\"data row85 col0\" >Hoof and Claw</td>\n",
              "                        <td id=\"T_b3760a7e_ea16_11eb_a8fa_0242ac1c0002row85_col1\" class=\"data row85 col1\" >1914</td>\n",
              "                        <td id=\"T_b3760a7e_ea16_11eb_a8fa_0242ac1c0002row85_col2\" class=\"data row85 col2\" >2</td>\n",
              "            </tr>\n",
              "            <tr>\n",
              "                                <td id=\"T_b3760a7e_ea16_11eb_a8fa_0242ac1c0002row86_col0\" class=\"data row86 col0\" >Dead Alive</td>\n",
              "                        <td id=\"T_b3760a7e_ea16_11eb_a8fa_0242ac1c0002row86_col1\" class=\"data row86 col1\" >1876</td>\n",
              "                        <td id=\"T_b3760a7e_ea16_11eb_a8fa_0242ac1c0002row86_col2\" class=\"data row86 col2\" >2</td>\n",
              "            </tr>\n",
              "            <tr>\n",
              "                                <td id=\"T_b3760a7e_ea16_11eb_a8fa_0242ac1c0002row87_col0\" class=\"data row87 col0\" >Democracy in America II</td>\n",
              "                        <td id=\"T_b3760a7e_ea16_11eb_a8fa_0242ac1c0002row87_col1\" class=\"data row87 col1\" >1962</td>\n",
              "                        <td id=\"T_b3760a7e_ea16_11eb_a8fa_0242ac1c0002row87_col2\" class=\"data row87 col2\" >1</td>\n",
              "            </tr>\n",
              "            <tr>\n",
              "                                <td id=\"T_b3760a7e_ea16_11eb_a8fa_0242ac1c0002row88_col0\" class=\"data row88 col0\" >Divine Comedy</td>\n",
              "                        <td id=\"T_b3760a7e_ea16_11eb_a8fa_0242ac1c0002row88_col1\" class=\"data row88 col1\" >1998</td>\n",
              "                        <td id=\"T_b3760a7e_ea16_11eb_a8fa_0242ac1c0002row88_col2\" class=\"data row88 col2\" >1</td>\n",
              "            </tr>\n",
              "            <tr>\n",
              "                                <td id=\"T_b3760a7e_ea16_11eb_a8fa_0242ac1c0002row89_col0\" class=\"data row89 col0\" >Hidden Treasures</td>\n",
              "                        <td id=\"T_b3760a7e_ea16_11eb_a8fa_0242ac1c0002row89_col1\" class=\"data row89 col1\" >2003</td>\n",
              "                        <td id=\"T_b3760a7e_ea16_11eb_a8fa_0242ac1c0002row89_col2\" class=\"data row89 col2\" >1</td>\n",
              "            </tr>\n",
              "            <tr>\n",
              "                                <td id=\"T_b3760a7e_ea16_11eb_a8fa_0242ac1c0002row90_col0\" class=\"data row90 col0\" >Theory of the Leisure Class</td>\n",
              "                        <td id=\"T_b3760a7e_ea16_11eb_a8fa_0242ac1c0002row90_col1\" class=\"data row90 col1\" >1912</td>\n",
              "                        <td id=\"T_b3760a7e_ea16_11eb_a8fa_0242ac1c0002row90_col2\" class=\"data row90 col2\" >1</td>\n",
              "            </tr>\n",
              "            <tr>\n",
              "                                <td id=\"T_b3760a7e_ea16_11eb_a8fa_0242ac1c0002row91_col0\" class=\"data row91 col0\" >Waverley, Volume 1</td>\n",
              "                        <td id=\"T_b3760a7e_ea16_11eb_a8fa_0242ac1c0002row91_col1\" class=\"data row91 col1\" >2011</td>\n",
              "                        <td id=\"T_b3760a7e_ea16_11eb_a8fa_0242ac1c0002row91_col2\" class=\"data row91 col2\" >1</td>\n",
              "            </tr>\n",
              "            <tr>\n",
              "                                <td id=\"T_b3760a7e_ea16_11eb_a8fa_0242ac1c0002row92_col0\" class=\"data row92 col0\" >Descent of Man and Selection in Relation to Sex, Part 1</td>\n",
              "                        <td id=\"T_b3760a7e_ea16_11eb_a8fa_0242ac1c0002row92_col1\" class=\"data row92 col1\" >1871</td>\n",
              "                        <td id=\"T_b3760a7e_ea16_11eb_a8fa_0242ac1c0002row92_col2\" class=\"data row92 col2\" >1</td>\n",
              "            </tr>\n",
              "            <tr>\n",
              "                                <td id=\"T_b3760a7e_ea16_11eb_a8fa_0242ac1c0002row93_col0\" class=\"data row93 col0\" >Martin Pippin in the Apple Orchard</td>\n",
              "                        <td id=\"T_b3760a7e_ea16_11eb_a8fa_0242ac1c0002row93_col1\" class=\"data row93 col1\" >1921</td>\n",
              "                        <td id=\"T_b3760a7e_ea16_11eb_a8fa_0242ac1c0002row93_col2\" class=\"data row93 col2\" >1</td>\n",
              "            </tr>\n",
              "            <tr>\n",
              "                                <td id=\"T_b3760a7e_ea16_11eb_a8fa_0242ac1c0002row94_col0\" class=\"data row94 col0\" >Memoirs of Jacques Casanova Vol. 2</td>\n",
              "                        <td id=\"T_b3760a7e_ea16_11eb_a8fa_0242ac1c0002row94_col1\" class=\"data row94 col1\" >1910</td>\n",
              "                        <td id=\"T_b3760a7e_ea16_11eb_a8fa_0242ac1c0002row94_col2\" class=\"data row94 col2\" >1</td>\n",
              "            </tr>\n",
              "            <tr>\n",
              "                                <td id=\"T_b3760a7e_ea16_11eb_a8fa_0242ac1c0002row95_col0\" class=\"data row95 col0\" >History of the Decline and Fall of the Roman Empire Vol. IV</td>\n",
              "                        <td id=\"T_b3760a7e_ea16_11eb_a8fa_0242ac1c0002row95_col1\" class=\"data row95 col1\" >1787</td>\n",
              "                        <td id=\"T_b3760a7e_ea16_11eb_a8fa_0242ac1c0002row95_col2\" class=\"data row95 col2\" >0</td>\n",
              "            </tr>\n",
              "            <tr>\n",
              "                                <td id=\"T_b3760a7e_ea16_11eb_a8fa_0242ac1c0002row96_col0\" class=\"data row96 col0\" >Wolf Hunters</td>\n",
              "                        <td id=\"T_b3760a7e_ea16_11eb_a8fa_0242ac1c0002row96_col1\" class=\"data row96 col1\" >1908</td>\n",
              "                        <td id=\"T_b3760a7e_ea16_11eb_a8fa_0242ac1c0002row96_col2\" class=\"data row96 col2\" >0</td>\n",
              "            </tr>\n",
              "            <tr>\n",
              "                                <td id=\"T_b3760a7e_ea16_11eb_a8fa_0242ac1c0002row97_col0\" class=\"data row97 col0\" >Commentary on St. Paul's Epistle to the Galatians</td>\n",
              "                        <td id=\"T_b3760a7e_ea16_11eb_a8fa_0242ac1c0002row97_col1\" class=\"data row97 col1\" >1774</td>\n",
              "                        <td id=\"T_b3760a7e_ea16_11eb_a8fa_0242ac1c0002row97_col2\" class=\"data row97 col2\" >0</td>\n",
              "            </tr>\n",
              "            <tr>\n",
              "                                <td id=\"T_b3760a7e_ea16_11eb_a8fa_0242ac1c0002row98_col0\" class=\"data row98 col0\" >Analysis of Mind</td>\n",
              "                        <td id=\"T_b3760a7e_ea16_11eb_a8fa_0242ac1c0002row98_col1\" class=\"data row98 col1\" >1822</td>\n",
              "                        <td id=\"T_b3760a7e_ea16_11eb_a8fa_0242ac1c0002row98_col2\" class=\"data row98 col2\" >0</td>\n",
              "            </tr>\n",
              "            <tr>\n",
              "                                <td id=\"T_b3760a7e_ea16_11eb_a8fa_0242ac1c0002row99_col0\" class=\"data row99 col0\" >History of England from the Invasion of Julius Caesar to the Revolution of 1688, Volume 1E</td>\n",
              "                        <td id=\"T_b3760a7e_ea16_11eb_a8fa_0242ac1c0002row99_col1\" class=\"data row99 col1\" >1773</td>\n",
              "                        <td id=\"T_b3760a7e_ea16_11eb_a8fa_0242ac1c0002row99_col2\" class=\"data row99 col2\" >0</td>\n",
              "            </tr>\n",
              "            <tr>\n",
              "                                <td id=\"T_b3760a7e_ea16_11eb_a8fa_0242ac1c0002row100_col0\" class=\"data row100 col0\" >Simple Story</td>\n",
              "                        <td id=\"T_b3760a7e_ea16_11eb_a8fa_0242ac1c0002row100_col1\" class=\"data row100 col1\" >1820</td>\n",
              "                        <td id=\"T_b3760a7e_ea16_11eb_a8fa_0242ac1c0002row100_col2\" class=\"data row100 col2\" >0</td>\n",
              "            </tr>\n",
              "            <tr>\n",
              "                                <td id=\"T_b3760a7e_ea16_11eb_a8fa_0242ac1c0002row101_col0\" class=\"data row101 col0\" >Old Greek Stories</td>\n",
              "                        <td id=\"T_b3760a7e_ea16_11eb_a8fa_0242ac1c0002row101_col1\" class=\"data row101 col1\" >1895</td>\n",
              "                        <td id=\"T_b3760a7e_ea16_11eb_a8fa_0242ac1c0002row101_col2\" class=\"data row101 col2\" >0</td>\n",
              "            </tr>\n",
              "            <tr>\n",
              "                                <td id=\"T_b3760a7e_ea16_11eb_a8fa_0242ac1c0002row102_col0\" class=\"data row102 col0\" >Stories Mother Nature Told Her Children</td>\n",
              "                        <td id=\"T_b3760a7e_ea16_11eb_a8fa_0242ac1c0002row102_col1\" class=\"data row102 col1\" >1888</td>\n",
              "                        <td id=\"T_b3760a7e_ea16_11eb_a8fa_0242ac1c0002row102_col2\" class=\"data row102 col2\" >0</td>\n",
              "            </tr>\n",
              "            <tr>\n",
              "                                <td id=\"T_b3760a7e_ea16_11eb_a8fa_0242ac1c0002row103_col0\" class=\"data row103 col0\" >History of the Decline and Fall of the Roman Empire Vol. II</td>\n",
              "                        <td id=\"T_b3760a7e_ea16_11eb_a8fa_0242ac1c0002row103_col1\" class=\"data row103 col1\" >1787</td>\n",
              "                        <td id=\"T_b3760a7e_ea16_11eb_a8fa_0242ac1c0002row103_col2\" class=\"data row103 col2\" >0</td>\n",
              "            </tr>\n",
              "            <tr>\n",
              "                                <td id=\"T_b3760a7e_ea16_11eb_a8fa_0242ac1c0002row104_col0\" class=\"data row104 col0\" >Henrietta Temple</td>\n",
              "                        <td id=\"T_b3760a7e_ea16_11eb_a8fa_0242ac1c0002row104_col1\" class=\"data row104 col1\" >1837</td>\n",
              "                        <td id=\"T_b3760a7e_ea16_11eb_a8fa_0242ac1c0002row104_col2\" class=\"data row104 col2\" >0</td>\n",
              "            </tr>\n",
              "            <tr>\n",
              "                                <td id=\"T_b3760a7e_ea16_11eb_a8fa_0242ac1c0002row105_col0\" class=\"data row105 col0\" >Mary Barton</td>\n",
              "                        <td id=\"T_b3760a7e_ea16_11eb_a8fa_0242ac1c0002row105_col1\" class=\"data row105 col1\" >1849</td>\n",
              "                        <td id=\"T_b3760a7e_ea16_11eb_a8fa_0242ac1c0002row105_col2\" class=\"data row105 col2\" >0</td>\n",
              "            </tr>\n",
              "            <tr>\n",
              "                                <td id=\"T_b3760a7e_ea16_11eb_a8fa_0242ac1c0002row106_col0\" class=\"data row106 col0\" >Passionate Friends</td>\n",
              "                        <td id=\"T_b3760a7e_ea16_11eb_a8fa_0242ac1c0002row106_col1\" class=\"data row106 col1\" >1913</td>\n",
              "                        <td id=\"T_b3760a7e_ea16_11eb_a8fa_0242ac1c0002row106_col2\" class=\"data row106 col2\" >0</td>\n",
              "            </tr>\n",
              "            <tr>\n",
              "                                <td id=\"T_b3760a7e_ea16_11eb_a8fa_0242ac1c0002row107_col0\" class=\"data row107 col0\" >Five Little Peppers and How They Grew</td>\n",
              "                        <td id=\"T_b3760a7e_ea16_11eb_a8fa_0242ac1c0002row107_col1\" class=\"data row107 col1\" >1880</td>\n",
              "                        <td id=\"T_b3760a7e_ea16_11eb_a8fa_0242ac1c0002row107_col2\" class=\"data row107 col2\" >0</td>\n",
              "            </tr>\n",
              "            <tr>\n",
              "                                <td id=\"T_b3760a7e_ea16_11eb_a8fa_0242ac1c0002row108_col0\" class=\"data row108 col0\" >Shakespeare's Sonnets</td>\n",
              "                        <td id=\"T_b3760a7e_ea16_11eb_a8fa_0242ac1c0002row108_col1\" class=\"data row108 col1\" >1999</td>\n",
              "                        <td id=\"T_b3760a7e_ea16_11eb_a8fa_0242ac1c0002row108_col2\" class=\"data row108 col2\" >0</td>\n",
              "            </tr>\n",
              "            <tr>\n",
              "                                <td id=\"T_b3760a7e_ea16_11eb_a8fa_0242ac1c0002row109_col0\" class=\"data row109 col0\" >Popular History of Ireland, Book 01</td>\n",
              "                        <td id=\"T_b3760a7e_ea16_11eb_a8fa_0242ac1c0002row109_col1\" class=\"data row109 col1\" >1836</td>\n",
              "                        <td id=\"T_b3760a7e_ea16_11eb_a8fa_0242ac1c0002row109_col2\" class=\"data row109 col2\" >0</td>\n",
              "            </tr>\n",
              "            <tr>\n",
              "                                <td id=\"T_b3760a7e_ea16_11eb_a8fa_0242ac1c0002row110_col0\" class=\"data row110 col0\" >My Book Of Favourite Fairy Tales</td>\n",
              "                        <td id=\"T_b3760a7e_ea16_11eb_a8fa_0242ac1c0002row110_col1\" class=\"data row110 col1\" >1921</td>\n",
              "                        <td id=\"T_b3760a7e_ea16_11eb_a8fa_0242ac1c0002row110_col2\" class=\"data row110 col2\" >0</td>\n",
              "            </tr>\n",
              "            <tr>\n",
              "                                <td id=\"T_b3760a7e_ea16_11eb_a8fa_0242ac1c0002row111_col0\" class=\"data row111 col0\" >Last of the Mohicans</td>\n",
              "                        <td id=\"T_b3760a7e_ea16_11eb_a8fa_0242ac1c0002row111_col1\" class=\"data row111 col1\" >1826</td>\n",
              "                        <td id=\"T_b3760a7e_ea16_11eb_a8fa_0242ac1c0002row111_col2\" class=\"data row111 col2\" >0</td>\n",
              "            </tr>\n",
              "            <tr>\n",
              "                                <td id=\"T_b3760a7e_ea16_11eb_a8fa_0242ac1c0002row112_col0\" class=\"data row112 col0\" >Count of Monte Cristo</td>\n",
              "                        <td id=\"T_b3760a7e_ea16_11eb_a8fa_0242ac1c0002row112_col1\" class=\"data row112 col1\" >1846</td>\n",
              "                        <td id=\"T_b3760a7e_ea16_11eb_a8fa_0242ac1c0002row112_col2\" class=\"data row112 col2\" >0</td>\n",
              "            </tr>\n",
              "            <tr>\n",
              "                                <td id=\"T_b3760a7e_ea16_11eb_a8fa_0242ac1c0002row113_col0\" class=\"data row113 col0\" >Timaeus</td>\n",
              "                        <td id=\"T_b3760a7e_ea16_11eb_a8fa_0242ac1c0002row113_col1\" class=\"data row113 col1\" >1820</td>\n",
              "                        <td id=\"T_b3760a7e_ea16_11eb_a8fa_0242ac1c0002row113_col2\" class=\"data row113 col2\" >0</td>\n",
              "            </tr>\n",
              "            <tr>\n",
              "                                <td id=\"T_b3760a7e_ea16_11eb_a8fa_0242ac1c0002row114_col0\" class=\"data row114 col0\" >Exemplary Novels of Miguel de Cervantes Saavedra</td>\n",
              "                        <td id=\"T_b3760a7e_ea16_11eb_a8fa_0242ac1c0002row114_col1\" class=\"data row114 col1\" >1822</td>\n",
              "                        <td id=\"T_b3760a7e_ea16_11eb_a8fa_0242ac1c0002row114_col2\" class=\"data row114 col2\" >0</td>\n",
              "            </tr>\n",
              "    </tbody></table>"
            ],
            "text/plain": [
              "<pandas.io.formats.style.Styler at 0x7fe3a9b42a50>"
            ]
          },
          "metadata": {
            "tags": []
          },
          "execution_count": 52
        }
      ]
    },
    {
      "cell_type": "markdown",
      "metadata": {
        "id": "WZq1J_hpkl27"
      },
      "source": [
        "## Extracting a subset of 300 sentences\n",
        "####*from the subset of all qualified sentences generated above (which is composed of 970 sentences in our case)*"
      ]
    },
    {
      "cell_type": "code",
      "metadata": {
        "id": "27Okol2vQKgA",
        "colab": {
          "base_uri": "https://localhost:8080/"
        },
        "outputId": "2a9cab33-c5bf-409a-ef35-c6b9a3f33ce3"
      },
      "source": [
        "dataset_300 = []\n",
        "\n",
        "#First round - taking one sentence from each book\n",
        "for i, book in enumerate(df[\"book title\"]):\n",
        "  if df[\"number of sentences\"][i] > 0:\n",
        "    #print(\"\\n\", book, \", \", df[\"number of sentences\"][i], \"sentences\")\n",
        "    #print(dict_books[book])\n",
        "    rnd_sentence = random.choice(dict_books[book])\n",
        "    #print(\"CHOSEN SENTENCE: \", rnd_sentence)\n",
        "    dataset_300.append(rnd_sentence)\n",
        "\n",
        "\n",
        "#Second round - taking randomly sentences from books\n",
        "temp = list(df[\"book title\"].items()) \n",
        "chosen_books = []\n",
        "\n",
        "while len(dataset_300) < 300:\n",
        "  if len(dataset_300) == num_remaining_books*2 - num_sentences_1 or \\\n",
        "  len(dataset_300) == num_remaining_books*3 - num_sentences_1*2 - num_sentences_2 or \\\n",
        "  len(dataset_300) == num_remaining_books*4 - num_sentences_1*3 - num_sentences_2*2 - num_sentences_3: \n",
        "    chosen_books = []\n",
        "  rnd_book = random.choice(df[\"book title\"])\n",
        "  index = [idx for idx, key in enumerate(temp) if key[1] == rnd_book]\n",
        "  num_sentences = df[\"number of sentences\"][index[0]]\n",
        "  \n",
        "  if rnd_book not in chosen_books:\n",
        "    if num_sentences > 1:\n",
        "      #print(\"\\n\", rnd_book, \", \", num_sentences, \"sentences\")\n",
        "      #print(dict_books[rnd_book])\n",
        "      rnd_sentence = random.choice(dict_books[rnd_book])\n",
        "      if rnd_sentence not in dataset_300:\n",
        "        #print(\"CHOSEN SENTENCE: \", rnd_sentence)\n",
        "        dataset_300.append(rnd_sentence)\n",
        "        chosen_books.append(rnd_book)\n",
        "      #else:\n",
        "        #print(\"SENTENCE %s IS ALREADY IN THE DATASET\"%rnd_sentence)\n",
        "  #else:\n",
        "    #print(\"This book was already chosen once\")\n",
        "\n",
        "print(\"Length of the final dataset: %d sentences\"%len(dataset_300))"
      ],
      "execution_count": 53,
      "outputs": [
        {
          "output_type": "stream",
          "text": [
            "Length of the final dataset: 300 sentences\n"
          ],
          "name": "stdout"
        }
      ]
    },
    {
      "cell_type": "code",
      "metadata": {
        "id": "6_L6Pk5PS7Fd",
        "colab": {
          "base_uri": "https://localhost:8080/"
        },
        "outputId": "b5a96173-837c-42e3-e21e-15471e9c79c5"
      },
      "source": [
        "print(\"Final dataset of 300 sentences IDs:\\n\", dataset_300)"
      ],
      "execution_count": 54,
      "outputs": [
        {
          "output_type": "stream",
          "text": [
            "Final dataset of 300 sentences IDs:\n",
            " ['3752-4944-0010', '3536-8226-0014', '2902-9006-0012', '3000-15664-0029', '5338-24615-0013', '1988-24833-0023', '5895-34622-0018', '5536-43358-0011', '174-50561-0003', '6241-61943-0023', '5694-64029-0004', '6345-64257-0016', '6319-64726-0017', '6313-66129-0020', '6313-76958-0028', '2428-83699-0019', '6345-93306-0018', '7976-105575-0019', '7976-110124-0013', '7850-111771-0006', '251-118436-0011', '84-121550-0026', '422-122949-0029', '777-126732-0038', '1272-128104-0006', '652-129742-0010', '652-130726-0017', '1272-135031-0020', '251-136532-0001', '3170-137482-0045', '251-137823-0014', '3576-138058-0021', '1272-141231-0003', '1919-142785-0023', '2035-147961-0001', '1988-148538-0007', '2086-149220-0046', '2277-149897-0023', '2412-153948-0002', '2803-154320-0009', '3853-163249-0019', '3081-166546-0042', '174-168635-0001', '1462-170145-0005', '6295-244435-0034', '8297-275155-0010', '6319-275224-0015', '7850-281318-0003', '5338-284437-0019', '7850-286674-0002', '8842-302201-0008', '8842-304647-0012', '1284-1181-0007', '1995-1826-0020', '4446-2271-0012', '3570-5694-0004', '3729-6852-0019', '4077-13751-0013', '4507-16021-0048', '5105-28241-0019', '4970-29095-0036', '908-31957-0012', '5683-32866-0023', '5142-33396-0023', '5142-36377-0017', '5142-36586-0001', '4992-41797-0010', '6829-68769-0053', '61-70970-0022', '6930-75918-0015', '6930-76324-0026', '7021-79740-0002', '6930-81414-0008', '7021-85628-0002', '7176-88083-0019', '7176-92135-0003', '7729-102255-0036', '121-121726-0000', '672-122797-0038', '260-123288-0012', '260-123440-0018', '121-127105-0016', '2300-131720-0036', '1188-133604-0038', '237-134500-0029', '1089-134686-0014', '1221-135766-0015', '1580-141084-0010', '2094-142345-0035', '908-157963-0025', '3575-170457-0034', '8455-210777-0058', '8463-287645-0013', '8555-292519-0008', '8463-294825-0005', '2428-83699-0032', '5683-32866-0022', '8463-294828-0016', '4970-29095-0032', '6930-81414-0007', '5895-34615-0008', '1272-135031-0008', '260-123288-0027', '1988-147956-0002', '1988-24833-0027', '3575-170457-0014', '5142-36377-0002', '7021-85628-0008', '7127-75947-0035', '2412-153947-0001', '6345-64257-0014', '7850-286674-0015', '6295-244435-0018', '777-126732-0012', '4077-13751-0001', '2803-154328-0012', '174-168635-0000', '5142-33396-0010', '908-157963-0027', '251-136532-0018', '121-121726-0004', '2277-149896-0020', '8555-292519-0012', '6829-68771-0020', '1089-134686-0025', '6241-61946-0014', '3081-166546-0069', '8555-284449-0016', '2086-149220-0024', '3853-163249-0020', '7729-102255-0031', '908-31957-0002', '6319-64726-0008', '5536-43363-0011', '1272-128104-0007', '1272-141231-0027', '422-122949-0002', '1580-141083-0016', '4992-41806-0009', '61-70970-0009', '3752-4944-0051', '3536-8226-0029', '3000-15664-0003', '7976-110124-0022', '1462-170142-0028', '8455-210777-0053', '5694-64029-0018', '1284-1180-0028', '260-123440-0013', '6313-66125-0021', '251-118436-0015', '4446-2275-0022', '7976-105575-0010', '652-130737-0012', '7021-79740-0001', '5105-28240-0012', '7850-281318-0015', '8297-275154-0019', '237-134500-0023', '121-127105-0003', '2094-142345-0007', '1221-135766-0014', '6930-76324-0024', '7176-88083-0017', '3576-138058-0034', '251-137823-0016', '3170-137482-0034', '652-129742-0005', '2902-9008-0009', '672-122797-0005', '8842-304647-0008', '6319-275224-0018', '1995-1836-0007', '8463-287645-0014', '2300-131720-0008', '7176-92135-0036', '4507-16021-0059', '6345-93302-0003', '1188-133604-0039', '8842-302203-0011', '6313-76958-0000', '1919-142785-0009', '4970-29093-0023', '652-129742-0004', '8297-275154-0012', '61-70968-0004', '260-123440-0007', '6313-66129-0022', '5694-64029-0030', '4446-2273-0004', '1988-147956-0029', '2086-149220-0023', '6930-76324-0012', '422-122949-0028', '3576-138058-0003', '777-126732-0035', '7127-75946-0011', '1995-1826-0025', '7021-79759-0002', '3752-4944-0002', '2277-149897-0009', '1284-1181-0008', '672-122797-0044', '5142-33396-0005', '6295-244435-0011', '3853-163249-0021', '2428-83699-0011', '2902-9006-0000', '652-130726-0000', '6295-64301-0004', '5895-34629-0002', '1462-170142-0016', '8455-210777-0021', '5683-32865-0017', '251-118436-0004', '2300-131720-0024', '121-121726-0007', '5338-284437-0016', '908-31957-0014', '3170-137482-0012', '1188-133604-0013', '6319-275224-0013', '6345-93302-0022', '6319-64726-0003', '260-123286-0024', '7976-110124-0017', '7729-102255-0029', '908-157963-0013', '3081-166546-0011', '2803-154328-0017', '7021-85628-0016', '7850-281318-0012', '3575-170457-0011', '1089-134686-0026', '4507-16021-0055', '6930-81414-0010', '237-134500-0024', '2094-142345-0025', '174-168635-0021', '4077-13754-0004', '3000-15664-0002', '1988-24833-0008', '1272-135031-0006', '6829-68771-0027', '8842-302196-0006', '8463-294828-0020', '5536-43359-0000', '6241-61946-0018', '1272-141231-0017', '8555-292519-0007', '1580-141084-0049', '5105-28240-0004', '1221-135767-0019', '3536-8226-0028', '1272-128104-0010', '4992-41797-0011', '251-136532-0021', '121-127105-0001', '1988-24833-0005', '5694-64038-0003', '652-130737-0010', '3575-170457-0045', '2277-149897-0030', '6241-61946-0010', '4446-2273-0028', '260-123286-0017', '7850-281318-0023', '2803-154328-0011', '6295-64301-0031', '3752-4944-0049', '6295-244435-0027', '1284-1180-0002', '7127-75947-0024', '61-70968-0032', '4077-13754-0003', '652-129742-0013', '422-122949-0008', '3853-163249-0035', '777-126732-0074', '5142-33396-0022', '7729-102255-0030', '8297-275156-0000', '2428-83699-0031', '3000-15664-0027', '5895-34622-0003', '2035-147960-0003', '6930-81414-0003', '1089-134686-0027', '1995-1826-0022', '6930-76324-0001', '5683-32865-0014', '5536-43359-0006', '908-31957-0020', '1462-170142-0037', '8455-210777-0037', '3170-137482-0014', '1580-141083-0022', '6829-68769-0026', '6345-93306-0003', '8463-294825-0001']\n"
          ],
          "name": "stdout"
        }
      ]
    },
    {
      "cell_type": "code",
      "metadata": {
        "id": "zHFMnLB2hL8T",
        "colab": {
          "base_uri": "https://localhost:8080/"
        },
        "outputId": "dd14d84f-2e6d-4349-a305-3f3f6b80703a"
      },
      "source": [
        "content_lines_300 = []\n",
        "\n",
        "for sentence_id in dataset_300:\n",
        "  for i, item in enumerate(content_lines):\n",
        "    if sentence_id == content_lines[i,0]:\n",
        "      content_lines_300.append(content_lines[i])\n",
        "\n",
        "content_lines_300 = np.asarray(content_lines_300)\n",
        "\n",
        "print(\"Example:\\n\\n-First column of the 1st element of content_lines_300:\\n   \", content_lines_300[0,0])\n",
        "print(\"-Second column of the 2nd element of content_lines_300:\\n   \", content_lines_300[0,1])"
      ],
      "execution_count": 55,
      "outputs": [
        {
          "output_type": "stream",
          "text": [
            "Example:\n",
            "\n",
            "-First column of the 1st element of content_lines_300:\n",
            "    3752-4944-0010\n",
            "-Second column of the 2nd element of content_lines_300:\n",
            "    HE IS JUST MARRIED YOU KNOW IS HE SAID BURGESS\n"
          ],
          "name": "stdout"
        }
      ]
    },
    {
      "cell_type": "code",
      "metadata": {
        "id": "c8oGcRZLikPV",
        "colab": {
          "base_uri": "https://localhost:8080/"
        },
        "outputId": "d5addc6b-98b3-406b-ffa3-ea10be4d0cad"
      },
      "source": [
        "print(\"Final dataset of 300 sentences in text: \\n\", content_lines_300[:,1])"
      ],
      "execution_count": 56,
      "outputs": [
        {
          "output_type": "stream",
          "text": [
            "Final dataset of 300 sentences in text: \n",
            " ['HE IS JUST MARRIED YOU KNOW IS HE SAID BURGESS'\n",
            " 'BUT AS FOR THIS HERE CHILD B'\n",
            " 'TRIBE AFTER TRIBE WAS CROWDING DOWN TO THE ALPS AND TRAMPLING UPON EACH OTHER ON THE FRONTIERS OF THE EMPIRE'\n",
            " 'THEN FELL THE GLOAMING MAKING EVERYTHING STILL MORE FORBIDDING AND MYSTERIOUS'\n",
            " 'THE COURT WAS SPACIOUS WELL PAVED AND PERFECTLY CLEAN THERE BEING PROBABLY ANOTHER ENTRANCE BEHIND THE STABLES FOR REMOVING THE LITTER'\n",
            " 'TOM SAYS THANKS AND LOOKS AT HILDA AND SHE BLUSHES REALLY'\n",
            " 'THE CARAVAN WAS DIVIDED INTO THREE COMPARTMENTS PARTITIONED FROM EACH OTHER'\n",
            " 'TO THE UNTUTORED SAGE THE CONCENTRATION OF POPULATION WAS THE PROLIFIC MOTHER OF ALL EVILS MORAL NO LESS THAN PHYSICAL'\n",
            " 'THE WANDERING SINGER APPROACHES THEM WITH HIS LUTE'\n",
            " 'THOUGH NOT VERY LARGE IT APPEARED NOT LIKELY TO BE FILLED FOR CENTURIES'\n",
            " 'THE YANKEE PICKET LINES WERE NOT A HALF MILE OFF'\n",
            " 'THE OLD TIME WAS BUT A THICKER DREAM AND THIS IS TRUER BECAUSE MORE SHADOWY'\n",
            " 'THE LADY IN WAITING BECAME VERY IMPATIENT AND AT LENGTH ANNOUNCED TO THE PRINCESS THAT THEY ALL WAITED FOR HER'\n",
            " 'THE GREAT GREEN FIELD SURROUNDED ON ALL SIDES BY TALL TREES MADE THE PLACE AN IDEAL ONE FOR THEIR PURPOSE'\n",
            " \"HE'S A TROUBLE CURER NOT A TROUBLEMAKER EXCEPT FOR HIMSELF\"\n",
            " 'THERE WAS A TRAP AT THE BOY AND BLUNDERBUSS BUT THAT REQUIRED FETCHING'\n",
            " 'I WILL CATCH THE NIGHT TRAIN AND BRING MY MOTHER UP TO MORROW THEN WE WILL SEE WHAT CAN BE DONE'\n",
            " 'MY FRIEND WITH MANY OTHERS WAS BEING CARRIED OUT TO DIE ELSEWHERE'\n",
            " 'THE TWO ELDEST ATE THEIR APPLES BUT THE YOUNGEST COULD NOT EAT THAT NIGHT SHE THREW THE APPLE AWAY'\n",
            " 'THE CAPTURE OF LEE WAS A FAR MORE DIFFICULT UNDERTAKING'\n",
            " 'ALL DISCARDED PORTIONS OF THE HUMAN BODY STILL REMAIN PART OF IT ATTACHED TO IT BY INTANGIBLE CONNECTIONS'\n",
            " 'I SAW THE LADY WHO EREWHILE APPEARED VEILED UNDERNEATH THE ANGELIC FESTIVAL DIRECT HER EYES TO ME ACROSS THE RIVER'\n",
            " 'ONLY NAME IT WHATEVER I HAVE I OFFER THEE'\n",
            " 'HE PAUSED THEN ADDED WITH MODEST FIRMNESS'\n",
            " 'ON THE GENERAL PRINCIPLES OF ART MISTER QUILTER WRITES WITH EQUAL LUCIDITY'\n",
            " 'STIR THE SOAKED GELATIN IN WHILE THE CUCUMBER IS HOT'\n",
            " 'OF COURSE THESE ARE NOT THE ENTIRE MENUS BUT OF ALL THE WELL PREPARED DISHES THESE ARE THEIR BEST'\n",
            " \"I DON'T BELIEVE ANN KNEW ANY MAGIC OR SHE'D HAVE WORKED IT BEFORE\"\n",
            " 'BILL CHANDLER THE ZOOLOGIST HAD BEEN GOING DEEPER AND DEEPER INTO THE OLD SEA BOTTOM OF SYRTIS'\n",
            " 'WHOEVER YOU MAY BE I AM INDEBTED TO YOU FOR MY LIFE'\n",
            " 'THEY PICKED THEIR WAY THROUGH THE WRECKAGE AND EMERGED ON A SCENE OF FRIGHTFUL DESTRUCTION'\n",
            " 'THEY MADE HASTE TO OVERTAKE THEM WHICH AS THE PARTY MOVED SLOWLY THEY WERE ABLE TO DO WITH EASE'\n",
            " 'HIS INSTANT OF PANIC WAS FOLLOWED BY A SMALL SHARP BLOW HIGH ON HIS CHEST'\n",
            " 'A STORE OF PICKLED EGGS WILL BE FOUND VERY USEFUL AND ORNAMENTAL IN SERVING WITH MANY FIRST AND SECOND COURSE DISHES'\n",
            " 'PETER COULD GIVE NO VERY CLEAR ACCOUNT OF HIS TRANSACTIONS WITH CUTTER'\n",
            " 'CHAPTER SIXTEEN WHY THE NATIONAL VANITY OF THE AMERICANS IS MORE RESTLESS AND CAPTIOUS THAN THAT OF THE ENGLISH'\n",
            " 'PRAY GO TO BED FOR I AM SURE YOU MUST NEED REST'\n",
            " 'IT WAS THE WORST SUNDAY HE HAD SPENT IN HIS LIFE'\n",
            " 'NO ONE WHO IS HIMSELF HONEST WILL DOUBT MY BEING SO'\n",
            " 'YES MY LORD WE SHOULD TRY IN VAIN'\n",
            " 'BENNET WILL TAKE THE GARDEN AND GREEN HOUSE OFF MY HANDS THIS AUTUMN FOR A YEAR OR LONGER IF I LIKE'\n",
            " 'I SHOULD LIKE TO SEE THE DESK YOU SPEAK OF AND THE SPOT WHERE SHE FELL'\n",
            " 'THE HEART OF THAT EX CONVICT WAS FULL OF VIRGINITY'\n",
            " \"LET ME TAKE OFF YOUR COAT AND YOUR BOOTS THEY'RE OOZING WATER\"\n",
            " 'THERE WERE NEVER BEFORE SUCH TIMES IN OLD KENTUCKY'\n",
            " 'THE REPORT IS PREMATURE MY GOOD FRIEND'\n",
            " 'BEFORE THE DAY CLOSED THE GARDENER CAME WHISTLING FROM HIS FARM WORK TO LOOK OVER HIS PRETTY CHARGES'\n",
            " 'OH WHAT SHALL WE DO FOR A HOME'\n",
            " 'BUT SURELY THAT IS ALL WRONG SAID TOURMALINE GRAVELY'\n",
            " 'THEY THOUGHT THE TROUBLE CAME FROM BAD BRINGING UP OR NO BRINGING UP AT ALL'\n",
            " 'SO TO THE ROAD THOU SHALT BE RECONCILED AND FIND THE LADY AND WITH THE LADY LOVE'\n",
            " 'DUE TO THEE THEIR PRAISE OF MAIDEN PURE OF TEEMING MOTHERHOOD'\n",
            " 'SHE POURED INTO THE DISH A QUANTITY FROM EACH OF THESE BOTTLES'\n",
            " 'MISS TAYLOR DID NOT KNOW MUCH ABOUT COTTON BUT AT LEAST ONE MORE REMARK SEEMED CALLED FOR'\n",
            " \"I SAY SIR HARRY THE LITTLE GIRL'S GOING FAMOUSLY TO NIGHT ISN'T SHE\"\n",
            " 'IN THE NATURE OF THINGS LUXURIES AND THE COMFORTS OF LIFE BELONG TO THE LEISURE CLASS'\n",
            " 'I TELL HIM TO GIVE ME SOME COFFEE IF IT IS GOOD'\n",
            " 'THEIR SUFFERINGS HAVE NEVER YET BEEN FITLY CHRONICLED BY HUMAN SCRIBE'\n",
            " 'THIS WITHOUT RECKONING IN THE PAINS OF THE HEART AND SO IT GOES ON'\n",
            " 'NOTHING WAS TO BE DONE BUT TO PUT ABOUT AND RETURN IN DISAPPOINTMENT TOWARDS THE NORTH'\n",
            " 'HAS THEE CONSULTED THY MOTHER ABOUT A CAREER I SUPPOSE IT IS A CAREER THEE WANTS'\n",
            " \"IF HE TO KEEP ONE OATH MUST LOSE ONE JOY BY HIS LIFE'S STAR FORETOLD\"\n",
            " 'ALL THE FURNITURE BELONGED TO OTHER TIMES'\n",
            " 'IT WAS SO DARK THAT I COULD SEE NOTHING BUT A FEW SPARKS ON THE HEARTH'\n",
            " 'THE ONLY CHEERFUL CONVERSATION WAS THE CONVERSATION ACROSS THE TABLE BETWEEN NAOMI AND ME'\n",
            " 'SO IT IS WITH THE LOWER ANIMALS'\n",
            " 'ALWAYS IRRITABLE COLD INDIFFERENT HE HAD GROWN RAPIDLY MORE SO AS YEARS WENT ON'\n",
            " 'AND TO THINK WE CAN SAVE ALL THAT MISERY AND DESPAIR BY THE PAYMENT OF A HUNDRED AND FIFTY DOLLARS'\n",
            " 'ROBIN ENTERED THE HUT DRAGGING THE UNWILLING ESQUIRE AFTER HIM'\n",
            " \"THUS IT IS THAT THE HONOR OF THREE IS SAVED OUR COUNTRY'S OUR MASTER'S AND OUR OWN\"\n",
            " \"ISN'T HE THE GREATEST FOR GETTING INTO ODD CORNERS\"\n",
            " 'NOW DELIA CONTRIVED TO OBTAIN A GREAT INFLUENCE AND ASCENDENCY OVER THE MINDS OF THE CHILDREN BY MEANS OF THESE DOLLS'\n",
            " 'IT DID NOT BECKON OR INDEED MOVE AT ALL IT WAS AS STILL AS THE HAND OF DEATH'\n",
            " 'HE WAS SUCH A BIG BOY THAT HE WORE HIGH BOOTS AND CARRIED A JACK KNIFE'\n",
            " \"AS HE FLEW HIS DOWN REACHING CLUTCHING TALONS WERE NOT HALF A YARD ABOVE THE FUGITIVE'S HEAD\"\n",
            " 'YOUR PLAY MUST BE NOT MERELY A GOOD PLAY BUT A SUCCESSFUL ONE'\n",
            " 'HE PLANTED A COMPANY BEFORE THE HOTEL AND DEMANDED A SURRENDER OF THE ARMS BELONGING TO THE FREE STATE MILITARY COMPANIES'\n",
            " 'ALSO A POPULAR CONTRIVANCE WHEREBY LOVE MAKING MAY BE SUSPENDED BUT NOT STOPPED DURING THE PICNIC SEASON'\n",
            " 'THOUGHT THE FIR TREE AND BELIEVED IT ALL BECAUSE THE MAN WHO TOLD THE STORY WAS SO GOOD LOOKING WELL WELL'\n",
            " 'THAT WILL BE SAFEST NO NO NEVER'\n",
            " 'I AM VERY TIRED OF SWIMMING ABOUT HERE O MOUSE'\n",
            " 'PROBABLY NOT TILL THE SECOND POST'\n",
            " 'THE METER CONTINUED IN GENERAL SERVICE DURING EIGHTEEN NINETY NINE AND PROBABLY UP TO THE CLOSE OF THE CENTURY'\n",
            " 'BUT NOW HERE IS A SUBJECT OF WHICH YOU WILL WONDER AT FIRST WHY TURNER DREW IT AT ALL'\n",
            " \"I DON'T WANT TO STAND AROUND AND LOOK ON\"\n",
            " 'HE TRIED TO THINK HOW IT COULD BE'\n",
            " 'IF SPOKEN TO SHE WOULD NOT SPEAK AGAIN'\n",
            " 'I WILL TAKE THE BLACK CLAY WITH ME ALSO THE PENCIL CUTTINGS GOOD BYE'\n",
            " \"BUT NOT MORE THAN WHAT'S IN THE BIBLE AUNT SAID DINAH\"\n",
            " 'I SEE THEY LAY HELPLESS AND NAKED WEEPING AND NONE TO ANSWER NONE TO CHERISH THEE WITH MOTHERS SMILES'\n",
            " 'IN THIS MONOTONOUS LIFE OF MINE THAT WAS A PLEASANT EVENT'\n",
            " 'IT IS FOUNDED ON THE ACKNOWLEDGED WEAKNESS OF THOSE WHO SURVIVE THAT PERIOD OF LIFE AT WHICH MEN CEASE TO WORK'\n",
            " \"AS TO HIS AGE AND ALSO THE NAME OF HIS MASTER JACOB'S STATEMENT VARIED SOMEWHAT FROM THE ADVERTISEMENT\"\n",
            " 'OVER THE TRACK LINED CITY STREET THE YOUNG MEN THE GRINNING MEN PASS'\n",
            " 'OTHER SUBTLETIES OCCUR INSIDE EACH EPISODE THE TEXTURES SPARKLING WITH WIT INFORMATION AND INSIGHT'\n",
            " \"MAYBE THEY'RE UP TO SOME OF THEIR GAMES AND WANTS ROUSING\"\n",
            " 'ITS CURTAINS WERE OF THICK AND FADED TAPESTRY'\n",
            " 'DID MASTER SUMMON ME HE SAID ENTERING'\n",
            " 'BUT PHILIP IS HONEST AND HE HAS TALENT ENOUGH IF HE WILL STOP SCRIBBLING TO MAKE HIS WAY'\n",
            " 'NOTHING MORE NOT EVEN THE WRIST TO WHICH IT MIGHT BE ATTACHED'\n",
            " 'THE OUTSIDE DID NOT DEPEND ON THE INTERIOR'\n",
            " \"I HOPE HE DOESN'T WORK TOO HARD SAID SHAGGY\"\n",
            " 'A SUFFOCATING SMELL OF NITROGEN FILLS THE AIR IT ENTERS THE THROAT IT FILLS THE LUNGS'\n",
            " \"IT'S NO BETTER THAN A BADGER HOLE NO PROPER DUGOUT AT ALL\"\n",
            " \"I'LL HAVE TO CHECK SOME MORE SAYS TOM\"\n",
            " 'TO THOSE DUTIES YOU HAVE NOT YET BEEN CALLED AND WHEN YOU ARE YOU WILL BE LESS EAGER FOR CELEBRITY'\n",
            " 'THE SOUND OF AN IMPERATIVE AND UNCOMPROMISING BELL RECALLED ME IN DUE TIME TO THE REGIONS OF REALITY'\n",
            " 'FOR LIKE AS NOT THEY MUST HAVE THOUGHT HIM A PRINCE WHEN THEY SAW HIS FINE CAP'\n",
            " 'GOOD GRACIOUS HAS THE KING ANY RIGHT TO INTERFERE IN MATTERS OF THAT KIND'\n",
            " 'THIS IS A MISTAKE THOUGH A PERFECTLY NATURAL ONE'\n",
            " 'HE CAME TO HER SIDE AND SHE GAVE HIM NO GREETING'\n",
            " 'THEY THOUGHT HE MIGHT BE GOING TO TAKE A NAP AFTER HIS DINNER'\n",
            " 'HE INTENDED TO LEAVE EARLY IN THE MORNING BUT FIRST HE SOUGHT HIS FRIENDS AND TOLD THEM GOOD BYE'\n",
            " 'STRUGGLE WARFARE WAS THE CONDITION OF PRIVATE OWNERSHIP IT WAS FATAL'\n",
            " 'ITS ORIGIN WAS SMALL A GERM AN INSIGNIFICANT SEED HARDLY TO BE THOUGHT OF AS LIKELY TO AROUSE OPPOSITION'\n",
            " 'ON THAT SIDE DESCENT WAS IMPOSSIBLE AND HAD IT BEEN POSSIBLE THE BOTTOM WAS SHUT IN BY THE ENORMOUS ROCK'\n",
            " 'HE HAD NEVER BEEN FATHER LOVER HUSBAND FRIEND'\n",
            " 'IN THE STERN I CURVED THE TAIL UP ALMOST AS HIGH AS THE HEAD'\n",
            " 'AND LAY ME DOWN IN THY COLD BED AND LEAVE MY SHINING LOT'\n",
            " 'WITHOUT QUESTION HE HAD BECOME OVERNIGHT THE MOST WIDELY KNOWN ARCHAEOLOGIST IN HISTORY'\n",
            " 'HEAVEN A GOOD PLACE TO BE RAISED TO'\n",
            " 'THEN HE SAT DOWN IN HIS CHAIR AND GAZED WITHOUT SEEING CONTEMPLATING THE RESULT OF HIS WORK'\n",
            " 'THROUGH THE BLACK NIGHT RAIN HE SANG TO HER WINDOW BARS'\n",
            " \"THEN SHE GAVE A LITTLE LAUGH AND REPLIED NO MISS BETH I'M ELIZABETH PARSONS\"\n",
            " 'A GENTLE KICK FROM THE TALL BOY IN THE BENCH BEHIND URGED STEPHEN TO ASK A DIFFICULT QUESTION'\n",
            " 'IT CONSISTS SIMPLY OF A FEW HOUSES NOT WHAT IN ENGLAND OR GERMANY WE SHOULD CALL A HAMLET'\n",
            " 'VERY GOOD MANAGE IT AS YOU WILL'\n",
            " 'AS A PRIVATE CITIZEN I SHALL BE A MODEL OF DEPORTMENT BECAUSE IT WOULD BE DANGEROUS TO BE OTHERWISE'\n",
            " \"THERE IS A WONDERFUL INSIGHT IN HEAVEN'S BROAD AND SIMPLE SUNSHINE\"\n",
            " \"HE'S A KIND NEIGHBORLY MAN AND HIS BOY WILL TAKE MY PLACE ABOUT THE HOUSE AND PROTECT YOU FAITHFULLY\"\n",
            " 'HE CONTINUED HIS PRETENDED SEARCH AND TO GIVE COLOR TO HIS ERRAND MADE TWO ARRESTS'\n",
            " 'I DID NOT WRONG MYSELF SO BUT I PLACED A WRONG ON THEE'\n",
            " 'THE YOUNG PRINCE AT THESE WORDS FELT HIMSELF ON FIRE'\n",
            " 'THIS WAS CARRIED OUT TO THE LETTER'\n",
            " 'PAINTING HE TELLS US IS OF A DIFFERENT QUALITY TO MATHEMATICS AND FINISH IN ART IS ADDING MORE FACT'\n",
            " \"WHEN THE BUZZER SOUNDED HE PULLED HIS FOIL FROM HIS SECOND'S STARTLED GRASP AND RAN FORWARD\"\n",
            " 'WE TRUTHFUL ONES THE NOBILITY IN ANCIENT GREECE CALLED THEMSELVES'\n",
            " 'I WAS IN SUCH A HURRY TO COME TO YOU YOU LEFT YOUR DOOR OPEN'\n",
            " 'EXCLAIMED BILL HARMON TO HIS WIFE AS THEY WENT THROUGH THE LIGHTED HALL'\n",
            " 'TIS LATE AND I GO MYSELF WITHIN A SHORT SPACE'\n",
            " 'THIS OF COURSE WAS MERE BRAVADO ON THE PART OF THE COMMANDANT'\n",
            " \"I'VE WATCHED AS SHARP AS WATCHING CAN GO PRETTY NEAR\"\n",
            " 'GO QUIETLY ALONE NO HARM WILL BEFALL YOU'\n",
            " 'WHEN SHE RETURNED HIS HAND WAS STICKING THROUGH THE HOLE IN THE DOOR'\n",
            " 'PRESENTLY IT STOLE BACK TO HIS COAT SLEEVE'\n",
            " 'WERE I TO COMPLY WITH YOUR ORDERS WITHOUT EXPRESSING MY OWN OPINION I SHOULD SEEM TO HAVE DONE SO WILLINGLY HEREAFTER'\n",
            " 'WE WERE ORDERED FORWARD TO THE ATTACK'\n",
            " 'A BED QUILT MADE OF PATCHES OF DIFFERENT KINDS AND COLORS OF CLOTH ALL NEATLY SEWED TOGETHER'\n",
            " 'I AM SO VERY TIRED OF BEING ALL ALONE HERE'\n",
            " \"LODGED IN THE BRANCHES OF A PINYON TREE I THINK IT IS BUT HE DOESN'T ANSWER ME\"\n",
            " 'THEY SEEK TO SNAP THE SILVER CORD THAT BINDS ME TO MY DYING BODY'\n",
            " \"BUT WHY DIDN'T YOU TELL ME WHEN YOU WERE HERE IN THE SUMMER\"\n",
            " 'FIFTEEN OFFICERS OF OUR LITTLE HALF REGIMENT WERE DEAD OR WOUNDED'\n",
            " 'RHEIN AND MOSELLE EIGHTEEN NINETY THREE'\n",
            " 'DELLA HAD A YOUNG SISTER NAMED MARIA AND A COUSIN WHOSE NAME WAS JANE'\n",
            " 'NEVER MIND NOW INTERPOSED THE CAPTAIN WE WILL TALK OF THAT BY AND BY'\n",
            " 'I THOUGHT THAT WAS THE WAY TO BEGIN'\n",
            " \"I TRIED IT YESTERDAY IT SET MY BRAINS ON FIRE I'M FEELING THAT GLASS I TOOK JUST NOW\"\n",
            " 'IT WOULD SERVE YOU ALL RIGHT IF SHE WALKED OFF WITH CARL'\n",
            " 'THERE WAS A UNANIMOUS GROAN AT THIS AND MUCH REPROACH AFTER WHICH IN HIS PREOCCUPIED WAY HE EXPLAINED'\n",
            " 'THE HISTORY OF THE HOUSE IS PLAIN NOW'\n",
            " 'PEARL SAW AND GAZED INTENTLY BUT NEVER SOUGHT TO MAKE ACQUAINTANCE'\n",
            " 'THEY SAY ILLUMINATION BY CANDLE LIGHT IS THE PRETTIEST IN THE WORLD'\n",
            " 'BUT AT THIS POINT IN THE RAPIDS IT WAS IMPOSSIBLE FOR HIM TO STAY DOWN'\n",
            " 'WHAT LED ME INTO IT WAS A CERTAIN THIRST FOR VENGEANCE WHICH IS STRONG ENOUGH TO DISTURB THE QUIETEST HEARTS'\n",
            " 'AND THE ONLY TRUCK WE HAD AVAILABLE WAS IN THAT BURNING SHED THE SUPERINTENDENT ADDED BITTERLY'\n",
            " 'I DECLARED MYSELF QUITE WILLING FOR IT WAS NECESSARY TO BRAZEN IT OUT AFTER HAVING VENTURED AS FAR AS I HAD DONE'\n",
            " 'BEAT UNTIL THOROUGHLY MIXED POUR OVER THE CABBAGE AND TOSS LIGHTLY UNTIL UNIFORMLY SEASONED'\n",
            " 'HOW CAN HE WHOSE SPHERE LIES ABOVE THE STARS STOOP EVERY MOMENT TO EARTH'\n",
            " 'OH THAT MADE HIM SO ANGRY'\n",
            " 'THAT PENANCE HATH NO BLAME WHICH MAGDALEN FOUND SWEET PURGING OUR SHAME SELF PUNISHMENT IS VIRTUE ALL MEN KNOW'\n",
            " 'THE MISTRESS HAD RETURNED AND THE YOUNG LADY WAS WITH HER AND HURRIED AT ONCE TO HER FAVOURITE GARDEN'\n",
            " 'BUT YOU BELIEVE IN SOME EDUCATION ASKED MARY TAYLOR'\n",
            " \"OF STARTING I DIDN'T KNOW THE WAY TO COME\"\n",
            " 'EVERYTHING HE HAS DONE HAS BEEN AIMED AT THE CONSERVATION OF ENERGY THE CONTRACTION OF SPACE THE INTENSIFICATION OF CULTURE'\n",
            " 'THE CROWD DRIFTS OFF LEAVING THE HERO AND HEROINE ALONE IN THE MIDDLE OF THE STAGE AND THEN YOU CAN BEGIN'\n",
            " 'TO BURN WITHOUT CEASING TO FLY THEREIN LIES THE MARVEL OF GENIUS'\n",
            " 'SHE HAD TO THE FULL LIMIT ALLOWED OF HER READING AND HER ENVIRONMENT THE LITERARY SENSE'\n",
            " 'IT HAS NO BEAUTY WHATSOEVER NO SPECIALTY OF PICTURESQUENESS AND ALL ITS LINES ARE CRAMPED AND POOR'\n",
            " 'THE SECOND PART BEGINS HERE SAYING BE NOW THE THIRD HERE THEN WHILE IT WAS HIS PLEASURE'\n",
            " 'CHAPTER FOUR THE FIRST NIGHT IN CAMP'\n",
            " 'SEASONABLE THIS RECIPE SHOULD BE USED IN JUNE JULY OR AUGUST'\n",
            " 'HE WELL KNEW THE PERILS OF THE FRONTIER THE SAVAGE STATE OF SOCIETY THE LURKING INDIANS AND THE DANGERS OF FEVER'\n",
            " 'ADD TWO TABLESPOONS THICK SOUR CREAM TWO TABLESPOONS SUGAR A SPRINKLE OF MUSTARD AND HALF CUP OF VINEGAR'\n",
            " 'RANDAL HE SAID YOU KNOW WHERE SYDNEY IS'\n",
            " 'ALSO THERE WAS A STRIPLING PAGE WHO TURNED INTO A MAID'\n",
            " 'I ALMOST THINK I CAN REMEMBER FEELING A LITTLE DIFFERENT'\n",
            " \"ALL AGREED THAT TAD'S SUPERIOR HORSEMANSHIP ALONE HAD WON THE RACE FOR HIM\"\n",
            " 'HE WAS STONE DEAD BUT I DROPPED THAT FOOT QUICK'\n",
            " \"I SHOULD NEVER HAVE ASKED YOU IF MOLLY HAD BEEN HERE FOR I REMEMBER YOU DON'T LIKE ENGLISH COOKERY\"\n",
            " 'I BECAME SOMEWHAT EMBARRASSED FOR I WAS USED TO BEING TAKEN FOR GRANTED BY MY ELDERS'\n",
            " 'MOST OF MY LIKENESSES DO LOOK UNAMIABLE BUT THE VERY SUFFICIENT REASON I FANCY IS BECAUSE THE ORIGINALS ARE SO'\n",
            " \"WE'LL COME IN HERE THIS AFTERNOON WITH OLD CLOTHES ON AND HAVE A REGULAR HOUSE CLEANING\"\n",
            " 'AND WHOEVER THOU ART WHAT IS IT THAT NOW PLEASES THEE'\n",
            " 'WHO IS TOUCHING ME AND UNTRUSSING ME'\n",
            " 'HIS VISION OF TRUTH HAD GROWN SO INTENSE THAT THE SOUND OF A STRANGE VOICE FAILED TO ROUT IT THIS TIME'\n",
            " 'YOU WILL TAKE THEM FROM MY PRIVATE TREASURE'\n",
            " \"SOME TIME YOU'LL TELL ME PLEASE WON'T YOU\"\n",
            " 'THEY ARE CHIEFLY FORMED FROM COMBINATIONS OF THE IMPRESSIONS MADE IN CHILDHOOD'\n",
            " 'IN THE VALLEY OF THE SHADOW OF DEATH HE IS WITH US'\n",
            " 'THE BOY HASTENED AWAY AND THE MANAGER FELL TO HIS MUSINGS'\n",
            " 'I THINK THAT WILL DO SHE CONTINUED FOR THE OTHER QUALITIES ARE NOT NEEDED IN A SERVANT'\n",
            " 'AND HE LEANED AGAINST THE WALL LOST IN REVERIE'\n",
            " 'BUT I STAYED THAT SPRING AND BUILT ME A BOAT'\n",
            " 'THERE WAS NOT A SINGLE NOTE OF GLOOM'\n",
            " 'I KNEW YOU WOULD GO I SAW YOU GETTING READY AND I MADE UP MY MIND TO FOLLOW'\n",
            " 'ALL NIGHT IT HAD BEEN BLOWING AND RAINING'\n",
            " 'ONE WHO WRITES OF SUCH AN ERA LABOURS UNDER A TROUBLESOME DISADVANTAGE'\n",
            " \"SAN FRANCISCO'S CARE FREE SPIRIT WAS FULLY EXEMPLIFIED BEFORE THE ASHES OF THE GREAT FIRE OF NINETEEN O SIX WERE COLD\"\n",
            " 'EARTH WAS GONE AND HEAVEN WAS ALL'\n",
            " 'SAINT PAUL IS A SAINT ONLY WITH EXTENUATING CIRCUMSTANCES'\n",
            " 'I AM NOT A MAN WHO CAN LIVE TWO LIVES HE WENT ON FEVERISHLY EACH LIFE SPOILS THE OTHER'\n",
            " 'BUT I MEAN TO HAVE MY INNINGS BEFORE LONG'\n",
            " 'ALL THE TIME HE WAS TALKING TO ME HIS ANGRY LITTLE EYES WERE FOLLOWING LAKE'\n",
            " 'A LOW CONFUSED MOAN WANED FROM HIS MOUTH'\n",
            " 'BUT THE PLANT RAN AND IT WAS THE FIRST THREE WIRE STATION IN THIS COUNTRY'\n",
            " 'HORSE SENSE A DEGREE OF WISDOM THAT KEEPS ONE FROM BETTING ON THE RACES'\n",
            " 'THERE IS NOTHING MAJESTIC ABOUT ME AS YOU KNOW VERY WELL'\n",
            " 'A RING OF AMETHYST I COULD NOT WEAR HERE PLAINER TO MY SIGHT THAN THAT FIRST KISS'\n",
            " 'WE TOOK OUR THREE PRISONERS TO A LARGE BOAT'\n",
            " 'IT MUST REMEMBER BE ONE OR THE OTHER'\n",
            " 'OH THAT SHE WERE ONCE MORE CLIMBING UP THE FRIENDLY FIR POLE'\n",
            " \"NO IT'S ONLY PAINFUL FOR BOTH OF US\"\n",
            " 'IT IS TRUE I CANNOT ENTIRELY UNDO WHAT MY ELDER HAS DONE'\n",
            " \"THERE'S A WHALE A WHALE CRIED THE PROFESSOR\"\n",
            " 'PERHAPS YOU CAN OUTWIT HER YET CRIED ANOTHER'\n",
            " 'TEN DAYS WERE CONSUMED IN THESE NEGOTIATIONS BUT THE SPIRIT OF VENGEANCE REFUSED TO YIELD'\n",
            " 'AND WHY IT SCATTERS ITS BRIGHT BEAUTY THRO THE HUMID AIR'\n",
            " 'THE BOYS LOOK WIDE AWAKE ENOUGH BUT WHO CAN TELL I WOULD SOONER BELIEVE THAT'\n",
            " 'DID THEY KNOW OF THE EXISTENCE OF THE PRISONERS OR WAS IT SOME PRIVATE ENTERPRISE THAT LED TO THE UNDERTAKING'\n",
            " 'THAT IS A VERY FINE CAP YOU HAVE HE SAID'\n",
            " 'AND WHERE EACH BIRD PERCHED THERE IT WAS TO BUILD ITS NEST'\n",
            " 'BUT IT IS NOT WITH A VIEW TO DISTINCTION THAT YOU SHOULD CULTIVATE THIS TALENT IF YOU CONSULT YOUR OWN HAPPINESS'\n",
            " 'THE RECTOR DID NOT ASK FOR A CATECHISM TO HEAR THE LESSON FROM'\n",
            " 'TO TEACH READING MEANS TO LIGHT THE FIRE EVERY SYLLABLE SPELLED OUT SPARKLES'\n",
            " 'A SOUND OF VOICES A FLASH OF LIGHT'\n",
            " 'I LIKE TO TALK TO CARL ABOUT NEW YORK AND WHAT A FELLOW CAN DO THERE'\n",
            " 'COLD IS IT MY DARLING BLESS YOUR SWEET FACE'\n",
            " 'HE PROTECTED HER AND SHE STRENGTHENED HIM'\n",
            " 'ALREADY A NORTH AND A SOUTH WERE TALKED OF WHY NOT SET UP ALSO A WEST'\n",
            " 'PERHAPS THE PROFESSION OF DOING GOOD MAY BE FULL BUT EVERY BODY SHOULD BE KIND AT LEAST TO HIMSELF'\n",
            " \"I'LL BE LUCKY IF I HAVE TIME TO BREATHE\"\n",
            " 'I ALSO OFFERED TO HELP YOUR BROTHER TO ESCAPE BUT HE WOULD NOT GO'\n",
            " \"THEY THEY EXCITE ME IN SOME WAY AND I I CAN'T BEAR THEM YOU MUST EXCUSE ME\"\n",
            " 'AND IF YOU HAVE TIME IT WOULD BE A GREAT SERVICE TO TRANSLATE THE ANALYSES OF THE POEMS WHICH I OMITTED'\n",
            " 'YES WE ARE CERTAINLY I REPLIED EVASIVELY BUT AFTER WE MAKE A DETOUR'\n",
            " 'HE HAD NEITHER A NATIONAL ARMY NOR AN ORGANIZED CHURCH'\n",
            " 'IN ANY CASE I SHALL TRUST RATHER TO MY OWN INTELLIGENCE THAN THEIRS'\n",
            " 'HE ASKED THE HANDLER WHO WAS KNEADING HIS ACHING MUSCLES'\n",
            " 'IT IS MY HEART HUNG IN THE SKY AND NO CLOUDS EVER FLOAT BETWEEN THE GRAVE FLOWERS AND MY HEART ON HIGH'\n",
            " 'IT WAS SIMPLE ENOUGH SIR IF YOU ONLY HAD KNOWN BUT WITH ALL YOUR CLEVERNESS IT WAS IMPOSSIBLE THAT YOU COULD KNOW'\n",
            " 'IF THE COUNT WERE ON BOARD A STRANGE FATALITY WAS BRINGING HIM TO THE PRESENCE OF HIS RIVAL'\n",
            " 'MOTHER CRIED SHE I SEE YOU HERE LOOK LOOK'\n",
            " \"HE'S UP IN TOWN SIR A MINDING OF HIS PARLIAMENTARY DUTIES\"\n",
            " 'NEAR THE FIRE AND THE ORNAMENTS FRED BROUGHT HOME FROM INDIA ON THE MANTEL BOARD'\n",
            " 'WHATEVER APPEALED TO HER SENSE OF BEAUTY WAS STRAIGHTWAY TRANSFERRED TO PAPER OR CANVAS'\n",
            " 'SO I BELIEVE I SHALL GO BACK AT LEAST FOR A WHILE AND SEE WHAT I CAN DO'\n",
            " 'SOMEONE ELSE TOLD A STORY NOT PARTICULARLY EFFECTIVE WHICH I SAW HE WAS NOT FOLLOWING'\n",
            " \"I EXPLAIN THAT I'M TAKING MUSIC AND ALSO BIOLOGY ALGEBRA ENGLISH AND FRENCH MUSIC HE SNORTS\"\n",
            " 'OUTSIDE OF THESE OCCASIONAL REMINDERS WE COULD SEE NO EVIDENCE OF THE DESOLATION OF THE TRACK OF AN INVADING ARMY'\n",
            " 'SAUTERNE IS A WHITE BORDEAUX A STRONG LUSCIOUS WINE THE BEST KNOWN VARIETIES BEING'\n",
            " 'I AM NOT GOOD ENOUGH FOR YOU AND YOU MUST BE KEPT FROM THE CONTAMINATION OF TOO INTIMATE SOCIETY'\n",
            " 'HE DID NOT GO WITHIN A BLOCK OF THE HOUSE'\n",
            " 'MY ARMS ARE RIGHT BUT MY LEGS ARE GETTING A LITTLE STIFF'\n",
            " \"NONSENSE OF COURSE I CAN'T REALLY SING EXCEPT THE WAY MY MOTHER AND GRANDMOTHER DID BEFORE ME\"\n",
            " 'I SHUDDER AS I RECALL THESE MONSTERS TO MY REMEMBRANCE'\n",
            " 'FOR SHE HAD ONLY THE FOUNDATION LAID CRISS CROSS AS THE MAGPIE HAD SHOWN HER'\n",
            " 'THE JAILER MAY FORGET THAT HE IS ON GUARD THE PRISONER NEVER FORGETS THAT HE IS GUARDED'\n",
            " 'HIS TREASURE TAKEN TYPE OF HIS SELF AND A WOMAN GIVEN HIM INSTEAD'\n",
            " 'DAMN YOUR IMPERTINENCE SIR BURST OUT BURGESS'\n",
            " 'HE WAS GOING HOME AFTER VICTORY'\n",
            " 'INSTEAD OF SHOES THE OLD MAN WORE BOOTS WITH TURNOVER TOPS AND HIS BLUE COAT HAD WIDE CUFFS OF GOLD BRAID'\n",
            " 'LOOK YONDER DO YOU NOT SEE THE MOON SLOWLY RISING SILVERING THE TOPMOST BRANCHES OF THE CHESTNUTS AND THE OAKS'\n",
            " \"HE FELT FOR AND FOUND THE WIZARD'S BLACK CLOTH THE SQUIRE WAS QUITE OUT OF BREATH\"\n",
            " 'MOREOVER HAD THE PEOPLE BEEN INCLINED TO REBELLION WHAT GREATER OPPORTUNITY COULD THEY HAVE WISHED'\n",
            " 'SERVE ON A LETTUCE LEAF WITH MAYONNAISE DRESSING MADE WITHOUT MUSTARD AND THINNED WITH CREAM'\n",
            " 'EVERYWHERE THAT SLAVE MORALITY GAINS THE ASCENDANCY LANGUAGE SHOWS A TENDENCY TO APPROXIMATE THE SIGNIFICATIONS OF THE WORDS GOOD AND STUPID'\n",
            " 'AND THE INCONSISTENT WOMAN FELL UPON HIS BUTTONY BREAST WEEPING COPIOUSLY'\n",
            " 'HE KNOWS NO BETTER HE GETS INTO HIS PASSIONS OVER IT'\n",
            " 'WHAT OF THE FARM OLAF NOT YET I ANSWERED VIKING IS BETTER FOR SUMMER'\n",
            " 'HE SUMMONED HALF A DOZEN CITIZENS TO JOIN HIS POSSE WHO FOLLOWED OBEYED AND ASSISTED HIM'\n",
            " 'WHAT ARE YOU DOING HERE HE ASKED'\n",
            " 'BETTER RING AGAIN SUGGESTED THE DRIVER HARD'\n",
            " 'THEIR LONG MASSIVE EARS GIVE THEM A VERY STRIKING APPEARANCE'\n",
            " 'FROM SIXTEEN EIGHTY TO SEVENTEEN O FOUR A GREAT CHANGE HAD TAKEN PLACE'\n",
            " 'THERE HAD BEEN ANOTHER BLACK FROST THE NIGHT BEFORE AND THE AIR WAS CLEAR AND HEADY AS WINE'\n",
            " 'NO SOUND BROKE THE STILLNESS OF THE NIGHT'\n",
            " 'HE CLASPED HIS HANDS ON THE DESK AND SAID'\n",
            " \"I SUPPOSE THOUGH IT'S TOO EARLY FOR THEM THEN CAME THE EXPLOSION\"\n",
            " 'THEY WERE CERTAINLY NO NEARER THE SOLUTION OF THEIR PROBLEM'\n",
            " \"HE'S NOT A MAN FOR COUNTRY QUARTERS\"\n",
            " 'THE FAMILY WAS NOT ONLY THE SOCIAL UNIT BUT ALSO THE UNIT OF GOVERNMENT'\n",
            " 'I THANK ALL WHO HAVE LOVED ME IN THEIR HEARTS WITH THANKS AND LOVE FROM MINE'\n",
            " 'I WILL ASK THE LEAST IMAGINABLE BUT I MUST HAVE SOMETHING'\n",
            " 'YOU HAVE COME TO US THREATENING US WITH ABSOLUTE DESTRUCTION'\n",
            " 'NEVER FEAR YOU SHALL SEE HIM AGAIN TO MORROW'\n",
            " 'I AM AFRAID THERE ARE NO SIGNS HERE SAID HE'\n",
            " 'HE SPOKE SIMPLY BUT PACED UP AND DOWN THE NARROW CELL IN FRONT OF THEM'\n",
            " 'AND AGAIN HE LISTENED WITH A QUIET PLEASURE'\n",
            " 'THIS REALITY BEGINS TO EXPLAIN THE DARK POWER AND OTHERWORLDLY FASCINATION OF TWENTY THOUSAND LEAGUES UNDER THE SEAS']\n"
          ],
          "name": "stdout"
        }
      ]
    },
    {
      "cell_type": "code",
      "metadata": {
        "id": "r4abQ1aYlORm"
      },
      "source": [
        "final_dataset = (content_lines_300).tolist()\n",
        "\n",
        "with open(\"subset_300_sentences.json\", \"w\") as outfile:\n",
        "    json.dump(final_dataset, outfile, indent=4)  \n",
        "with open('/content/subset_300_sentences.json', 'w') as f:\n",
        "    json.dump(final_dataset, f, indent=4)"
      ],
      "execution_count": 57,
      "outputs": []
    }
  ]
}