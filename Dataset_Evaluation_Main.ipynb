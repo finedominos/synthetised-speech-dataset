{
  "nbformat": 4,
  "nbformat_minor": 0,
  "metadata": {
    "colab": {
      "name": "Dataset Evaluation - Main.ipynb",
      "provenance": [],
      "collapsed_sections": [
        "doz8Ch-jGY_B"
      ],
      "include_colab_link": true
    },
    "kernelspec": {
      "name": "python3",
      "display_name": "Python 3"
    },
    "language_info": {
      "name": "python"
    },
    "widgets": {
      "application/vnd.jupyter.widget-state+json": {
        "28c6cef32e72454cb5aa002a1549e121": {
          "model_module": "@jupyter-widgets/controls",
          "model_name": "HBoxModel",
          "state": {
            "_view_name": "HBoxView",
            "_dom_classes": [],
            "_model_name": "HBoxModel",
            "_view_module": "@jupyter-widgets/controls",
            "_model_module_version": "1.5.0",
            "_view_count": null,
            "_view_module_version": "1.5.0",
            "box_style": "",
            "layout": "IPY_MODEL_0b33756a6ba04d038384e55ca2dda6ad",
            "_model_module": "@jupyter-widgets/controls",
            "children": [
              "IPY_MODEL_7ddd0fb13b75420f90cd1e68d813da04",
              "IPY_MODEL_b288951ddf014ce496920d3aba39eb28"
            ]
          }
        },
        "0b33756a6ba04d038384e55ca2dda6ad": {
          "model_module": "@jupyter-widgets/base",
          "model_name": "LayoutModel",
          "state": {
            "_view_name": "LayoutView",
            "grid_template_rows": null,
            "right": null,
            "justify_content": null,
            "_view_module": "@jupyter-widgets/base",
            "overflow": null,
            "_model_module_version": "1.2.0",
            "_view_count": null,
            "flex_flow": null,
            "width": null,
            "min_width": null,
            "border": null,
            "align_items": null,
            "bottom": null,
            "_model_module": "@jupyter-widgets/base",
            "top": null,
            "grid_column": null,
            "overflow_y": null,
            "overflow_x": null,
            "grid_auto_flow": null,
            "grid_area": null,
            "grid_template_columns": null,
            "flex": null,
            "_model_name": "LayoutModel",
            "justify_items": null,
            "grid_row": null,
            "max_height": null,
            "align_content": null,
            "visibility": null,
            "align_self": null,
            "height": null,
            "min_height": null,
            "padding": null,
            "grid_auto_rows": null,
            "grid_gap": null,
            "max_width": null,
            "order": null,
            "_view_module_version": "1.2.0",
            "grid_template_areas": null,
            "object_position": null,
            "object_fit": null,
            "grid_auto_columns": null,
            "margin": null,
            "display": null,
            "left": null
          }
        },
        "7ddd0fb13b75420f90cd1e68d813da04": {
          "model_module": "@jupyter-widgets/controls",
          "model_name": "FloatProgressModel",
          "state": {
            "_view_name": "ProgressView",
            "style": "IPY_MODEL_14adb39aeed64496b7eb9d8181266acd",
            "_dom_classes": [],
            "description": "100%",
            "_model_name": "FloatProgressModel",
            "bar_style": "success",
            "max": 345,
            "_view_module": "@jupyter-widgets/controls",
            "_model_module_version": "1.5.0",
            "value": 345,
            "_view_count": null,
            "_view_module_version": "1.5.0",
            "orientation": "horizontal",
            "min": 0,
            "description_tooltip": null,
            "_model_module": "@jupyter-widgets/controls",
            "layout": "IPY_MODEL_dc9e4f28426640c9bb9df26a8fe542ff"
          }
        },
        "b288951ddf014ce496920d3aba39eb28": {
          "model_module": "@jupyter-widgets/controls",
          "model_name": "HTMLModel",
          "state": {
            "_view_name": "HTMLView",
            "style": "IPY_MODEL_74c96f89ad3b4cbfa829e6a13a6a69de",
            "_dom_classes": [],
            "description": "",
            "_model_name": "HTMLModel",
            "placeholder": "​",
            "_view_module": "@jupyter-widgets/controls",
            "_model_module_version": "1.5.0",
            "value": " 345/345 [18:32&lt;00:00,  3.22s/it]",
            "_view_count": null,
            "_view_module_version": "1.5.0",
            "description_tooltip": null,
            "_model_module": "@jupyter-widgets/controls",
            "layout": "IPY_MODEL_01d301bbf816486b89d649da6ee35c2e"
          }
        },
        "14adb39aeed64496b7eb9d8181266acd": {
          "model_module": "@jupyter-widgets/controls",
          "model_name": "ProgressStyleModel",
          "state": {
            "_view_name": "StyleView",
            "_model_name": "ProgressStyleModel",
            "description_width": "initial",
            "_view_module": "@jupyter-widgets/base",
            "_model_module_version": "1.5.0",
            "_view_count": null,
            "_view_module_version": "1.2.0",
            "bar_color": null,
            "_model_module": "@jupyter-widgets/controls"
          }
        },
        "dc9e4f28426640c9bb9df26a8fe542ff": {
          "model_module": "@jupyter-widgets/base",
          "model_name": "LayoutModel",
          "state": {
            "_view_name": "LayoutView",
            "grid_template_rows": null,
            "right": null,
            "justify_content": null,
            "_view_module": "@jupyter-widgets/base",
            "overflow": null,
            "_model_module_version": "1.2.0",
            "_view_count": null,
            "flex_flow": null,
            "width": null,
            "min_width": null,
            "border": null,
            "align_items": null,
            "bottom": null,
            "_model_module": "@jupyter-widgets/base",
            "top": null,
            "grid_column": null,
            "overflow_y": null,
            "overflow_x": null,
            "grid_auto_flow": null,
            "grid_area": null,
            "grid_template_columns": null,
            "flex": null,
            "_model_name": "LayoutModel",
            "justify_items": null,
            "grid_row": null,
            "max_height": null,
            "align_content": null,
            "visibility": null,
            "align_self": null,
            "height": null,
            "min_height": null,
            "padding": null,
            "grid_auto_rows": null,
            "grid_gap": null,
            "max_width": null,
            "order": null,
            "_view_module_version": "1.2.0",
            "grid_template_areas": null,
            "object_position": null,
            "object_fit": null,
            "grid_auto_columns": null,
            "margin": null,
            "display": null,
            "left": null
          }
        },
        "74c96f89ad3b4cbfa829e6a13a6a69de": {
          "model_module": "@jupyter-widgets/controls",
          "model_name": "DescriptionStyleModel",
          "state": {
            "_view_name": "StyleView",
            "_model_name": "DescriptionStyleModel",
            "description_width": "",
            "_view_module": "@jupyter-widgets/base",
            "_model_module_version": "1.5.0",
            "_view_count": null,
            "_view_module_version": "1.2.0",
            "_model_module": "@jupyter-widgets/controls"
          }
        },
        "01d301bbf816486b89d649da6ee35c2e": {
          "model_module": "@jupyter-widgets/base",
          "model_name": "LayoutModel",
          "state": {
            "_view_name": "LayoutView",
            "grid_template_rows": null,
            "right": null,
            "justify_content": null,
            "_view_module": "@jupyter-widgets/base",
            "overflow": null,
            "_model_module_version": "1.2.0",
            "_view_count": null,
            "flex_flow": null,
            "width": null,
            "min_width": null,
            "border": null,
            "align_items": null,
            "bottom": null,
            "_model_module": "@jupyter-widgets/base",
            "top": null,
            "grid_column": null,
            "overflow_y": null,
            "overflow_x": null,
            "grid_auto_flow": null,
            "grid_area": null,
            "grid_template_columns": null,
            "flex": null,
            "_model_name": "LayoutModel",
            "justify_items": null,
            "grid_row": null,
            "max_height": null,
            "align_content": null,
            "visibility": null,
            "align_self": null,
            "height": null,
            "min_height": null,
            "padding": null,
            "grid_auto_rows": null,
            "grid_gap": null,
            "max_width": null,
            "order": null,
            "_view_module_version": "1.2.0",
            "grid_template_areas": null,
            "object_position": null,
            "object_fit": null,
            "grid_auto_columns": null,
            "margin": null,
            "display": null,
            "left": null
          }
        },
        "fbfee73a966e4778a3fec0f32658f9b0": {
          "model_module": "@jupyter-widgets/controls",
          "model_name": "HBoxModel",
          "state": {
            "_view_name": "HBoxView",
            "_dom_classes": [],
            "_model_name": "HBoxModel",
            "_view_module": "@jupyter-widgets/controls",
            "_model_module_version": "1.5.0",
            "_view_count": null,
            "_view_module_version": "1.5.0",
            "box_style": "",
            "layout": "IPY_MODEL_c735c45d4624436f857709660535c4b1",
            "_model_module": "@jupyter-widgets/controls",
            "children": [
              "IPY_MODEL_59c9d5431d6144a696c0694a52e476b1",
              "IPY_MODEL_c8ab9b5e45854647965b28e4e2b1ac96"
            ]
          }
        },
        "c735c45d4624436f857709660535c4b1": {
          "model_module": "@jupyter-widgets/base",
          "model_name": "LayoutModel",
          "state": {
            "_view_name": "LayoutView",
            "grid_template_rows": null,
            "right": null,
            "justify_content": null,
            "_view_module": "@jupyter-widgets/base",
            "overflow": null,
            "_model_module_version": "1.2.0",
            "_view_count": null,
            "flex_flow": null,
            "width": null,
            "min_width": null,
            "border": null,
            "align_items": null,
            "bottom": null,
            "_model_module": "@jupyter-widgets/base",
            "top": null,
            "grid_column": null,
            "overflow_y": null,
            "overflow_x": null,
            "grid_auto_flow": null,
            "grid_area": null,
            "grid_template_columns": null,
            "flex": null,
            "_model_name": "LayoutModel",
            "justify_items": null,
            "grid_row": null,
            "max_height": null,
            "align_content": null,
            "visibility": null,
            "align_self": null,
            "height": null,
            "min_height": null,
            "padding": null,
            "grid_auto_rows": null,
            "grid_gap": null,
            "max_width": null,
            "order": null,
            "_view_module_version": "1.2.0",
            "grid_template_areas": null,
            "object_position": null,
            "object_fit": null,
            "grid_auto_columns": null,
            "margin": null,
            "display": null,
            "left": null
          }
        },
        "59c9d5431d6144a696c0694a52e476b1": {
          "model_module": "@jupyter-widgets/controls",
          "model_name": "FloatProgressModel",
          "state": {
            "_view_name": "ProgressView",
            "style": "IPY_MODEL_7732fbdabac24955ad6ccd43887ca01e",
            "_dom_classes": [],
            "description": "100%",
            "_model_name": "FloatProgressModel",
            "bar_style": "success",
            "max": 345,
            "_view_module": "@jupyter-widgets/controls",
            "_model_module_version": "1.5.0",
            "value": 345,
            "_view_count": null,
            "_view_module_version": "1.5.0",
            "orientation": "horizontal",
            "min": 0,
            "description_tooltip": null,
            "_model_module": "@jupyter-widgets/controls",
            "layout": "IPY_MODEL_dac6bdcad1974a548a3e651571b29f10"
          }
        },
        "c8ab9b5e45854647965b28e4e2b1ac96": {
          "model_module": "@jupyter-widgets/controls",
          "model_name": "HTMLModel",
          "state": {
            "_view_name": "HTMLView",
            "style": "IPY_MODEL_37fc3f98153945e6833735bd701604f7",
            "_dom_classes": [],
            "description": "",
            "_model_name": "HTMLModel",
            "placeholder": "​",
            "_view_module": "@jupyter-widgets/controls",
            "_model_module_version": "1.5.0",
            "value": " 345/345 [04:50&lt;00:00,  1.19it/s]",
            "_view_count": null,
            "_view_module_version": "1.5.0",
            "description_tooltip": null,
            "_model_module": "@jupyter-widgets/controls",
            "layout": "IPY_MODEL_3ff535fc3fb3474b8659794d0cb3b6c3"
          }
        },
        "7732fbdabac24955ad6ccd43887ca01e": {
          "model_module": "@jupyter-widgets/controls",
          "model_name": "ProgressStyleModel",
          "state": {
            "_view_name": "StyleView",
            "_model_name": "ProgressStyleModel",
            "description_width": "initial",
            "_view_module": "@jupyter-widgets/base",
            "_model_module_version": "1.5.0",
            "_view_count": null,
            "_view_module_version": "1.2.0",
            "bar_color": null,
            "_model_module": "@jupyter-widgets/controls"
          }
        },
        "dac6bdcad1974a548a3e651571b29f10": {
          "model_module": "@jupyter-widgets/base",
          "model_name": "LayoutModel",
          "state": {
            "_view_name": "LayoutView",
            "grid_template_rows": null,
            "right": null,
            "justify_content": null,
            "_view_module": "@jupyter-widgets/base",
            "overflow": null,
            "_model_module_version": "1.2.0",
            "_view_count": null,
            "flex_flow": null,
            "width": null,
            "min_width": null,
            "border": null,
            "align_items": null,
            "bottom": null,
            "_model_module": "@jupyter-widgets/base",
            "top": null,
            "grid_column": null,
            "overflow_y": null,
            "overflow_x": null,
            "grid_auto_flow": null,
            "grid_area": null,
            "grid_template_columns": null,
            "flex": null,
            "_model_name": "LayoutModel",
            "justify_items": null,
            "grid_row": null,
            "max_height": null,
            "align_content": null,
            "visibility": null,
            "align_self": null,
            "height": null,
            "min_height": null,
            "padding": null,
            "grid_auto_rows": null,
            "grid_gap": null,
            "max_width": null,
            "order": null,
            "_view_module_version": "1.2.0",
            "grid_template_areas": null,
            "object_position": null,
            "object_fit": null,
            "grid_auto_columns": null,
            "margin": null,
            "display": null,
            "left": null
          }
        },
        "37fc3f98153945e6833735bd701604f7": {
          "model_module": "@jupyter-widgets/controls",
          "model_name": "DescriptionStyleModel",
          "state": {
            "_view_name": "StyleView",
            "_model_name": "DescriptionStyleModel",
            "description_width": "",
            "_view_module": "@jupyter-widgets/base",
            "_model_module_version": "1.5.0",
            "_view_count": null,
            "_view_module_version": "1.2.0",
            "_model_module": "@jupyter-widgets/controls"
          }
        },
        "3ff535fc3fb3474b8659794d0cb3b6c3": {
          "model_module": "@jupyter-widgets/base",
          "model_name": "LayoutModel",
          "state": {
            "_view_name": "LayoutView",
            "grid_template_rows": null,
            "right": null,
            "justify_content": null,
            "_view_module": "@jupyter-widgets/base",
            "overflow": null,
            "_model_module_version": "1.2.0",
            "_view_count": null,
            "flex_flow": null,
            "width": null,
            "min_width": null,
            "border": null,
            "align_items": null,
            "bottom": null,
            "_model_module": "@jupyter-widgets/base",
            "top": null,
            "grid_column": null,
            "overflow_y": null,
            "overflow_x": null,
            "grid_auto_flow": null,
            "grid_area": null,
            "grid_template_columns": null,
            "flex": null,
            "_model_name": "LayoutModel",
            "justify_items": null,
            "grid_row": null,
            "max_height": null,
            "align_content": null,
            "visibility": null,
            "align_self": null,
            "height": null,
            "min_height": null,
            "padding": null,
            "grid_auto_rows": null,
            "grid_gap": null,
            "max_width": null,
            "order": null,
            "_view_module_version": "1.2.0",
            "grid_template_areas": null,
            "object_position": null,
            "object_fit": null,
            "grid_auto_columns": null,
            "margin": null,
            "display": null,
            "left": null
          }
        },
        "b0eb5b0d319443799bd8f994d4d437eb": {
          "model_module": "@jupyter-widgets/controls",
          "model_name": "HBoxModel",
          "state": {
            "_view_name": "HBoxView",
            "_dom_classes": [],
            "_model_name": "HBoxModel",
            "_view_module": "@jupyter-widgets/controls",
            "_model_module_version": "1.5.0",
            "_view_count": null,
            "_view_module_version": "1.5.0",
            "box_style": "",
            "layout": "IPY_MODEL_20139e878b4b46d69fc53232ea340209",
            "_model_module": "@jupyter-widgets/controls",
            "children": [
              "IPY_MODEL_96ba3c3bf60743109caac2db25b5079c",
              "IPY_MODEL_4af3f9a74c024560ba1e03ec265081d2"
            ]
          }
        },
        "20139e878b4b46d69fc53232ea340209": {
          "model_module": "@jupyter-widgets/base",
          "model_name": "LayoutModel",
          "state": {
            "_view_name": "LayoutView",
            "grid_template_rows": null,
            "right": null,
            "justify_content": null,
            "_view_module": "@jupyter-widgets/base",
            "overflow": null,
            "_model_module_version": "1.2.0",
            "_view_count": null,
            "flex_flow": null,
            "width": null,
            "min_width": null,
            "border": null,
            "align_items": null,
            "bottom": null,
            "_model_module": "@jupyter-widgets/base",
            "top": null,
            "grid_column": null,
            "overflow_y": null,
            "overflow_x": null,
            "grid_auto_flow": null,
            "grid_area": null,
            "grid_template_columns": null,
            "flex": null,
            "_model_name": "LayoutModel",
            "justify_items": null,
            "grid_row": null,
            "max_height": null,
            "align_content": null,
            "visibility": null,
            "align_self": null,
            "height": null,
            "min_height": null,
            "padding": null,
            "grid_auto_rows": null,
            "grid_gap": null,
            "max_width": null,
            "order": null,
            "_view_module_version": "1.2.0",
            "grid_template_areas": null,
            "object_position": null,
            "object_fit": null,
            "grid_auto_columns": null,
            "margin": null,
            "display": null,
            "left": null
          }
        },
        "96ba3c3bf60743109caac2db25b5079c": {
          "model_module": "@jupyter-widgets/controls",
          "model_name": "FloatProgressModel",
          "state": {
            "_view_name": "ProgressView",
            "style": "IPY_MODEL_70dfbcddedbc4c3693a76bbe29be8884",
            "_dom_classes": [],
            "description": "100%",
            "_model_name": "FloatProgressModel",
            "bar_style": "success",
            "max": 345,
            "_view_module": "@jupyter-widgets/controls",
            "_model_module_version": "1.5.0",
            "value": 345,
            "_view_count": null,
            "_view_module_version": "1.5.0",
            "orientation": "horizontal",
            "min": 0,
            "description_tooltip": null,
            "_model_module": "@jupyter-widgets/controls",
            "layout": "IPY_MODEL_ed8dffda133240299ef4f8a882082cec"
          }
        },
        "4af3f9a74c024560ba1e03ec265081d2": {
          "model_module": "@jupyter-widgets/controls",
          "model_name": "HTMLModel",
          "state": {
            "_view_name": "HTMLView",
            "style": "IPY_MODEL_3afc6ddf45784039b36de0d00dc540e7",
            "_dom_classes": [],
            "description": "",
            "_model_name": "HTMLModel",
            "placeholder": "​",
            "_view_module": "@jupyter-widgets/controls",
            "_model_module_version": "1.5.0",
            "value": " 345/345 [13:08&lt;00:00,  2.29s/it]",
            "_view_count": null,
            "_view_module_version": "1.5.0",
            "description_tooltip": null,
            "_model_module": "@jupyter-widgets/controls",
            "layout": "IPY_MODEL_c8cbd989d34a4c8ab1d91901c6a27958"
          }
        },
        "70dfbcddedbc4c3693a76bbe29be8884": {
          "model_module": "@jupyter-widgets/controls",
          "model_name": "ProgressStyleModel",
          "state": {
            "_view_name": "StyleView",
            "_model_name": "ProgressStyleModel",
            "description_width": "initial",
            "_view_module": "@jupyter-widgets/base",
            "_model_module_version": "1.5.0",
            "_view_count": null,
            "_view_module_version": "1.2.0",
            "bar_color": null,
            "_model_module": "@jupyter-widgets/controls"
          }
        },
        "ed8dffda133240299ef4f8a882082cec": {
          "model_module": "@jupyter-widgets/base",
          "model_name": "LayoutModel",
          "state": {
            "_view_name": "LayoutView",
            "grid_template_rows": null,
            "right": null,
            "justify_content": null,
            "_view_module": "@jupyter-widgets/base",
            "overflow": null,
            "_model_module_version": "1.2.0",
            "_view_count": null,
            "flex_flow": null,
            "width": null,
            "min_width": null,
            "border": null,
            "align_items": null,
            "bottom": null,
            "_model_module": "@jupyter-widgets/base",
            "top": null,
            "grid_column": null,
            "overflow_y": null,
            "overflow_x": null,
            "grid_auto_flow": null,
            "grid_area": null,
            "grid_template_columns": null,
            "flex": null,
            "_model_name": "LayoutModel",
            "justify_items": null,
            "grid_row": null,
            "max_height": null,
            "align_content": null,
            "visibility": null,
            "align_self": null,
            "height": null,
            "min_height": null,
            "padding": null,
            "grid_auto_rows": null,
            "grid_gap": null,
            "max_width": null,
            "order": null,
            "_view_module_version": "1.2.0",
            "grid_template_areas": null,
            "object_position": null,
            "object_fit": null,
            "grid_auto_columns": null,
            "margin": null,
            "display": null,
            "left": null
          }
        },
        "3afc6ddf45784039b36de0d00dc540e7": {
          "model_module": "@jupyter-widgets/controls",
          "model_name": "DescriptionStyleModel",
          "state": {
            "_view_name": "StyleView",
            "_model_name": "DescriptionStyleModel",
            "description_width": "",
            "_view_module": "@jupyter-widgets/base",
            "_model_module_version": "1.5.0",
            "_view_count": null,
            "_view_module_version": "1.2.0",
            "_model_module": "@jupyter-widgets/controls"
          }
        },
        "c8cbd989d34a4c8ab1d91901c6a27958": {
          "model_module": "@jupyter-widgets/base",
          "model_name": "LayoutModel",
          "state": {
            "_view_name": "LayoutView",
            "grid_template_rows": null,
            "right": null,
            "justify_content": null,
            "_view_module": "@jupyter-widgets/base",
            "overflow": null,
            "_model_module_version": "1.2.0",
            "_view_count": null,
            "flex_flow": null,
            "width": null,
            "min_width": null,
            "border": null,
            "align_items": null,
            "bottom": null,
            "_model_module": "@jupyter-widgets/base",
            "top": null,
            "grid_column": null,
            "overflow_y": null,
            "overflow_x": null,
            "grid_auto_flow": null,
            "grid_area": null,
            "grid_template_columns": null,
            "flex": null,
            "_model_name": "LayoutModel",
            "justify_items": null,
            "grid_row": null,
            "max_height": null,
            "align_content": null,
            "visibility": null,
            "align_self": null,
            "height": null,
            "min_height": null,
            "padding": null,
            "grid_auto_rows": null,
            "grid_gap": null,
            "max_width": null,
            "order": null,
            "_view_module_version": "1.2.0",
            "grid_template_areas": null,
            "object_position": null,
            "object_fit": null,
            "grid_auto_columns": null,
            "margin": null,
            "display": null,
            "left": null
          }
        },
        "003f856f023343ab97ea0afd49ef974b": {
          "model_module": "@jupyter-widgets/controls",
          "model_name": "HBoxModel",
          "state": {
            "_view_name": "HBoxView",
            "_dom_classes": [],
            "_model_name": "HBoxModel",
            "_view_module": "@jupyter-widgets/controls",
            "_model_module_version": "1.5.0",
            "_view_count": null,
            "_view_module_version": "1.5.0",
            "box_style": "",
            "layout": "IPY_MODEL_c3d8a69e3fcb4f29a9b57601b1488d7b",
            "_model_module": "@jupyter-widgets/controls",
            "children": [
              "IPY_MODEL_be1d16f078b94455be2e337a3feaa321",
              "IPY_MODEL_2fc4638e29664b1c941d7559618b528b"
            ]
          }
        },
        "c3d8a69e3fcb4f29a9b57601b1488d7b": {
          "model_module": "@jupyter-widgets/base",
          "model_name": "LayoutModel",
          "state": {
            "_view_name": "LayoutView",
            "grid_template_rows": null,
            "right": null,
            "justify_content": null,
            "_view_module": "@jupyter-widgets/base",
            "overflow": null,
            "_model_module_version": "1.2.0",
            "_view_count": null,
            "flex_flow": null,
            "width": null,
            "min_width": null,
            "border": null,
            "align_items": null,
            "bottom": null,
            "_model_module": "@jupyter-widgets/base",
            "top": null,
            "grid_column": null,
            "overflow_y": null,
            "overflow_x": null,
            "grid_auto_flow": null,
            "grid_area": null,
            "grid_template_columns": null,
            "flex": null,
            "_model_name": "LayoutModel",
            "justify_items": null,
            "grid_row": null,
            "max_height": null,
            "align_content": null,
            "visibility": null,
            "align_self": null,
            "height": null,
            "min_height": null,
            "padding": null,
            "grid_auto_rows": null,
            "grid_gap": null,
            "max_width": null,
            "order": null,
            "_view_module_version": "1.2.0",
            "grid_template_areas": null,
            "object_position": null,
            "object_fit": null,
            "grid_auto_columns": null,
            "margin": null,
            "display": null,
            "left": null
          }
        },
        "be1d16f078b94455be2e337a3feaa321": {
          "model_module": "@jupyter-widgets/controls",
          "model_name": "FloatProgressModel",
          "state": {
            "_view_name": "ProgressView",
            "style": "IPY_MODEL_9161596eba2f4c6ab57eed1b54ef1f74",
            "_dom_classes": [],
            "description": "100%",
            "_model_name": "FloatProgressModel",
            "bar_style": "success",
            "max": 345,
            "_view_module": "@jupyter-widgets/controls",
            "_model_module_version": "1.5.0",
            "value": 345,
            "_view_count": null,
            "_view_module_version": "1.5.0",
            "orientation": "horizontal",
            "min": 0,
            "description_tooltip": null,
            "_model_module": "@jupyter-widgets/controls",
            "layout": "IPY_MODEL_0e655f8919da4432854647d4a771708f"
          }
        },
        "2fc4638e29664b1c941d7559618b528b": {
          "model_module": "@jupyter-widgets/controls",
          "model_name": "HTMLModel",
          "state": {
            "_view_name": "HTMLView",
            "style": "IPY_MODEL_680972fc97f34a8b9cc6c5d41d9f8212",
            "_dom_classes": [],
            "description": "",
            "_model_name": "HTMLModel",
            "placeholder": "​",
            "_view_module": "@jupyter-widgets/controls",
            "_model_module_version": "1.5.0",
            "value": " 345/345 [02:51&lt;00:00,  2.02it/s]",
            "_view_count": null,
            "_view_module_version": "1.5.0",
            "description_tooltip": null,
            "_model_module": "@jupyter-widgets/controls",
            "layout": "IPY_MODEL_b4df9a6375ba401e812796fd522bf2d8"
          }
        },
        "9161596eba2f4c6ab57eed1b54ef1f74": {
          "model_module": "@jupyter-widgets/controls",
          "model_name": "ProgressStyleModel",
          "state": {
            "_view_name": "StyleView",
            "_model_name": "ProgressStyleModel",
            "description_width": "initial",
            "_view_module": "@jupyter-widgets/base",
            "_model_module_version": "1.5.0",
            "_view_count": null,
            "_view_module_version": "1.2.0",
            "bar_color": null,
            "_model_module": "@jupyter-widgets/controls"
          }
        },
        "0e655f8919da4432854647d4a771708f": {
          "model_module": "@jupyter-widgets/base",
          "model_name": "LayoutModel",
          "state": {
            "_view_name": "LayoutView",
            "grid_template_rows": null,
            "right": null,
            "justify_content": null,
            "_view_module": "@jupyter-widgets/base",
            "overflow": null,
            "_model_module_version": "1.2.0",
            "_view_count": null,
            "flex_flow": null,
            "width": null,
            "min_width": null,
            "border": null,
            "align_items": null,
            "bottom": null,
            "_model_module": "@jupyter-widgets/base",
            "top": null,
            "grid_column": null,
            "overflow_y": null,
            "overflow_x": null,
            "grid_auto_flow": null,
            "grid_area": null,
            "grid_template_columns": null,
            "flex": null,
            "_model_name": "LayoutModel",
            "justify_items": null,
            "grid_row": null,
            "max_height": null,
            "align_content": null,
            "visibility": null,
            "align_self": null,
            "height": null,
            "min_height": null,
            "padding": null,
            "grid_auto_rows": null,
            "grid_gap": null,
            "max_width": null,
            "order": null,
            "_view_module_version": "1.2.0",
            "grid_template_areas": null,
            "object_position": null,
            "object_fit": null,
            "grid_auto_columns": null,
            "margin": null,
            "display": null,
            "left": null
          }
        },
        "680972fc97f34a8b9cc6c5d41d9f8212": {
          "model_module": "@jupyter-widgets/controls",
          "model_name": "DescriptionStyleModel",
          "state": {
            "_view_name": "StyleView",
            "_model_name": "DescriptionStyleModel",
            "description_width": "",
            "_view_module": "@jupyter-widgets/base",
            "_model_module_version": "1.5.0",
            "_view_count": null,
            "_view_module_version": "1.2.0",
            "_model_module": "@jupyter-widgets/controls"
          }
        },
        "b4df9a6375ba401e812796fd522bf2d8": {
          "model_module": "@jupyter-widgets/base",
          "model_name": "LayoutModel",
          "state": {
            "_view_name": "LayoutView",
            "grid_template_rows": null,
            "right": null,
            "justify_content": null,
            "_view_module": "@jupyter-widgets/base",
            "overflow": null,
            "_model_module_version": "1.2.0",
            "_view_count": null,
            "flex_flow": null,
            "width": null,
            "min_width": null,
            "border": null,
            "align_items": null,
            "bottom": null,
            "_model_module": "@jupyter-widgets/base",
            "top": null,
            "grid_column": null,
            "overflow_y": null,
            "overflow_x": null,
            "grid_auto_flow": null,
            "grid_area": null,
            "grid_template_columns": null,
            "flex": null,
            "_model_name": "LayoutModel",
            "justify_items": null,
            "grid_row": null,
            "max_height": null,
            "align_content": null,
            "visibility": null,
            "align_self": null,
            "height": null,
            "min_height": null,
            "padding": null,
            "grid_auto_rows": null,
            "grid_gap": null,
            "max_width": null,
            "order": null,
            "_view_module_version": "1.2.0",
            "grid_template_areas": null,
            "object_position": null,
            "object_fit": null,
            "grid_auto_columns": null,
            "margin": null,
            "display": null,
            "left": null
          }
        },
        "c054049f355446bb942629ebba8473ce": {
          "model_module": "@jupyter-widgets/controls",
          "model_name": "HBoxModel",
          "state": {
            "_view_name": "HBoxView",
            "_dom_classes": [],
            "_model_name": "HBoxModel",
            "_view_module": "@jupyter-widgets/controls",
            "_model_module_version": "1.5.0",
            "_view_count": null,
            "_view_module_version": "1.5.0",
            "box_style": "",
            "layout": "IPY_MODEL_e378a5d6f5b244119038ac3317bb2c7e",
            "_model_module": "@jupyter-widgets/controls",
            "children": [
              "IPY_MODEL_fcd6b547edea4bc18df77d92692169f5",
              "IPY_MODEL_32290b8e15bf4c5d9fca53c1faf399cd"
            ]
          }
        },
        "e378a5d6f5b244119038ac3317bb2c7e": {
          "model_module": "@jupyter-widgets/base",
          "model_name": "LayoutModel",
          "state": {
            "_view_name": "LayoutView",
            "grid_template_rows": null,
            "right": null,
            "justify_content": null,
            "_view_module": "@jupyter-widgets/base",
            "overflow": null,
            "_model_module_version": "1.2.0",
            "_view_count": null,
            "flex_flow": null,
            "width": null,
            "min_width": null,
            "border": null,
            "align_items": null,
            "bottom": null,
            "_model_module": "@jupyter-widgets/base",
            "top": null,
            "grid_column": null,
            "overflow_y": null,
            "overflow_x": null,
            "grid_auto_flow": null,
            "grid_area": null,
            "grid_template_columns": null,
            "flex": null,
            "_model_name": "LayoutModel",
            "justify_items": null,
            "grid_row": null,
            "max_height": null,
            "align_content": null,
            "visibility": null,
            "align_self": null,
            "height": null,
            "min_height": null,
            "padding": null,
            "grid_auto_rows": null,
            "grid_gap": null,
            "max_width": null,
            "order": null,
            "_view_module_version": "1.2.0",
            "grid_template_areas": null,
            "object_position": null,
            "object_fit": null,
            "grid_auto_columns": null,
            "margin": null,
            "display": null,
            "left": null
          }
        },
        "fcd6b547edea4bc18df77d92692169f5": {
          "model_module": "@jupyter-widgets/controls",
          "model_name": "FloatProgressModel",
          "state": {
            "_view_name": "ProgressView",
            "style": "IPY_MODEL_d167a33669344feba84506676607de4c",
            "_dom_classes": [],
            "description": "100%",
            "_model_name": "FloatProgressModel",
            "bar_style": "success",
            "max": 345,
            "_view_module": "@jupyter-widgets/controls",
            "_model_module_version": "1.5.0",
            "value": 345,
            "_view_count": null,
            "_view_module_version": "1.5.0",
            "orientation": "horizontal",
            "min": 0,
            "description_tooltip": null,
            "_model_module": "@jupyter-widgets/controls",
            "layout": "IPY_MODEL_f4178b0300464412b1ab89e7544b2f61"
          }
        },
        "32290b8e15bf4c5d9fca53c1faf399cd": {
          "model_module": "@jupyter-widgets/controls",
          "model_name": "HTMLModel",
          "state": {
            "_view_name": "HTMLView",
            "style": "IPY_MODEL_54271414187a40bea94ea2414cb58202",
            "_dom_classes": [],
            "description": "",
            "_model_name": "HTMLModel",
            "placeholder": "​",
            "_view_module": "@jupyter-widgets/controls",
            "_model_module_version": "1.5.0",
            "value": " 345/345 [07:01&lt;00:00,  1.22s/it]",
            "_view_count": null,
            "_view_module_version": "1.5.0",
            "description_tooltip": null,
            "_model_module": "@jupyter-widgets/controls",
            "layout": "IPY_MODEL_dc57e1aa157448b8aede75b8a5256b8f"
          }
        },
        "d167a33669344feba84506676607de4c": {
          "model_module": "@jupyter-widgets/controls",
          "model_name": "ProgressStyleModel",
          "state": {
            "_view_name": "StyleView",
            "_model_name": "ProgressStyleModel",
            "description_width": "initial",
            "_view_module": "@jupyter-widgets/base",
            "_model_module_version": "1.5.0",
            "_view_count": null,
            "_view_module_version": "1.2.0",
            "bar_color": null,
            "_model_module": "@jupyter-widgets/controls"
          }
        },
        "f4178b0300464412b1ab89e7544b2f61": {
          "model_module": "@jupyter-widgets/base",
          "model_name": "LayoutModel",
          "state": {
            "_view_name": "LayoutView",
            "grid_template_rows": null,
            "right": null,
            "justify_content": null,
            "_view_module": "@jupyter-widgets/base",
            "overflow": null,
            "_model_module_version": "1.2.0",
            "_view_count": null,
            "flex_flow": null,
            "width": null,
            "min_width": null,
            "border": null,
            "align_items": null,
            "bottom": null,
            "_model_module": "@jupyter-widgets/base",
            "top": null,
            "grid_column": null,
            "overflow_y": null,
            "overflow_x": null,
            "grid_auto_flow": null,
            "grid_area": null,
            "grid_template_columns": null,
            "flex": null,
            "_model_name": "LayoutModel",
            "justify_items": null,
            "grid_row": null,
            "max_height": null,
            "align_content": null,
            "visibility": null,
            "align_self": null,
            "height": null,
            "min_height": null,
            "padding": null,
            "grid_auto_rows": null,
            "grid_gap": null,
            "max_width": null,
            "order": null,
            "_view_module_version": "1.2.0",
            "grid_template_areas": null,
            "object_position": null,
            "object_fit": null,
            "grid_auto_columns": null,
            "margin": null,
            "display": null,
            "left": null
          }
        },
        "54271414187a40bea94ea2414cb58202": {
          "model_module": "@jupyter-widgets/controls",
          "model_name": "DescriptionStyleModel",
          "state": {
            "_view_name": "StyleView",
            "_model_name": "DescriptionStyleModel",
            "description_width": "",
            "_view_module": "@jupyter-widgets/base",
            "_model_module_version": "1.5.0",
            "_view_count": null,
            "_view_module_version": "1.2.0",
            "_model_module": "@jupyter-widgets/controls"
          }
        },
        "dc57e1aa157448b8aede75b8a5256b8f": {
          "model_module": "@jupyter-widgets/base",
          "model_name": "LayoutModel",
          "state": {
            "_view_name": "LayoutView",
            "grid_template_rows": null,
            "right": null,
            "justify_content": null,
            "_view_module": "@jupyter-widgets/base",
            "overflow": null,
            "_model_module_version": "1.2.0",
            "_view_count": null,
            "flex_flow": null,
            "width": null,
            "min_width": null,
            "border": null,
            "align_items": null,
            "bottom": null,
            "_model_module": "@jupyter-widgets/base",
            "top": null,
            "grid_column": null,
            "overflow_y": null,
            "overflow_x": null,
            "grid_auto_flow": null,
            "grid_area": null,
            "grid_template_columns": null,
            "flex": null,
            "_model_name": "LayoutModel",
            "justify_items": null,
            "grid_row": null,
            "max_height": null,
            "align_content": null,
            "visibility": null,
            "align_self": null,
            "height": null,
            "min_height": null,
            "padding": null,
            "grid_auto_rows": null,
            "grid_gap": null,
            "max_width": null,
            "order": null,
            "_view_module_version": "1.2.0",
            "grid_template_areas": null,
            "object_position": null,
            "object_fit": null,
            "grid_auto_columns": null,
            "margin": null,
            "display": null,
            "left": null
          }
        },
        "88f0d6fa681f4ac08bfe424852125bb6": {
          "model_module": "@jupyter-widgets/controls",
          "model_name": "HBoxModel",
          "state": {
            "_view_name": "HBoxView",
            "_dom_classes": [],
            "_model_name": "HBoxModel",
            "_view_module": "@jupyter-widgets/controls",
            "_model_module_version": "1.5.0",
            "_view_count": null,
            "_view_module_version": "1.5.0",
            "box_style": "",
            "layout": "IPY_MODEL_db9794c51b3a4843be513630c2887785",
            "_model_module": "@jupyter-widgets/controls",
            "children": [
              "IPY_MODEL_33df27a88caf4955b99ba4e4ab532f15",
              "IPY_MODEL_6d073584f8e84eb89970bd3e25d99c51"
            ]
          }
        },
        "db9794c51b3a4843be513630c2887785": {
          "model_module": "@jupyter-widgets/base",
          "model_name": "LayoutModel",
          "state": {
            "_view_name": "LayoutView",
            "grid_template_rows": null,
            "right": null,
            "justify_content": null,
            "_view_module": "@jupyter-widgets/base",
            "overflow": null,
            "_model_module_version": "1.2.0",
            "_view_count": null,
            "flex_flow": null,
            "width": null,
            "min_width": null,
            "border": null,
            "align_items": null,
            "bottom": null,
            "_model_module": "@jupyter-widgets/base",
            "top": null,
            "grid_column": null,
            "overflow_y": null,
            "overflow_x": null,
            "grid_auto_flow": null,
            "grid_area": null,
            "grid_template_columns": null,
            "flex": null,
            "_model_name": "LayoutModel",
            "justify_items": null,
            "grid_row": null,
            "max_height": null,
            "align_content": null,
            "visibility": null,
            "align_self": null,
            "height": null,
            "min_height": null,
            "padding": null,
            "grid_auto_rows": null,
            "grid_gap": null,
            "max_width": null,
            "order": null,
            "_view_module_version": "1.2.0",
            "grid_template_areas": null,
            "object_position": null,
            "object_fit": null,
            "grid_auto_columns": null,
            "margin": null,
            "display": null,
            "left": null
          }
        },
        "33df27a88caf4955b99ba4e4ab532f15": {
          "model_module": "@jupyter-widgets/controls",
          "model_name": "FloatProgressModel",
          "state": {
            "_view_name": "ProgressView",
            "style": "IPY_MODEL_af4bc2888b7348cfa7454726d7c49695",
            "_dom_classes": [],
            "description": "100%",
            "_model_name": "FloatProgressModel",
            "bar_style": "success",
            "max": 345,
            "_view_module": "@jupyter-widgets/controls",
            "_model_module_version": "1.5.0",
            "value": 345,
            "_view_count": null,
            "_view_module_version": "1.5.0",
            "orientation": "horizontal",
            "min": 0,
            "description_tooltip": null,
            "_model_module": "@jupyter-widgets/controls",
            "layout": "IPY_MODEL_d6a9241e5ec740d78f2b4388c66f1703"
          }
        },
        "6d073584f8e84eb89970bd3e25d99c51": {
          "model_module": "@jupyter-widgets/controls",
          "model_name": "HTMLModel",
          "state": {
            "_view_name": "HTMLView",
            "style": "IPY_MODEL_2a58c4d3c93448539f1b32d4dd85a6b0",
            "_dom_classes": [],
            "description": "",
            "_model_name": "HTMLModel",
            "placeholder": "​",
            "_view_module": "@jupyter-widgets/controls",
            "_model_module_version": "1.5.0",
            "value": " 345/345 [04:18&lt;00:00,  1.34it/s]",
            "_view_count": null,
            "_view_module_version": "1.5.0",
            "description_tooltip": null,
            "_model_module": "@jupyter-widgets/controls",
            "layout": "IPY_MODEL_02fc7f17081f487e9dc1d6c9826240b5"
          }
        },
        "af4bc2888b7348cfa7454726d7c49695": {
          "model_module": "@jupyter-widgets/controls",
          "model_name": "ProgressStyleModel",
          "state": {
            "_view_name": "StyleView",
            "_model_name": "ProgressStyleModel",
            "description_width": "initial",
            "_view_module": "@jupyter-widgets/base",
            "_model_module_version": "1.5.0",
            "_view_count": null,
            "_view_module_version": "1.2.0",
            "bar_color": null,
            "_model_module": "@jupyter-widgets/controls"
          }
        },
        "d6a9241e5ec740d78f2b4388c66f1703": {
          "model_module": "@jupyter-widgets/base",
          "model_name": "LayoutModel",
          "state": {
            "_view_name": "LayoutView",
            "grid_template_rows": null,
            "right": null,
            "justify_content": null,
            "_view_module": "@jupyter-widgets/base",
            "overflow": null,
            "_model_module_version": "1.2.0",
            "_view_count": null,
            "flex_flow": null,
            "width": null,
            "min_width": null,
            "border": null,
            "align_items": null,
            "bottom": null,
            "_model_module": "@jupyter-widgets/base",
            "top": null,
            "grid_column": null,
            "overflow_y": null,
            "overflow_x": null,
            "grid_auto_flow": null,
            "grid_area": null,
            "grid_template_columns": null,
            "flex": null,
            "_model_name": "LayoutModel",
            "justify_items": null,
            "grid_row": null,
            "max_height": null,
            "align_content": null,
            "visibility": null,
            "align_self": null,
            "height": null,
            "min_height": null,
            "padding": null,
            "grid_auto_rows": null,
            "grid_gap": null,
            "max_width": null,
            "order": null,
            "_view_module_version": "1.2.0",
            "grid_template_areas": null,
            "object_position": null,
            "object_fit": null,
            "grid_auto_columns": null,
            "margin": null,
            "display": null,
            "left": null
          }
        },
        "2a58c4d3c93448539f1b32d4dd85a6b0": {
          "model_module": "@jupyter-widgets/controls",
          "model_name": "DescriptionStyleModel",
          "state": {
            "_view_name": "StyleView",
            "_model_name": "DescriptionStyleModel",
            "description_width": "",
            "_view_module": "@jupyter-widgets/base",
            "_model_module_version": "1.5.0",
            "_view_count": null,
            "_view_module_version": "1.2.0",
            "_model_module": "@jupyter-widgets/controls"
          }
        },
        "02fc7f17081f487e9dc1d6c9826240b5": {
          "model_module": "@jupyter-widgets/base",
          "model_name": "LayoutModel",
          "state": {
            "_view_name": "LayoutView",
            "grid_template_rows": null,
            "right": null,
            "justify_content": null,
            "_view_module": "@jupyter-widgets/base",
            "overflow": null,
            "_model_module_version": "1.2.0",
            "_view_count": null,
            "flex_flow": null,
            "width": null,
            "min_width": null,
            "border": null,
            "align_items": null,
            "bottom": null,
            "_model_module": "@jupyter-widgets/base",
            "top": null,
            "grid_column": null,
            "overflow_y": null,
            "overflow_x": null,
            "grid_auto_flow": null,
            "grid_area": null,
            "grid_template_columns": null,
            "flex": null,
            "_model_name": "LayoutModel",
            "justify_items": null,
            "grid_row": null,
            "max_height": null,
            "align_content": null,
            "visibility": null,
            "align_self": null,
            "height": null,
            "min_height": null,
            "padding": null,
            "grid_auto_rows": null,
            "grid_gap": null,
            "max_width": null,
            "order": null,
            "_view_module_version": "1.2.0",
            "grid_template_areas": null,
            "object_position": null,
            "object_fit": null,
            "grid_auto_columns": null,
            "margin": null,
            "display": null,
            "left": null
          }
        },
        "e0883ffab0a745098a814d4252cb8d95": {
          "model_module": "@jupyter-widgets/controls",
          "model_name": "HBoxModel",
          "state": {
            "_view_name": "HBoxView",
            "_dom_classes": [],
            "_model_name": "HBoxModel",
            "_view_module": "@jupyter-widgets/controls",
            "_model_module_version": "1.5.0",
            "_view_count": null,
            "_view_module_version": "1.5.0",
            "box_style": "",
            "layout": "IPY_MODEL_1eae6fcf20354ee7a678ffae0e9ca718",
            "_model_module": "@jupyter-widgets/controls",
            "children": [
              "IPY_MODEL_a7648d7310344f98b768247990f6b668",
              "IPY_MODEL_ed1e230fc7f745d1ab531d9e80844af9"
            ]
          }
        },
        "1eae6fcf20354ee7a678ffae0e9ca718": {
          "model_module": "@jupyter-widgets/base",
          "model_name": "LayoutModel",
          "state": {
            "_view_name": "LayoutView",
            "grid_template_rows": null,
            "right": null,
            "justify_content": null,
            "_view_module": "@jupyter-widgets/base",
            "overflow": null,
            "_model_module_version": "1.2.0",
            "_view_count": null,
            "flex_flow": null,
            "width": null,
            "min_width": null,
            "border": null,
            "align_items": null,
            "bottom": null,
            "_model_module": "@jupyter-widgets/base",
            "top": null,
            "grid_column": null,
            "overflow_y": null,
            "overflow_x": null,
            "grid_auto_flow": null,
            "grid_area": null,
            "grid_template_columns": null,
            "flex": null,
            "_model_name": "LayoutModel",
            "justify_items": null,
            "grid_row": null,
            "max_height": null,
            "align_content": null,
            "visibility": null,
            "align_self": null,
            "height": null,
            "min_height": null,
            "padding": null,
            "grid_auto_rows": null,
            "grid_gap": null,
            "max_width": null,
            "order": null,
            "_view_module_version": "1.2.0",
            "grid_template_areas": null,
            "object_position": null,
            "object_fit": null,
            "grid_auto_columns": null,
            "margin": null,
            "display": null,
            "left": null
          }
        },
        "a7648d7310344f98b768247990f6b668": {
          "model_module": "@jupyter-widgets/controls",
          "model_name": "FloatProgressModel",
          "state": {
            "_view_name": "ProgressView",
            "style": "IPY_MODEL_25fec7adbd524c1aad418a82c4394bc1",
            "_dom_classes": [],
            "description": "100%",
            "_model_name": "FloatProgressModel",
            "bar_style": "success",
            "max": 345,
            "_view_module": "@jupyter-widgets/controls",
            "_model_module_version": "1.5.0",
            "value": 345,
            "_view_count": null,
            "_view_module_version": "1.5.0",
            "orientation": "horizontal",
            "min": 0,
            "description_tooltip": null,
            "_model_module": "@jupyter-widgets/controls",
            "layout": "IPY_MODEL_4d9a1e0165644f5fa13a049ff99c6e2c"
          }
        },
        "ed1e230fc7f745d1ab531d9e80844af9": {
          "model_module": "@jupyter-widgets/controls",
          "model_name": "HTMLModel",
          "state": {
            "_view_name": "HTMLView",
            "style": "IPY_MODEL_2760b0936b214db2afc6dd074e99aa58",
            "_dom_classes": [],
            "description": "",
            "_model_name": "HTMLModel",
            "placeholder": "​",
            "_view_module": "@jupyter-widgets/controls",
            "_model_module_version": "1.5.0",
            "value": " 345/345 [02:36&lt;00:00,  2.20it/s]",
            "_view_count": null,
            "_view_module_version": "1.5.0",
            "description_tooltip": null,
            "_model_module": "@jupyter-widgets/controls",
            "layout": "IPY_MODEL_83ea083d92724a078894ebf342de3325"
          }
        },
        "25fec7adbd524c1aad418a82c4394bc1": {
          "model_module": "@jupyter-widgets/controls",
          "model_name": "ProgressStyleModel",
          "state": {
            "_view_name": "StyleView",
            "_model_name": "ProgressStyleModel",
            "description_width": "initial",
            "_view_module": "@jupyter-widgets/base",
            "_model_module_version": "1.5.0",
            "_view_count": null,
            "_view_module_version": "1.2.0",
            "bar_color": null,
            "_model_module": "@jupyter-widgets/controls"
          }
        },
        "4d9a1e0165644f5fa13a049ff99c6e2c": {
          "model_module": "@jupyter-widgets/base",
          "model_name": "LayoutModel",
          "state": {
            "_view_name": "LayoutView",
            "grid_template_rows": null,
            "right": null,
            "justify_content": null,
            "_view_module": "@jupyter-widgets/base",
            "overflow": null,
            "_model_module_version": "1.2.0",
            "_view_count": null,
            "flex_flow": null,
            "width": null,
            "min_width": null,
            "border": null,
            "align_items": null,
            "bottom": null,
            "_model_module": "@jupyter-widgets/base",
            "top": null,
            "grid_column": null,
            "overflow_y": null,
            "overflow_x": null,
            "grid_auto_flow": null,
            "grid_area": null,
            "grid_template_columns": null,
            "flex": null,
            "_model_name": "LayoutModel",
            "justify_items": null,
            "grid_row": null,
            "max_height": null,
            "align_content": null,
            "visibility": null,
            "align_self": null,
            "height": null,
            "min_height": null,
            "padding": null,
            "grid_auto_rows": null,
            "grid_gap": null,
            "max_width": null,
            "order": null,
            "_view_module_version": "1.2.0",
            "grid_template_areas": null,
            "object_position": null,
            "object_fit": null,
            "grid_auto_columns": null,
            "margin": null,
            "display": null,
            "left": null
          }
        },
        "2760b0936b214db2afc6dd074e99aa58": {
          "model_module": "@jupyter-widgets/controls",
          "model_name": "DescriptionStyleModel",
          "state": {
            "_view_name": "StyleView",
            "_model_name": "DescriptionStyleModel",
            "description_width": "",
            "_view_module": "@jupyter-widgets/base",
            "_model_module_version": "1.5.0",
            "_view_count": null,
            "_view_module_version": "1.2.0",
            "_model_module": "@jupyter-widgets/controls"
          }
        },
        "83ea083d92724a078894ebf342de3325": {
          "model_module": "@jupyter-widgets/base",
          "model_name": "LayoutModel",
          "state": {
            "_view_name": "LayoutView",
            "grid_template_rows": null,
            "right": null,
            "justify_content": null,
            "_view_module": "@jupyter-widgets/base",
            "overflow": null,
            "_model_module_version": "1.2.0",
            "_view_count": null,
            "flex_flow": null,
            "width": null,
            "min_width": null,
            "border": null,
            "align_items": null,
            "bottom": null,
            "_model_module": "@jupyter-widgets/base",
            "top": null,
            "grid_column": null,
            "overflow_y": null,
            "overflow_x": null,
            "grid_auto_flow": null,
            "grid_area": null,
            "grid_template_columns": null,
            "flex": null,
            "_model_name": "LayoutModel",
            "justify_items": null,
            "grid_row": null,
            "max_height": null,
            "align_content": null,
            "visibility": null,
            "align_self": null,
            "height": null,
            "min_height": null,
            "padding": null,
            "grid_auto_rows": null,
            "grid_gap": null,
            "max_width": null,
            "order": null,
            "_view_module_version": "1.2.0",
            "grid_template_areas": null,
            "object_position": null,
            "object_fit": null,
            "grid_auto_columns": null,
            "margin": null,
            "display": null,
            "left": null
          }
        },
        "f8d72af73c0f489a96e45ba301cd22cb": {
          "model_module": "@jupyter-widgets/controls",
          "model_name": "HBoxModel",
          "state": {
            "_view_name": "HBoxView",
            "_dom_classes": [],
            "_model_name": "HBoxModel",
            "_view_module": "@jupyter-widgets/controls",
            "_model_module_version": "1.5.0",
            "_view_count": null,
            "_view_module_version": "1.5.0",
            "box_style": "",
            "layout": "IPY_MODEL_69a98bbdbc3247e6a162cb77db5754cc",
            "_model_module": "@jupyter-widgets/controls",
            "children": [
              "IPY_MODEL_9ebd89faaf974eb4a0434f86daffbb34",
              "IPY_MODEL_2c1afa8987de45db8f63bc9eb4b17604"
            ]
          }
        },
        "69a98bbdbc3247e6a162cb77db5754cc": {
          "model_module": "@jupyter-widgets/base",
          "model_name": "LayoutModel",
          "state": {
            "_view_name": "LayoutView",
            "grid_template_rows": null,
            "right": null,
            "justify_content": null,
            "_view_module": "@jupyter-widgets/base",
            "overflow": null,
            "_model_module_version": "1.2.0",
            "_view_count": null,
            "flex_flow": null,
            "width": null,
            "min_width": null,
            "border": null,
            "align_items": null,
            "bottom": null,
            "_model_module": "@jupyter-widgets/base",
            "top": null,
            "grid_column": null,
            "overflow_y": null,
            "overflow_x": null,
            "grid_auto_flow": null,
            "grid_area": null,
            "grid_template_columns": null,
            "flex": null,
            "_model_name": "LayoutModel",
            "justify_items": null,
            "grid_row": null,
            "max_height": null,
            "align_content": null,
            "visibility": null,
            "align_self": null,
            "height": null,
            "min_height": null,
            "padding": null,
            "grid_auto_rows": null,
            "grid_gap": null,
            "max_width": null,
            "order": null,
            "_view_module_version": "1.2.0",
            "grid_template_areas": null,
            "object_position": null,
            "object_fit": null,
            "grid_auto_columns": null,
            "margin": null,
            "display": null,
            "left": null
          }
        },
        "9ebd89faaf974eb4a0434f86daffbb34": {
          "model_module": "@jupyter-widgets/controls",
          "model_name": "FloatProgressModel",
          "state": {
            "_view_name": "ProgressView",
            "style": "IPY_MODEL_220419c2915844e3aede44cc6e0f37a9",
            "_dom_classes": [],
            "description": "100%",
            "_model_name": "FloatProgressModel",
            "bar_style": "success",
            "max": 345,
            "_view_module": "@jupyter-widgets/controls",
            "_model_module_version": "1.5.0",
            "value": 345,
            "_view_count": null,
            "_view_module_version": "1.5.0",
            "orientation": "horizontal",
            "min": 0,
            "description_tooltip": null,
            "_model_module": "@jupyter-widgets/controls",
            "layout": "IPY_MODEL_515c828e53434dc686bfa42a24cfa72a"
          }
        },
        "2c1afa8987de45db8f63bc9eb4b17604": {
          "model_module": "@jupyter-widgets/controls",
          "model_name": "HTMLModel",
          "state": {
            "_view_name": "HTMLView",
            "style": "IPY_MODEL_54e4b85ca11548e880a3d5fe2543f5c0",
            "_dom_classes": [],
            "description": "",
            "_model_name": "HTMLModel",
            "placeholder": "​",
            "_view_module": "@jupyter-widgets/controls",
            "_model_module_version": "1.5.0",
            "value": " 345/345 [02:10&lt;00:00,  2.64it/s]",
            "_view_count": null,
            "_view_module_version": "1.5.0",
            "description_tooltip": null,
            "_model_module": "@jupyter-widgets/controls",
            "layout": "IPY_MODEL_aeeb66a3554946238bbc139441a80061"
          }
        },
        "220419c2915844e3aede44cc6e0f37a9": {
          "model_module": "@jupyter-widgets/controls",
          "model_name": "ProgressStyleModel",
          "state": {
            "_view_name": "StyleView",
            "_model_name": "ProgressStyleModel",
            "description_width": "initial",
            "_view_module": "@jupyter-widgets/base",
            "_model_module_version": "1.5.0",
            "_view_count": null,
            "_view_module_version": "1.2.0",
            "bar_color": null,
            "_model_module": "@jupyter-widgets/controls"
          }
        },
        "515c828e53434dc686bfa42a24cfa72a": {
          "model_module": "@jupyter-widgets/base",
          "model_name": "LayoutModel",
          "state": {
            "_view_name": "LayoutView",
            "grid_template_rows": null,
            "right": null,
            "justify_content": null,
            "_view_module": "@jupyter-widgets/base",
            "overflow": null,
            "_model_module_version": "1.2.0",
            "_view_count": null,
            "flex_flow": null,
            "width": null,
            "min_width": null,
            "border": null,
            "align_items": null,
            "bottom": null,
            "_model_module": "@jupyter-widgets/base",
            "top": null,
            "grid_column": null,
            "overflow_y": null,
            "overflow_x": null,
            "grid_auto_flow": null,
            "grid_area": null,
            "grid_template_columns": null,
            "flex": null,
            "_model_name": "LayoutModel",
            "justify_items": null,
            "grid_row": null,
            "max_height": null,
            "align_content": null,
            "visibility": null,
            "align_self": null,
            "height": null,
            "min_height": null,
            "padding": null,
            "grid_auto_rows": null,
            "grid_gap": null,
            "max_width": null,
            "order": null,
            "_view_module_version": "1.2.0",
            "grid_template_areas": null,
            "object_position": null,
            "object_fit": null,
            "grid_auto_columns": null,
            "margin": null,
            "display": null,
            "left": null
          }
        },
        "54e4b85ca11548e880a3d5fe2543f5c0": {
          "model_module": "@jupyter-widgets/controls",
          "model_name": "DescriptionStyleModel",
          "state": {
            "_view_name": "StyleView",
            "_model_name": "DescriptionStyleModel",
            "description_width": "",
            "_view_module": "@jupyter-widgets/base",
            "_model_module_version": "1.5.0",
            "_view_count": null,
            "_view_module_version": "1.2.0",
            "_model_module": "@jupyter-widgets/controls"
          }
        },
        "aeeb66a3554946238bbc139441a80061": {
          "model_module": "@jupyter-widgets/base",
          "model_name": "LayoutModel",
          "state": {
            "_view_name": "LayoutView",
            "grid_template_rows": null,
            "right": null,
            "justify_content": null,
            "_view_module": "@jupyter-widgets/base",
            "overflow": null,
            "_model_module_version": "1.2.0",
            "_view_count": null,
            "flex_flow": null,
            "width": null,
            "min_width": null,
            "border": null,
            "align_items": null,
            "bottom": null,
            "_model_module": "@jupyter-widgets/base",
            "top": null,
            "grid_column": null,
            "overflow_y": null,
            "overflow_x": null,
            "grid_auto_flow": null,
            "grid_area": null,
            "grid_template_columns": null,
            "flex": null,
            "_model_name": "LayoutModel",
            "justify_items": null,
            "grid_row": null,
            "max_height": null,
            "align_content": null,
            "visibility": null,
            "align_self": null,
            "height": null,
            "min_height": null,
            "padding": null,
            "grid_auto_rows": null,
            "grid_gap": null,
            "max_width": null,
            "order": null,
            "_view_module_version": "1.2.0",
            "grid_template_areas": null,
            "object_position": null,
            "object_fit": null,
            "grid_auto_columns": null,
            "margin": null,
            "display": null,
            "left": null
          }
        }
      }
    }
  },
  "cells": [
    {
      "cell_type": "markdown",
      "metadata": {
        "id": "view-in-github",
        "colab_type": "text"
      },
      "source": [
        "<a href=\"https://colab.research.google.com/github/finedominos/synthetised-speech-dataset/blob/master/Dataset_Evaluation_Main.ipynb\" target=\"_parent\"><img src=\"https://colab.research.google.com/assets/colab-badge.svg\" alt=\"Open In Colab\"/></a>"
      ]
    },
    {
      "cell_type": "markdown",
      "metadata": {
        "id": "QjDQnEbqE0Ut"
      },
      "source": [
        "# Dataset evaluation pipeline\n",
        "####*evaluation of synthetic audio files*"
      ]
    },
    {
      "cell_type": "markdown",
      "metadata": {
        "id": "lWhbyFo5DFuL"
      },
      "source": [
        "INPUTS:\n",
        "\n",
        "\n",
        "1.   *json_dataset_path* points towards a json file that must contains the set of textual sentences of the dataset in the format generated by the notebook \"Dataset Creation\", following this syntax:\n",
        "\n",
        "\n",
        "```\n",
        "[\n",
        "    [\n",
        "        \"librispeech-code-of-the-sentence\",\n",
        "        \"UPPERCASE SENTENCE\"\n",
        "    ],\n",
        "    [\n",
        "        \"librispeech-code-of-the-sentence\",\n",
        "        \"UPPERCASE SENTENCE\"\n",
        "    ],\n",
        "    ...\n",
        "]\n",
        "```\n",
        "\n",
        "2.   *audio_dataset_path* points to a zip file containing the synthesized audio sentences, each of them stored in the folder named after the TTS method used to generate it, following an architecture such as \"*zip_folder_name/method_name/librispeech_code.wav*\" (example: \"*audio_sentences/Gtts/3752-4944-0006.wav*\")\n",
        "\n",
        "both json_dataset and audio_dataset must contain the same sentences\n",
        "\n",
        "If you're not using the 4 methods for which this project is implemented, you'll need to addapt the Audio dataset import section, as well as all the execution part of the differents metrics... (Work in progress)\n",
        "\n"
      ]
    },
    {
      "cell_type": "code",
      "metadata": {
        "id": "mmrOPfYszsIl"
      },
      "source": [
        "json_dataset_path = \"/content/subset_345_sentences.json\"\n",
        "audio_dataset_path = \"audio_345_sentences/\""
      ],
      "execution_count": null,
      "outputs": []
    },
    {
      "cell_type": "markdown",
      "metadata": {
        "id": "8JqwZj9RFIuP"
      },
      "source": [
        "libraries imports:"
      ]
    },
    {
      "cell_type": "code",
      "metadata": {
        "id": "Rour3RxLzx6N"
      },
      "source": [
        "import numpy as np\n",
        "from pathlib import Path\n",
        "import random\n",
        "import shutil\n",
        "import IPython\n",
        "import os\n",
        "import IPython.display as ipd\n",
        "import matplotlib.pyplot as plt\n",
        "import json\n",
        "import seaborn as sns\n",
        "import pandas as pd\n",
        "import tqdm.notebook as tq\n",
        "from math import sqrt "
      ],
      "execution_count": null,
      "outputs": []
    },
    {
      "cell_type": "markdown",
      "metadata": {
        "id": "hcW28JWi0MBe"
      },
      "source": [
        "## Sentences dataset import"
      ]
    },
    {
      "cell_type": "code",
      "metadata": {
        "id": "Fbka9ZNaJe8N",
        "colab": {
          "base_uri": "https://localhost:8080/"
        },
        "outputId": "82495cdc-3fec-4b07-e039-93440361c091"
      },
      "source": [
        "with open(json_dataset_path, \"r\") as jsonfile:\n",
        "   dataset_json = json.load(jsonfile)\n",
        "dataset_json = np.asarray(dataset_json)\n",
        "\n",
        "print(\"\\nExample: 1st sentence of the dataset:\\n\", dataset_json[0])"
      ],
      "execution_count": null,
      "outputs": [
        {
          "output_type": "stream",
          "text": [
            "\n",
            "Example: 1st element of dataset_100:\n",
            " ['3752-4944-0006' 'HAVE YOU MANY VISITORS CAPTAIN BURGESS VERY FEW']\n"
          ],
          "name": "stdout"
        }
      ]
    },
    {
      "cell_type": "markdown",
      "metadata": {
        "id": "kociDJrz0xgS"
      },
      "source": [
        "## Audio Dataset import"
      ]
    },
    {
      "cell_type": "code",
      "metadata": {
        "id": "Y7K_MhmkEGIA"
      },
      "source": [
        "!unzip audio_sentences_345.zip"
      ],
      "execution_count": null,
      "outputs": []
    },
    {
      "cell_type": "code",
      "metadata": {
        "id": "xLndrkQ459Oi",
        "colab": {
          "base_uri": "https://localhost:8080/"
        },
        "outputId": "d9aec723-1069-4560-b7c3-ac0e2d3a8290"
      },
      "source": [
        "list_nvidia_audio_paths = [str(file) for file in Path().glob(audio_dataset_path+\"Nvidia/*.wav\")]\n",
        "list_gtts_audio_paths = [str(file) for file in Path().glob(audio_dataset_path+\"Gtts/*.wav\")]\n",
        "list_ibm_audio_paths = [str(file) for file in Path().glob(audio_dataset_path+\"IBM/*.wav\")]\n",
        "list_Microsoft_audio_paths = [str(file) for file in Path().glob(audio_dataset_path+\"Microsoft/*.wav\")]\n",
        "\n",
        "assert(len(dataset_json)==len(list_nvidia_audio_paths)==len(list_gtts_audio_paths)==len(list_ibm_audio_paths)==len(list_Microsoft_audio_paths))\n",
        "print(\"length of the dataset:\", len(dataset_json))"
      ],
      "execution_count": null,
      "outputs": [
        {
          "output_type": "stream",
          "text": [
            "length of the dataset: 345\n"
          ],
          "name": "stdout"
        }
      ]
    },
    {
      "cell_type": "code",
      "metadata": {
        "id": "hAuYFZiT5gyZ"
      },
      "source": [
        "# Post-processing the wavefiles because our speech recogniser doesn't like floats arrays for audio...\n",
        "from scipy.io import wavfile\n",
        "import itertools\n",
        "\n",
        "for path in itertools.chain(list_nvidia_audio_paths, list_gtts_audio_paths, list_ibm_audio_paths, list_Microsoft_audio_paths):\n",
        "  fs, data = wavfile.read(path)\n",
        "  # Convert `data` to 32 bit integers:\n",
        "  y = (np.iinfo(np.int32).max * (data/np.abs(data).max())).astype(np.int32)\n",
        "\n",
        "  wavfile.write(path, fs, y)"
      ],
      "execution_count": null,
      "outputs": []
    },
    {
      "cell_type": "markdown",
      "metadata": {
        "id": "doz8Ch-jGY_B"
      },
      "source": [
        "## STT Libraries"
      ]
    },
    {
      "cell_type": "code",
      "metadata": {
        "id": "iFeJBE8tCNVY",
        "colab": {
          "base_uri": "https://localhost:8080/"
        },
        "outputId": "ed3bb466-53d5-4fc1-ec6a-88e5a7d2e632"
      },
      "source": [
        "!sudo apt-get install -qq python python-dev python-pip build-essential swig libpulse-dev"
      ],
      "execution_count": null,
      "outputs": [
        {
          "output_type": "stream",
          "text": [
            "debconf: unable to initialize frontend: Dialog\n",
            "debconf: (No usable dialog-like program is installed, so the dialog based frontend cannot be used. at /usr/share/perl5/Debconf/FrontEnd/Dialog.pm line 76, <> line 26.)\n",
            "debconf: falling back to frontend: Readline\n",
            "debconf: unable to initialize frontend: Readline\n",
            "debconf: (This frontend requires a controlling tty.)\n",
            "debconf: falling back to frontend: Teletype\n",
            "dpkg-preconfigure: unable to re-open stdin: \n",
            "Selecting previously unselected package libpulse-mainloop-glib0:amd64.\n",
            "(Reading database ... 160772 files and directories currently installed.)\n",
            "Preparing to unpack .../00-libpulse-mainloop-glib0_1%3a11.1-1ubuntu7.11_amd64.deb ...\n",
            "Unpacking libpulse-mainloop-glib0:amd64 (1:11.1-1ubuntu7.11) ...\n",
            "Selecting previously unselected package libpulse-dev:amd64.\n",
            "Preparing to unpack .../01-libpulse-dev_1%3a11.1-1ubuntu7.11_amd64.deb ...\n",
            "Unpacking libpulse-dev:amd64 (1:11.1-1ubuntu7.11) ...\n",
            "Selecting previously unselected package libpython-all-dev:amd64.\n",
            "Preparing to unpack .../02-libpython-all-dev_2.7.15~rc1-1_amd64.deb ...\n",
            "Unpacking libpython-all-dev:amd64 (2.7.15~rc1-1) ...\n",
            "Selecting previously unselected package python-all.\n",
            "Preparing to unpack .../03-python-all_2.7.15~rc1-1_amd64.deb ...\n",
            "Unpacking python-all (2.7.15~rc1-1) ...\n",
            "Selecting previously unselected package python-all-dev.\n",
            "Preparing to unpack .../04-python-all-dev_2.7.15~rc1-1_amd64.deb ...\n",
            "Unpacking python-all-dev (2.7.15~rc1-1) ...\n",
            "Selecting previously unselected package python-asn1crypto.\n",
            "Preparing to unpack .../05-python-asn1crypto_0.24.0-1_all.deb ...\n",
            "Unpacking python-asn1crypto (0.24.0-1) ...\n",
            "Selecting previously unselected package python-cffi-backend.\n",
            "Preparing to unpack .../06-python-cffi-backend_1.11.5-1_amd64.deb ...\n",
            "Unpacking python-cffi-backend (1.11.5-1) ...\n",
            "Selecting previously unselected package python-crypto.\n",
            "Preparing to unpack .../07-python-crypto_2.6.1-8ubuntu2_amd64.deb ...\n",
            "Unpacking python-crypto (2.6.1-8ubuntu2) ...\n",
            "Selecting previously unselected package python-enum34.\n",
            "Preparing to unpack .../08-python-enum34_1.1.6-2_all.deb ...\n",
            "Unpacking python-enum34 (1.1.6-2) ...\n",
            "Selecting previously unselected package python-idna.\n",
            "Preparing to unpack .../09-python-idna_2.6-1_all.deb ...\n",
            "Unpacking python-idna (2.6-1) ...\n",
            "Selecting previously unselected package python-ipaddress.\n",
            "Preparing to unpack .../10-python-ipaddress_1.0.17-1_all.deb ...\n",
            "Unpacking python-ipaddress (1.0.17-1) ...\n",
            "Selecting previously unselected package python-six.\n",
            "Preparing to unpack .../11-python-six_1.11.0-2_all.deb ...\n",
            "Unpacking python-six (1.11.0-2) ...\n",
            "Selecting previously unselected package python-cryptography.\n",
            "Preparing to unpack .../12-python-cryptography_2.1.4-1ubuntu1.4_amd64.deb ...\n",
            "Unpacking python-cryptography (2.1.4-1ubuntu1.4) ...\n",
            "Selecting previously unselected package python-dbus.\n",
            "Preparing to unpack .../13-python-dbus_1.2.6-1_amd64.deb ...\n",
            "Unpacking python-dbus (1.2.6-1) ...\n",
            "Selecting previously unselected package python-gi.\n",
            "Preparing to unpack .../14-python-gi_3.26.1-2ubuntu1_amd64.deb ...\n",
            "Unpacking python-gi (3.26.1-2ubuntu1) ...\n",
            "Selecting previously unselected package python-secretstorage.\n",
            "Preparing to unpack .../15-python-secretstorage_2.3.1-2_all.deb ...\n",
            "Unpacking python-secretstorage (2.3.1-2) ...\n",
            "Selecting previously unselected package python-keyring.\n",
            "Preparing to unpack .../16-python-keyring_10.6.0-1_all.deb ...\n",
            "Unpacking python-keyring (10.6.0-1) ...\n",
            "Selecting previously unselected package python-keyrings.alt.\n",
            "Preparing to unpack .../17-python-keyrings.alt_3.0-1_all.deb ...\n",
            "Unpacking python-keyrings.alt (3.0-1) ...\n",
            "Selecting previously unselected package python-pip-whl.\n",
            "Preparing to unpack .../18-python-pip-whl_9.0.1-2.3~ubuntu1.18.04.5_all.deb ...\n",
            "Unpacking python-pip-whl (9.0.1-2.3~ubuntu1.18.04.5) ...\n",
            "Selecting previously unselected package python-pip.\n",
            "Preparing to unpack .../19-python-pip_9.0.1-2.3~ubuntu1.18.04.5_all.deb ...\n",
            "Unpacking python-pip (9.0.1-2.3~ubuntu1.18.04.5) ...\n",
            "Selecting previously unselected package python-pkg-resources.\n",
            "Preparing to unpack .../20-python-pkg-resources_39.0.1-2_all.deb ...\n",
            "Unpacking python-pkg-resources (39.0.1-2) ...\n",
            "Selecting previously unselected package python-setuptools.\n",
            "Preparing to unpack .../21-python-setuptools_39.0.1-2_all.deb ...\n",
            "Unpacking python-setuptools (39.0.1-2) ...\n",
            "Selecting previously unselected package python-wheel.\n",
            "Preparing to unpack .../22-python-wheel_0.30.0-0.2_all.deb ...\n",
            "Unpacking python-wheel (0.30.0-0.2) ...\n",
            "Selecting previously unselected package python-xdg.\n",
            "Preparing to unpack .../23-python-xdg_0.25-4ubuntu1.1_all.deb ...\n",
            "Unpacking python-xdg (0.25-4ubuntu1.1) ...\n",
            "Selecting previously unselected package swig3.0.\n",
            "Preparing to unpack .../24-swig3.0_3.0.12-1_amd64.deb ...\n",
            "Unpacking swig3.0 (3.0.12-1) ...\n",
            "Selecting previously unselected package swig.\n",
            "Preparing to unpack .../25-swig_3.0.12-1_amd64.deb ...\n",
            "Unpacking swig (3.0.12-1) ...\n",
            "Setting up python-idna (2.6-1) ...\n",
            "Setting up python-pip-whl (9.0.1-2.3~ubuntu1.18.04.5) ...\n",
            "Setting up python-asn1crypto (0.24.0-1) ...\n",
            "Setting up python-crypto (2.6.1-8ubuntu2) ...\n",
            "Setting up libpulse-mainloop-glib0:amd64 (1:11.1-1ubuntu7.11) ...\n",
            "Setting up libpulse-dev:amd64 (1:11.1-1ubuntu7.11) ...\n",
            "Setting up swig3.0 (3.0.12-1) ...\n",
            "Setting up python-wheel (0.30.0-0.2) ...\n",
            "Setting up libpython-all-dev:amd64 (2.7.15~rc1-1) ...\n",
            "Setting up python-pkg-resources (39.0.1-2) ...\n",
            "Setting up python-cffi-backend (1.11.5-1) ...\n",
            "Setting up python-gi (3.26.1-2ubuntu1) ...\n",
            "Setting up python-six (1.11.0-2) ...\n",
            "Setting up python-enum34 (1.1.6-2) ...\n",
            "Setting up python-dbus (1.2.6-1) ...\n",
            "Setting up python-ipaddress (1.0.17-1) ...\n",
            "Setting up python-pip (9.0.1-2.3~ubuntu1.18.04.5) ...\n",
            "Setting up python-all (2.7.15~rc1-1) ...\n",
            "Setting up python-xdg (0.25-4ubuntu1.1) ...\n",
            "Setting up python-setuptools (39.0.1-2) ...\n",
            "Setting up swig (3.0.12-1) ...\n",
            "Setting up python-keyrings.alt (3.0-1) ...\n",
            "Setting up python-all-dev (2.7.15~rc1-1) ...\n",
            "Setting up python-cryptography (2.1.4-1ubuntu1.4) ...\n",
            "Setting up python-secretstorage (2.3.1-2) ...\n",
            "Setting up python-keyring (10.6.0-1) ...\n",
            "Processing triggers for man-db (2.8.3-2ubuntu0.1) ...\n",
            "Processing triggers for libc-bin (2.27-3ubuntu1.2) ...\n",
            "/sbin/ldconfig.real: /usr/local/lib/python3.7/dist-packages/ideep4py/lib/libmkldnn.so.0 is not a symbolic link\n",
            "\n"
          ],
          "name": "stdout"
        }
      ]
    },
    {
      "cell_type": "code",
      "metadata": {
        "id": "c8jPEw_ECtB-",
        "colab": {
          "base_uri": "https://localhost:8080/"
        },
        "outputId": "42145e52-d703-4d9c-a8d8-b63d543af315"
      },
      "source": [
        "!pip install SpeechRecognition pydub\n",
        "# !pip install pocketsphinx\n",
        "!pip install jiwer"
      ],
      "execution_count": null,
      "outputs": [
        {
          "output_type": "stream",
          "text": [
            "Collecting SpeechRecognition\n",
            "\u001b[?25l  Downloading https://files.pythonhosted.org/packages/26/e1/7f5678cd94ec1234269d23756dbdaa4c8cfaed973412f88ae8adf7893a50/SpeechRecognition-3.8.1-py2.py3-none-any.whl (32.8MB)\n",
            "\u001b[K     |████████████████████████████████| 32.8MB 73kB/s \n",
            "\u001b[?25hCollecting pydub\n",
            "  Downloading https://files.pythonhosted.org/packages/a6/53/d78dc063216e62fc55f6b2eebb447f6a4b0a59f55c8406376f76bf959b08/pydub-0.25.1-py2.py3-none-any.whl\n",
            "Installing collected packages: SpeechRecognition, pydub\n",
            "Successfully installed SpeechRecognition-3.8.1 pydub-0.25.1\n",
            "Collecting jiwer\n",
            "  Downloading https://files.pythonhosted.org/packages/8c/cc/fb9d3132cba1f6d393b7d5a9398d9d4c8fc033bc54668cf87e9b197a6d7a/jiwer-2.2.0-py3-none-any.whl\n",
            "Collecting python-Levenshtein\n",
            "\u001b[?25l  Downloading https://files.pythonhosted.org/packages/2a/dc/97f2b63ef0fa1fd78dcb7195aca577804f6b2b51e712516cc0e902a9a201/python-Levenshtein-0.12.2.tar.gz (50kB)\n",
            "\u001b[K     |████████████████████████████████| 51kB 2.4MB/s \n",
            "\u001b[?25hRequirement already satisfied: numpy in /usr/local/lib/python3.7/dist-packages (from jiwer) (1.19.5)\n",
            "Requirement already satisfied: setuptools in /usr/local/lib/python3.7/dist-packages (from python-Levenshtein->jiwer) (57.0.0)\n",
            "Building wheels for collected packages: python-Levenshtein\n",
            "  Building wheel for python-Levenshtein (setup.py) ... \u001b[?25l\u001b[?25hdone\n",
            "  Created wheel for python-Levenshtein: filename=python_Levenshtein-0.12.2-cp37-cp37m-linux_x86_64.whl size=149797 sha256=da95913f19fcbfe70b2bc0fff3fefe8c0b8e6b312e59280907b8f4b17237ac19\n",
            "  Stored in directory: /root/.cache/pip/wheels/b3/26/73/4b48503bac73f01cf18e52cd250947049a7f339e940c5df8fc\n",
            "Successfully built python-Levenshtein\n",
            "Installing collected packages: python-Levenshtein, jiwer\n",
            "Successfully installed jiwer-2.2.0 python-Levenshtein-0.12.2\n"
          ],
          "name": "stdout"
        }
      ]
    },
    {
      "cell_type": "code",
      "metadata": {
        "id": "kVMvelkkFwwI"
      },
      "source": [
        "import speech_recognition as sr\n",
        "# import pocketsphinx\n",
        "import jiwer #library for wer\n",
        "import json"
      ],
      "execution_count": null,
      "outputs": []
    },
    {
      "cell_type": "markdown",
      "metadata": {
        "id": "HkDMEdq4s4Yy"
      },
      "source": [
        "## WER metric\n",
        "####*Word Error Rate computed between the original sentences and the ones re-transcribed to text from the synthesized files with use of the STT library imported above*"
      ]
    },
    {
      "cell_type": "code",
      "metadata": {
        "id": "e_pqb4ZQ7BXI"
      },
      "source": [
        "# nb: WER = Word Error Rate\n",
        "def dataset_WER(list_of_audio_path, original_sentences):\n",
        "  wer_list=[]\n",
        "  for i, audio_path in tq.tqdm(enumerate(list_of_audio_path), total=len(list_of_audio_path)):\n",
        "    sentence_id = (audio_path.split('/')[-1]).split(\".\")[0]\n",
        "    # Finding the original sentence\n",
        "    original_found = False\n",
        "    for j, sentence in enumerate(original_sentences):\n",
        "      if sentence_id == original_sentences[j,0]:\n",
        "        text_original = original_sentences[j,1]\n",
        "        original_found = True\n",
        "    if not original_found:\n",
        "      raise Exception(\"original sentence not found\")\n",
        "    \n",
        "    # Reading the audio file\n",
        "    recogniser = sr.Recognizer()\n",
        "    with sr.AudioFile(audio_path) as source:\n",
        "      # listen for the data (load audio to memory)\n",
        "      audio_data = recogniser.record(source)\n",
        "    \n",
        "    # STT or the audio file and WER\n",
        "    try:\n",
        "      # GOOGLE speech to text\n",
        "      text_google = recogniser.recognize_google(audio_data).upper()\n",
        "      # Compute Word Error Rate\n",
        "      wer_google = jiwer.wer(text_original, text_google)\n",
        "    except:\n",
        "      print(\"error with sentence: \",sentence_id,\"(actual sentence:\",text_original,\")\")\n",
        "      wer_google = 1\n",
        "    wer_list.append([wer_google, text_original, text_google])\n",
        "\n",
        "  return np.asarray(wer_list)"
      ],
      "execution_count": null,
      "outputs": []
    },
    {
      "cell_type": "code",
      "metadata": {
        "id": "N9IpMeknZR5C"
      },
      "source": [
        "def print_wer_stats(wer_list):\n",
        "  number_of_perfect_match = 0\n",
        "  wer_mean = 0\n",
        "  for wer in wer_list:\n",
        "    wer_mean += float(wer[0])\n",
        "    if float(wer[0])==0:\n",
        "      number_of_perfect_match += 1\n",
        "  print(\"number of perfect matches: {}/{}\".format(number_of_perfect_match, len(wer_list)))\n",
        "  print(\"wer mean:\",wer_mean/len(wer_list))"
      ],
      "execution_count": null,
      "outputs": []
    },
    {
      "cell_type": "code",
      "metadata": {
        "colab": {
          "base_uri": "https://localhost:8080/",
          "height": 213,
          "referenced_widgets": [
            "28c6cef32e72454cb5aa002a1549e121",
            "0b33756a6ba04d038384e55ca2dda6ad",
            "7ddd0fb13b75420f90cd1e68d813da04",
            "b288951ddf014ce496920d3aba39eb28",
            "14adb39aeed64496b7eb9d8181266acd",
            "dc9e4f28426640c9bb9df26a8fe542ff",
            "74c96f89ad3b4cbfa829e6a13a6a69de",
            "01d301bbf816486b89d649da6ee35c2e",
            "fbfee73a966e4778a3fec0f32658f9b0",
            "c735c45d4624436f857709660535c4b1",
            "59c9d5431d6144a696c0694a52e476b1",
            "c8ab9b5e45854647965b28e4e2b1ac96",
            "7732fbdabac24955ad6ccd43887ca01e",
            "dac6bdcad1974a548a3e651571b29f10",
            "37fc3f98153945e6833735bd701604f7",
            "3ff535fc3fb3474b8659794d0cb3b6c3",
            "b0eb5b0d319443799bd8f994d4d437eb",
            "20139e878b4b46d69fc53232ea340209",
            "96ba3c3bf60743109caac2db25b5079c",
            "4af3f9a74c024560ba1e03ec265081d2",
            "70dfbcddedbc4c3693a76bbe29be8884",
            "ed8dffda133240299ef4f8a882082cec",
            "3afc6ddf45784039b36de0d00dc540e7",
            "c8cbd989d34a4c8ab1d91901c6a27958",
            "003f856f023343ab97ea0afd49ef974b",
            "c3d8a69e3fcb4f29a9b57601b1488d7b",
            "be1d16f078b94455be2e337a3feaa321",
            "2fc4638e29664b1c941d7559618b528b",
            "9161596eba2f4c6ab57eed1b54ef1f74",
            "0e655f8919da4432854647d4a771708f",
            "680972fc97f34a8b9cc6c5d41d9f8212",
            "b4df9a6375ba401e812796fd522bf2d8"
          ]
        },
        "id": "cZcJ4G5kIX_f",
        "outputId": "094dee90-7295-4406-ea5d-84a5a8efb164"
      },
      "source": [
        "nvidia_WER = dataset_WER(list_nvidia_audio_paths, dataset_json)\n",
        "microsoft_WER = dataset_WER(list_Microsoft_audio_paths, dataset_json)\n",
        "gtts_WER = dataset_WER(list_gtts_audio_paths, dataset_json)\n",
        "ibm_WER = dataset_WER(list_ibm_audio_paths, dataset_json)"
      ],
      "execution_count": null,
      "outputs": [
        {
          "output_type": "display_data",
          "data": {
            "application/vnd.jupyter.widget-view+json": {
              "model_id": "28c6cef32e72454cb5aa002a1549e121",
              "version_minor": 0,
              "version_major": 2
            },
            "text/plain": [
              "HBox(children=(FloatProgress(value=0.0, max=345.0), HTML(value='')))"
            ]
          },
          "metadata": {
            "tags": []
          }
        },
        {
          "output_type": "stream",
          "text": [
            "\n"
          ],
          "name": "stdout"
        },
        {
          "output_type": "display_data",
          "data": {
            "application/vnd.jupyter.widget-view+json": {
              "model_id": "fbfee73a966e4778a3fec0f32658f9b0",
              "version_minor": 0,
              "version_major": 2
            },
            "text/plain": [
              "HBox(children=(FloatProgress(value=0.0, max=345.0), HTML(value='')))"
            ]
          },
          "metadata": {
            "tags": []
          }
        },
        {
          "output_type": "stream",
          "text": [
            "\n"
          ],
          "name": "stdout"
        },
        {
          "output_type": "display_data",
          "data": {
            "application/vnd.jupyter.widget-view+json": {
              "model_id": "b0eb5b0d319443799bd8f994d4d437eb",
              "version_minor": 0,
              "version_major": 2
            },
            "text/plain": [
              "HBox(children=(FloatProgress(value=0.0, max=345.0), HTML(value='')))"
            ]
          },
          "metadata": {
            "tags": []
          }
        },
        {
          "output_type": "stream",
          "text": [
            "\n"
          ],
          "name": "stdout"
        },
        {
          "output_type": "display_data",
          "data": {
            "application/vnd.jupyter.widget-view+json": {
              "model_id": "003f856f023343ab97ea0afd49ef974b",
              "version_minor": 0,
              "version_major": 2
            },
            "text/plain": [
              "HBox(children=(FloatProgress(value=0.0, max=345.0), HTML(value='')))"
            ]
          },
          "metadata": {
            "tags": []
          }
        },
        {
          "output_type": "stream",
          "text": [
            "\n"
          ],
          "name": "stdout"
        }
      ]
    },
    {
      "cell_type": "code",
      "metadata": {
        "colab": {
          "base_uri": "https://localhost:8080/"
        },
        "id": "YqmO2yRrdOFk",
        "outputId": "ae140f22-a10a-400e-ac29-fc6b77106952"
      },
      "source": [
        "print(\"GTTS:\")\n",
        "print_wer_stats(gtts_WER)\n",
        "print(\"\\n\\nNVIDIA\")\n",
        "print_wer_stats(nvidia_WER)\n",
        "print(\"\\n\\nMICROSOFT\")\n",
        "print_wer_stats(microsoft_WER)\n",
        "print(\"\\n\\nIBM\")\n",
        "print_wer_stats(ibm_WER)"
      ],
      "execution_count": null,
      "outputs": [
        {
          "output_type": "stream",
          "text": [
            "GTTS:\n",
            "number of perfect matches: 125/345\n",
            "wer mean: 0.1476592754722384\n",
            "\n",
            "\n",
            "NVIDIA\n",
            "number of perfect matches: 186/345\n",
            "wer mean: 0.07612237942531386\n",
            "\n",
            "\n",
            "MICROSOFT\n",
            "number of perfect matches: 252/345\n",
            "wer mean: 0.03986361546800366\n",
            "\n",
            "\n",
            "IBM\n",
            "number of perfect matches: 203/345\n",
            "wer mean: 0.07435763071077375\n"
          ],
          "name": "stdout"
        }
      ]
    },
    {
      "cell_type": "code",
      "metadata": {
        "colab": {
          "base_uri": "https://localhost:8080/"
        },
        "id": "HQ3ReIRO_FGv",
        "outputId": "e4eb2b5e-b87e-45e4-aa9f-b0e0b2455ffd"
      },
      "source": [
        "# Saving results: \n",
        "\n",
        "from google.colab import drive\n",
        "drive.mount('/content/gdrive')\n",
        "\n",
        "with open(\"/content/gdrive/My Drive/gtts_WER.json\", \"w\") as jsonfile:\n",
        "   json.dump(gtts_WER.tolist(), jsonfile, indent=4)\n",
        "with open(\"/content/gdrive/My Drive/nvidia_WER.json\", \"w\") as jsonfile:\n",
        "   json.dump(nvidia_WER.tolist(), jsonfile, indent=4)\n",
        "with open(\"/content/gdrive/My Drive/microsoft_WER.json\", \"w\") as jsonfile:\n",
        "   json.dump(microsoft_WER.tolist(), jsonfile, indent=4)\n",
        "with open(\"/content/gdrive/My Drive/ibm_WER.json\", \"w\") as jsonfile:\n",
        "   json.dump(ibm_WER.tolist(), jsonfile, indent=4)"
      ],
      "execution_count": null,
      "outputs": [
        {
          "output_type": "stream",
          "text": [
            "Mounted at /content/gdrive\n"
          ],
          "name": "stdout"
        }
      ]
    },
    {
      "cell_type": "markdown",
      "metadata": {
        "id": "Ri_Zewj8D0vd"
      },
      "source": [
        "## Speech metrics\n",
        "####*MOSnet and SRMR*"
      ]
    },
    {
      "cell_type": "markdown",
      "metadata": {
        "id": "4w3MpTBHGd25"
      },
      "source": [
        "This part works with the audio files from the dataset and a library called speechmetrics"
      ]
    },
    {
      "cell_type": "code",
      "metadata": {
        "id": "KM_G0ZHID2F3"
      },
      "source": [
        "!pip install git+https://github.com/aliutkus/speechmetrics#egg=speechmetrics[cpu]"
      ],
      "execution_count": null,
      "outputs": []
    },
    {
      "cell_type": "code",
      "metadata": {
        "id": "-cdAoqd9EqCJ",
        "colab": {
          "base_uri": "https://localhost:8080/",
          "height": 245,
          "referenced_widgets": [
            "c054049f355446bb942629ebba8473ce",
            "e378a5d6f5b244119038ac3317bb2c7e",
            "fcd6b547edea4bc18df77d92692169f5",
            "32290b8e15bf4c5d9fca53c1faf399cd",
            "d167a33669344feba84506676607de4c",
            "f4178b0300464412b1ab89e7544b2f61",
            "54271414187a40bea94ea2414cb58202",
            "dc57e1aa157448b8aede75b8a5256b8f",
            "88f0d6fa681f4ac08bfe424852125bb6",
            "db9794c51b3a4843be513630c2887785",
            "33df27a88caf4955b99ba4e4ab532f15",
            "6d073584f8e84eb89970bd3e25d99c51",
            "af4bc2888b7348cfa7454726d7c49695",
            "d6a9241e5ec740d78f2b4388c66f1703",
            "2a58c4d3c93448539f1b32d4dd85a6b0",
            "02fc7f17081f487e9dc1d6c9826240b5",
            "e0883ffab0a745098a814d4252cb8d95",
            "1eae6fcf20354ee7a678ffae0e9ca718",
            "a7648d7310344f98b768247990f6b668",
            "ed1e230fc7f745d1ab531d9e80844af9",
            "25fec7adbd524c1aad418a82c4394bc1",
            "4d9a1e0165644f5fa13a049ff99c6e2c",
            "2760b0936b214db2afc6dd074e99aa58",
            "83ea083d92724a078894ebf342de3325",
            "f8d72af73c0f489a96e45ba301cd22cb",
            "69a98bbdbc3247e6a162cb77db5754cc",
            "9ebd89faaf974eb4a0434f86daffbb34",
            "2c1afa8987de45db8f63bc9eb4b17604",
            "220419c2915844e3aede44cc6e0f37a9",
            "515c828e53434dc686bfa42a24cfa72a",
            "54e4b85ca11548e880a3d5fe2543f5c0",
            "aeeb66a3554946238bbc139441a80061"
          ]
        },
        "outputId": "56772dfe-84eb-41dd-adbe-09e1cdfbdffd"
      },
      "source": [
        "import speechmetrics\n",
        "window_length = 5 # seconds\n",
        "metrics = speechmetrics.load('absolute', window_length)\n",
        "\n",
        "absolute_metric_nvidia = []\n",
        "for _, audio_path in tq.tqdm(enumerate(list_nvidia_audio_paths), total=len(list_nvidia_audio_paths)):\n",
        "  sentence_id = (audio_path.split('/')[-1]).split(\".\")[0]\n",
        "  scores = metrics(audio_path)\n",
        "  absolute_metric_nvidia.append([sentence_id, scores])\n",
        "\n",
        "absolute_metric_gtts = []\n",
        "for _, audio_path in tq.tqdm(enumerate(list_gtts_audio_paths), total=len(list_gtts_audio_paths)):\n",
        "  sentence_id = (audio_path.split('/')[-1]).split(\".\")[0]\n",
        "  scores = metrics(audio_path)\n",
        "  absolute_metric_gtts.append([sentence_id, scores])\n",
        "\n",
        "absolute_metric_ibm = []\n",
        "for _, audio_path in tq.tqdm(enumerate(list_ibm_audio_paths), total=len(list_ibm_audio_paths)):\n",
        "  sentence_id = (audio_path.split('/')[-1]).split(\".\")[0]\n",
        "  scores = metrics(audio_path)\n",
        "  absolute_metric_ibm.append([sentence_id, scores])\n",
        "\n",
        "absolute_metric_microsoft = []\n",
        "for _, audio_path in tq.tqdm(enumerate(list_Microsoft_audio_paths), total=len(list_Microsoft_audio_paths)):\n",
        "  sentence_id = (audio_path.split('/')[-1]).split(\".\")[0]\n",
        "  scores = metrics(audio_path)\n",
        "  absolute_metric_microsoft.append([sentence_id, scores])\n"
      ],
      "execution_count": null,
      "outputs": [
        {
          "output_type": "stream",
          "text": [
            "Loaded  speechmetrics.absolute.mosnet\n",
            "Loaded  speechmetrics.absolute.srmr\n"
          ],
          "name": "stdout"
        },
        {
          "output_type": "display_data",
          "data": {
            "application/vnd.jupyter.widget-view+json": {
              "model_id": "c054049f355446bb942629ebba8473ce",
              "version_minor": 0,
              "version_major": 2
            },
            "text/plain": [
              "HBox(children=(FloatProgress(value=0.0, max=345.0), HTML(value='')))"
            ]
          },
          "metadata": {
            "tags": []
          }
        },
        {
          "output_type": "stream",
          "text": [
            "\n"
          ],
          "name": "stdout"
        },
        {
          "output_type": "display_data",
          "data": {
            "application/vnd.jupyter.widget-view+json": {
              "model_id": "88f0d6fa681f4ac08bfe424852125bb6",
              "version_minor": 0,
              "version_major": 2
            },
            "text/plain": [
              "HBox(children=(FloatProgress(value=0.0, max=345.0), HTML(value='')))"
            ]
          },
          "metadata": {
            "tags": []
          }
        },
        {
          "output_type": "stream",
          "text": [
            "\n"
          ],
          "name": "stdout"
        },
        {
          "output_type": "display_data",
          "data": {
            "application/vnd.jupyter.widget-view+json": {
              "model_id": "e0883ffab0a745098a814d4252cb8d95",
              "version_minor": 0,
              "version_major": 2
            },
            "text/plain": [
              "HBox(children=(FloatProgress(value=0.0, max=345.0), HTML(value='')))"
            ]
          },
          "metadata": {
            "tags": []
          }
        },
        {
          "output_type": "stream",
          "text": [
            "\n"
          ],
          "name": "stdout"
        },
        {
          "output_type": "display_data",
          "data": {
            "application/vnd.jupyter.widget-view+json": {
              "model_id": "f8d72af73c0f489a96e45ba301cd22cb",
              "version_minor": 0,
              "version_major": 2
            },
            "text/plain": [
              "HBox(children=(FloatProgress(value=0.0, max=345.0), HTML(value='')))"
            ]
          },
          "metadata": {
            "tags": []
          }
        },
        {
          "output_type": "stream",
          "text": [
            "\n"
          ],
          "name": "stdout"
        }
      ]
    },
    {
      "cell_type": "code",
      "metadata": {
        "id": "ABkPSjqSGmKY"
      },
      "source": [
        "def compute_means_absolute_metrics(metrics_array):\n",
        "  mean_mosnet = 0\n",
        "  mean_srmr = 0\n",
        "  std_mosnet = 0\n",
        "  std_srmr = 0\n",
        "  for element in metrics_array:\n",
        "    try:\n",
        "      mean_mosnet += element[1]['mosnet']\n",
        "      mean_srmr += element[1]['srmr']\n",
        "      std_mosnet = element[1]['mosnet']**2\n",
        "      std_srmr = element[1]['srmr']**2\n",
        "    except:\n",
        "      mean_mosnet += element[1]['mosnet'][0]\n",
        "      mean_srmr += element[1]['srmr'][0]\n",
        "      std_mosnet = element[1]['mosnet'][0]**2\n",
        "      std_srmr = element[1]['srmr'][0]**2\n",
        "      print(\"WARNING: element\", element[0], \"has more than one value for mosnet/srmr metrics\")\n",
        "  mean_mosnet /= len(metrics_array)\n",
        "  mean_srmr /= len(metrics_array)\n",
        "  std_mosnet = sqrt(std_mosnet)\n",
        "  std_srmr = sqrt(std_srmr)\n",
        "  std_mosnet /= len(metrics_array)\n",
        "  std_srmr /= len(metrics_array)\n",
        "  return mean_mosnet, mean_srmr, std_mosnet, std_srmr"
      ],
      "execution_count": null,
      "outputs": []
    },
    {
      "cell_type": "code",
      "metadata": {
        "id": "KenUMbOUHU-a",
        "colab": {
          "base_uri": "https://localhost:8080/"
        },
        "outputId": "cefdd535-a925-432a-aa46-3e3ad039ca04"
      },
      "source": [
        "nvidia_mean_mosnet, nvidia_mean_srmr, nvidia_std_mosnet, nvidia_std_srmr = compute_means_absolute_metrics(absolute_metric_nvidia)\n",
        "print(\"NVIDIA's results:     MOSNET: mean:{:.3f}, std:{:.3f};   SRMR: mean:{:.3f}, std:{:.3f}\\n\"\n",
        "      .format(nvidia_mean_mosnet[0], nvidia_std_mosnet, nvidia_mean_srmr[0], nvidia_std_srmr))\n",
        "\n",
        "microsoft_mean_mosnet, microsoft_mean_srmr, microsoft_std_mosnet, microsoft_std_srmr = compute_means_absolute_metrics(absolute_metric_microsoft)\n",
        "print(\"Microsoft's results:  MOSNET: mean:{:.3f}, std:{:.3f};   SRMR: mean:{:.3f}, std:{:.3f}\\n\"\n",
        "      .format(microsoft_mean_mosnet[0], microsoft_std_mosnet, microsoft_mean_srmr[0], microsoft_std_srmr))\n",
        "\n",
        "ibm_mean_mosnet, ibm_mean_srmr, ibm_std_mosnet, ibm_std_srmr = compute_means_absolute_metrics(absolute_metric_ibm)\n",
        "print(\"IBM's results:        MOSNET: mean:{:.3f}, std:{:.3f};   SRMR: mean:{:.3f}, std:{:.3f}\\n\"\n",
        "      .format(ibm_mean_mosnet[0], ibm_std_mosnet, ibm_mean_srmr[0], ibm_std_srmr))\n",
        "\n",
        "gtts_mean_mosnet, gtts_mean_srmr, gtts_std_mosnet, gtts_std_srmr = compute_means_absolute_metrics(absolute_metric_gtts)\n",
        "print(\"GTTS's results:       MOSNET: mean:{:.3f}, std:{:.3f};   SRMR: mean:{:.3f}, std:{:.3f}\\n\"\n",
        "      .format(gtts_mean_mosnet[0], gtts_std_mosnet, gtts_mean_srmr[0], gtts_std_srmr))\n"
      ],
      "execution_count": null,
      "outputs": [
        {
          "output_type": "stream",
          "text": [
            "NVIDIA's results:     MOSNET: mean:2.953, std:0.010;   SRMR: mean:12.631, std:0.033\n",
            "\n",
            "Microsoft's results:  MOSNET: mean:3.584, std:0.011;   SRMR: mean:17.954, std:0.048\n",
            "\n",
            "IBM's results:        MOSNET: mean:3.066, std:0.009;   SRMR: mean:15.282, std:0.047\n",
            "\n",
            "warning: element 1995-1826-0012 has more than one value for mosnet/srmr metrics\n",
            "warning: element 7850-73752-0002 has more than one value for mosnet/srmr metrics\n",
            "GTTS's results:       MOSNET: mean:3.316, std:0.010;   SRMR: mean:17.614, std:0.055\n",
            "\n"
          ],
          "name": "stdout"
        }
      ]
    },
    {
      "cell_type": "code",
      "metadata": {
        "id": "6_I3Drd6IksY"
      },
      "source": [
        "# Saving results: \n",
        "\n",
        "dict_metrics = {}\n",
        "\n",
        "dict_metrics['Nvidia'] = {}\n",
        "dict_metrics['Nvidia']['mosnet'] = (nvidia_mean_mosnet[0], nvidia_std_mosnet)\n",
        "dict_metrics['Nvidia']['srmr'] = (nvidia_mean_srmr[0], nvidia_std_srmr)\n",
        "\n",
        "dict_metrics['Microsoft'] = {}\n",
        "dict_metrics['Microsoft']['mosnet'] = (microsoft_mean_mosnet[0], microsoft_std_mosnet)\n",
        "dict_metrics['Microsoft']['srmr'] = (microsoft_mean_srmr[0], microsoft_std_srmr) \n",
        "\n",
        "dict_metrics['IBM'] = {}\n",
        "dict_metrics['IBM']['mosnet'] = (ibm_mean_mosnet[0], ibm_std_mosnet) \n",
        "dict_metrics['IBM']['srmr'] = (ibm_mean_srmr[0], ibm_std_srmr)\n",
        "\n",
        "dict_metrics['GTTS'] = {}\n",
        "dict_metrics['GTTS']['mosnet'] = (gtts_mean_mosnet[0], gtts_std_mosnet)\n",
        "dict_metrics['GTTS']['srmr'] = (gtts_mean_srmr[0], gtts_std_srmr)\n",
        "\n",
        "with open(\"/content/gdrive/My Drive/speech_metrics.json\", \"w\") as jsonfile:\n",
        "   json.dump(dict_metrics, jsonfile, indent=4)"
      ],
      "execution_count": null,
      "outputs": []
    },
    {
      "cell_type": "code",
      "metadata": {
        "colab": {
          "base_uri": "https://localhost:8080/"
        },
        "id": "37CWTMAZPHGK",
        "outputId": "140bf641-1f5b-48ac-cbea-252e58176230"
      },
      "source": [
        "dict_metrics"
      ],
      "execution_count": null,
      "outputs": [
        {
          "output_type": "execute_result",
          "data": {
            "text/plain": [
              "{'GTTS': {'mosnet': (3.3163689454396565, 0.009590331367824388),\n",
              "  'srmr': (17.614202309183714, 0.05545478752013146)},\n",
              " 'IBM': {'mosnet': (3.0663279201673426, 0.009153914797133294),\n",
              "  'srmr': (15.281818267647097, 0.04744691309046634)},\n",
              " 'Microsoft': {'mosnet': (3.5838141600290934, 0.010935134473054305),\n",
              "  'srmr': (17.954187083149606, 0.048455915709591055)},\n",
              " 'Nvidia': {'mosnet': (2.9527598215186077, 0.009569909607154736),\n",
              "  'srmr': (12.63087701390201, 0.033376486039185846)}}"
            ]
          },
          "metadata": {
            "tags": []
          },
          "execution_count": 26
        }
      ]
    },
    {
      "cell_type": "markdown",
      "metadata": {
        "id": "nsGxpt8T506P"
      },
      "source": [
        "## Plots"
      ]
    },
    {
      "cell_type": "markdown",
      "metadata": {
        "id": "vKY6HKBcGsXk"
      },
      "source": [
        "This part works with the WER json files saved for each method in the above WER section *(WER takes long to generate, it is therefore good to be able to execute this part without needing to execute the WER part before)*"
      ]
    },
    {
      "cell_type": "code",
      "metadata": {
        "colab": {
          "base_uri": "https://localhost:8080/",
          "height": 570
        },
        "id": "NiVNKQO--9FY",
        "outputId": "9c9061a7-0bd0-4031-fd2b-22523f7b6c3b"
      },
      "source": [
        "with open(\"/content/gtts_WER.json\", \"r\") as jsonfile:\n",
        "   gtts_WER = json.load(jsonfile)\n",
        "\n",
        "gtts_WER = np.asarray(gtts_WER)\n",
        "gtts_WER = gtts_WER[:,0]\n",
        "gtts_WER = list(map(float, gtts_WER))\n",
        "\n",
        "#print(\"Dataset_100: \", dataset_100)\n",
        "print(\"\\ngtts WER:\\n\", gtts_WER)\n",
        "\n",
        "plt.figure(figsize=(12,8))\n",
        "min = np.min(gtts_WER)\n",
        "max = np.max(gtts_WER)\n",
        "bins2=np.arange(min, max, 0.02)\n",
        "b=plt.hist(gtts_WER, range=(min,max))  # arguments are passed to np.histogram\n",
        "plt.title(\"Histogram of new lengths\")\n",
        "plt.show()"
      ],
      "execution_count": null,
      "outputs": [
        {
          "output_type": "stream",
          "text": [
            "\n",
            "gtts WER:\n",
            " [0.25, 0.14285714285714285, 0.0, 0.058823529411764705, 0.1111111111111111, 0.25, 0.1875, 0.0, 0.2857142857142857, 0.0, 0.0, 0.3333333333333333, 0.09090909090909091, 0.18181818181818182, 0.14285714285714285, 0.375, 0.5, 0.06666666666666667, 0.0, 0.0, 0.4444444444444444, 0.23529411764705882, 0.0, 0.11764705882352941, 0.2, 0.0, 0.8571428571428571, 0.058823529411764705, 0.42857142857142855, 0.0, 0.2857142857142857, 0.9, 0.46153846153846156, 0.09090909090909091, 0.7, 0.25, 0.0, 0.0, 0.6363636363636364, 0.125, 0.25, 0.3333333333333333, 0.0, 0.25, 0.8, 0.0, 0.25, 0.0, 0.0, 0.0, 0.375, 0.0, 0.2222222222222222, 0.2857142857142857, 0.0, 0.4166666666666667, 0.11764705882352941, 0.5, 0.16666666666666666, 0.375, 0.42857142857142855, 0.0, 0.0, 0.06666666666666667, 0.0, 0.16666666666666666, 0.2631578947368421, 0.1111111111111111, 0.25, 0.0, 0.2857142857142857, 0.2, 0.15384615384615385, 0.0, 0.0625, 0.0, 0.2857142857142857, 0.0, 0.0, 0.0, 0.2, 0.09090909090909091, 0.0, 0.4, 0.0, 0.0, 0.16666666666666666, 0.11764705882352941, 0.1111111111111111, 0.25, 0.0, 0.2, 0.0, 0.1111111111111111, 0.0, 0.2, 0.2, 0.08333333333333333, 0.14285714285714285, 0.14285714285714285, 0.15384615384615385, 0.05, 0.23529411764705882, 0.07142857142857142, 0.08333333333333333, 0.375, 0.2222222222222222, 0.0, 0.09090909090909091, 0.1, 0.2857142857142857, 0.0, 0.0, 0.2, 0.16666666666666666, 0.08333333333333333, 0.14285714285714285, 0.08333333333333333, 0.0, 0.45454545454545453, 0.15, 0.125, 0.3333333333333333, 0.25, 0.0, 0.2222222222222222, 0.125, 0.0, 0.3, 0.09090909090909091, 0.2, 0.2, 0.14285714285714285, 0.0, 0.14285714285714285, 0.0, 0.2222222222222222, 0.42857142857142855, 0.0, 0.26666666666666666, 0.07142857142857142, 0.0, 0.11764705882352941, 0.0, 0.05555555555555555, 0.375, 0.2222222222222222, 0.6, 0.0, 0.6666666666666666, 0.16666666666666666, 0.0, 0.0, 0.2, 0.0, 0.21428571428571427, 0.11764705882352941, 0.0, 0.1111111111111111, 0.1, 0.0, 0.0, 0.2, 0.16666666666666666, 0.36363636363636365, 0.0, 0.07692307692307693, 0.14285714285714285, 0.2727272727272727, 0.14285714285714285, 0.0, 0.0, 0.0, 0.0, 0.0, 0.3333333333333333, 0.0, 0.14285714285714285, 0.5555555555555556, 0.25, 0.0, 0.0, 0.0, 0.36363636363636365, 0.23076923076923078, 0.0, 0.4117647058823529, 0.0, 0.09090909090909091, 0.1111111111111111, 0.09090909090909091, 0.5, 0.125, 0.0, 0.4, 0.18181818181818182, 0.0, 0.1111111111111111, 0.35, 0.0, 0.09090909090909091, 0.09090909090909091, 0.2727272727272727, 0.0, 0.0, 0.09090909090909091, 0.1, 0.2222222222222222, 0.058823529411764705, 0.0, 0.16666666666666666, 0.14285714285714285, 0.0, 0.375, 0.0, 0.05263157894736842, 0.0, 0.0, 0.0, 0.11764705882352941, 0.3125, 0.2857142857142857, 0.36363636363636365, 0.5, 0.4444444444444444, 0.08333333333333333, 0.13333333333333333, 0.0, 0.375, 0.0, 0.23809523809523808, 0.0, 0.1111111111111111, 0.2, 0.125, 0.0, 0.0, 0.0, 0.3333333333333333, 0.5, 0.0, 0.5714285714285714, 0.1111111111111111, 0.0, 0.2777777777777778, 0.25, 0.0, 0.0, 0.0, 0.0, 0.42857142857142855, 0.0625, 0.0, 0.1875, 0.0, 0.0, 0.16666666666666666, 0.0, 0.0, 0.05, 0.2222222222222222, 0.07692307692307693, 0.0, 0.125, 0.11764705882352941, 0.11764705882352941, 0.0, 0.17647058823529413, 0.2631578947368421, 0.07142857142857142, 0.21052631578947367, 0.13333333333333333, 0.08333333333333333, 0.29411764705882354, 0.23529411764705882, 0.125, 0.0, 0.0, 0.2857142857142857, 0.0, 0.0, 0.1, 0.18181818181818182, 0.07692307692307693, 0.14285714285714285, 0.3333333333333333, 0.2, 0.15384615384615385, 0.125, 0.1, 0.2857142857142857, 0.09090909090909091, 0.0, 0.1, 0.16666666666666666, 0.0, 0.0, 0.0, 0.0, 0.1111111111111111, 0.0, 0.5454545454545454, 0.23076923076923078, 0.18181818181818182, 0.07692307692307693, 0.0, 0.0, 0.0, 0.0, 0.0, 0.08333333333333333, 0.125, 0.75, 0.0, 0.17647058823529413, 0.0, 0.0, 0.25, 0.0, 0.7777777777777778, 0.0, 0.25, 0.0, 0.0, 0.0, 0.14285714285714285, 0.42857142857142855, 0.0, 0.0, 0.0, 0.0, 0.0, 0.18181818181818182, 0.14285714285714285, 0.3333333333333333, 0.0, 0.07142857142857142, 0.625, 0.05555555555555555, 0.0, 0.0, 0.2, 0.3333333333333333, 0.1, 0.0]\n"
          ],
          "name": "stdout"
        },
        {
          "output_type": "display_data",
          "data": {
            "image/png": "[encoded data removed]",
            "text/plain": [
              "<Figure size 864x576 with 1 Axes>"
            ]
          },
          "metadata": {
            "tags": [],
            "needs_background": "light"
          }
        }
      ]
    },
    {
      "cell_type": "code",
      "metadata": {
        "id": "ydu3fhF2USxU"
      },
      "source": [
        "kws={\n",
        "    'xlim': (0,1),\n",
        "}"
      ],
      "execution_count": null,
      "outputs": []
    },
    {
      "cell_type": "code",
      "metadata": {
        "colab": {
          "base_uri": "https://localhost:8080/",
          "height": 420
        },
        "id": "_GkPJdZKc92-",
        "outputId": "ec55e041-e7cb-4035-eb41-5fee93e54920"
      },
      "source": [
        "with open(\"/content/gtts_WER.json\", \"r\") as jsonfile:\n",
        "   gtts_WER = json.load(jsonfile)\n",
        "\n",
        "gtts_WER = np.asarray(gtts_WER)\n",
        "gtts_WER = list(map(float, gtts_WER[:,0]))\n",
        "\n",
        "print(\"\\ngtts WER:\\n\")\n",
        "\n",
        "a=sns.displot(gtts_WER, kind=\"kde\", bw_adjust=.25, cut=0, facet_kws=kws);"
      ],
      "execution_count": null,
      "outputs": [
        {
          "output_type": "stream",
          "text": [
            "\n",
            "gtts WER:\n",
            "\n"
          ],
          "name": "stdout"
        },
        {
          "output_type": "display_data",
          "data": {
            "image/png": "[encoded data removed]",
            "text/plain": [
              "<Figure size 360x360 with 1 Axes>"
            ]
          },
          "metadata": {
            "tags": [],
            "needs_background": "light"
          }
        }
      ]
    },
    {
      "cell_type": "code",
      "metadata": {
        "colab": {
          "base_uri": "https://localhost:8080/",
          "height": 420
        },
        "id": "9NuWXyYTmKnf",
        "outputId": "6f35c146-e237-4dcd-f29f-4d64635d37d1"
      },
      "source": [
        "with open(\"/content/ibm_WER.json\", \"r\") as jsonfile:\n",
        "   ibm_WER = json.load(jsonfile)\n",
        "\n",
        "ibm_WER = np.asarray(ibm_WER)\n",
        "ibm_WER = list(map(float,ibm_WER[:,0]))\n",
        "\n",
        "print(\"\\nibm WER:\\n\")\n",
        "\n",
        "sns.displot(ibm_WER, kind=\"kde\", bw_adjust=.25, cut=0, facet_kws=kws, color='red');"
      ],
      "execution_count": null,
      "outputs": [
        {
          "output_type": "stream",
          "text": [
            "\n",
            "ibm WER:\n",
            "\n"
          ],
          "name": "stdout"
        },
        {
          "output_type": "display_data",
          "data": {
            "image/png": "[encoded data removed]",
            "text/plain": [
              "<Figure size 360x360 with 1 Axes>"
            ]
          },
          "metadata": {
            "tags": [],
            "needs_background": "light"
          }
        }
      ]
    },
    {
      "cell_type": "code",
      "metadata": {
        "colab": {
          "base_uri": "https://localhost:8080/",
          "height": 420
        },
        "id": "IGlEhQtamclq",
        "outputId": "6fde4ec1-8170-4be9-91eb-3d72a6119ac8"
      },
      "source": [
        "with open(\"/content/microsoft_WER.json\", \"r\") as jsonfile:\n",
        "   microsoft_WER = json.load(jsonfile)\n",
        "\n",
        "microsoft_WER = np.asarray(microsoft_WER)\n",
        "microsoft_WER = list(map(float,microsoft_WER[:,0]))\n",
        "\n",
        "print(\"\\nmicrosoft WER:\\n\")\n",
        "\n",
        "sns.displot(microsoft_WER, kind=\"kde\", bw_adjust=.25, cut=0, facet_kws=kws, color='green');"
      ],
      "execution_count": null,
      "outputs": [
        {
          "output_type": "stream",
          "text": [
            "\n",
            "microsoft WER:\n",
            "\n"
          ],
          "name": "stdout"
        },
        {
          "output_type": "display_data",
          "data": {
            "image/png": "[encoded data removed]",
            "text/plain": [
              "<Figure size 360x360 with 1 Axes>"
            ]
          },
          "metadata": {
            "tags": [],
            "needs_background": "light"
          }
        }
      ]
    },
    {
      "cell_type": "code",
      "metadata": {
        "colab": {
          "base_uri": "https://localhost:8080/",
          "height": 420
        },
        "id": "yrVRVO8VmxRx",
        "outputId": "75ff2f5c-d507-478c-b0ed-2b9168949950"
      },
      "source": [
        "with open(\"/content/nvidia_WER.json\", \"r\") as jsonfile:\n",
        "   nvidia_WER = json.load(jsonfile)\n",
        "\n",
        "nvidia_WER = np.asarray(nvidia_WER)\n",
        "nvidia_WER = list(map(float,nvidia_WER[:,0]))\n",
        "\n",
        "print(\"\\nNvidia WER:\\n\")\n",
        "\n",
        "sns.displot(nvidia_WER, kind=\"kde\", bw_adjust=.25, cut=0, facet_kws=kws, color='orange');"
      ],
      "execution_count": null,
      "outputs": [
        {
          "output_type": "stream",
          "text": [
            "\n",
            "Nvidia WER:\n",
            "\n"
          ],
          "name": "stdout"
        },
        {
          "output_type": "display_data",
          "data": {
            "image/png": "[encoded data removed]",
            "text/plain": [
              "<Figure size 360x360 with 1 Axes>"
            ]
          },
          "metadata": {
            "tags": [],
            "needs_background": "light"
          }
        }
      ]
    },
    {
      "cell_type": "markdown",
      "metadata": {
        "id": "xW0P6NDpCn6E"
      },
      "source": [
        "### boxplot"
      ]
    },
    {
      "cell_type": "code",
      "metadata": {
        "id": "uOJCGIan_zw5",
        "colab": {
          "base_uri": "https://localhost:8080/",
          "height": 606
        },
        "outputId": "3e9eeb41-03f5-4848-e782-6596c09e0b5a"
      },
      "source": [
        "discard_zeros_wer = False\n",
        "\n",
        "d = {'TTS method': [], 'WER': []}\n",
        "for w in gtts_WER:\n",
        "  if not(float(w) == 0 and discard_zeros_wer):\n",
        "    d['TTS method'].append('gTTS')\n",
        "    d['WER'].append(float(w))\n",
        "for w in nvidia_WER:\n",
        "  if not(float(w) == 0 and discard_zeros_wer):\n",
        "    d['TTS method'].append('Nvidia')\n",
        "    d['WER'].append(float(w))\n",
        "for w in microsoft_WER:\n",
        "  if not(float(w) == 0 and discard_zeros_wer):\n",
        "    d['TTS method'].append('Microsoft')\n",
        "    d['WER'].append(float(w))\n",
        "for w in ibm_WER:\n",
        "  if not(float(w) == 0 and discard_zeros_wer):\n",
        "    d['TTS method'].append('IBM')\n",
        "    d['WER'].append(float(w))\n",
        "\n",
        "# print(\"min wer value:\", min(d['wer']))\n",
        "\n",
        "df = pd.DataFrame(d)\n",
        "\n",
        "fig, ax = plt.subplots(figsize=(18,10))\n",
        "sns.boxplot(ax=ax,\n",
        "                data=df,\n",
        "                x='TTS method',\n",
        "                y='WER')\n",
        "ax.set_yticks(np.arange(0, 1, 0.05), minor=True)\n",
        "plt.grid(axis='y', which='minor', linestyle='dotted')\n",
        "plt.grid(axis='y', linestyle='-')\n",
        "plt.show()"
      ],
      "execution_count": null,
      "outputs": [
        {
          "output_type": "display_data",
          "data": {
            "image/png": "[encoded data removed]",
            "text/plain": [
              "<Figure size 1296x720 with 1 Axes>"
            ]
          },
          "metadata": {
            "tags": [],
            "needs_background": "light"
          }
        }
      ]
    },
    {
      "cell_type": "code",
      "metadata": {
        "colab": {
          "base_uri": "https://localhost:8080/",
          "height": 610
        },
        "id": "MlGuSTQqD8h2",
        "outputId": "c6159bd8-d119-4821-d0b0-8c3ed11bc80e"
      },
      "source": [
        "fig, ax = plt.subplots(figsize=(18,10))\n",
        "sns.violinplot(ax=ax,\n",
        "                data=df,\n",
        "                x='TTS method',\n",
        "                y='WER')\n",
        "ax.set_yticks(np.arange(0, 1, 0.05), minor=True)\n",
        "ax.set_ylim([0, 1]) \n",
        "plt.grid(axis='y', which='minor', linestyle='dotted')\n",
        "plt.grid(axis='y', linestyle='-')\n",
        "plt.show()"
      ],
      "execution_count": null,
      "outputs": [
        {
          "output_type": "display_data",
          "data": {
            "image/png": "[encoded data removed]",
            "text/plain": [
              "<Figure size 1296x720 with 1 Axes>"
            ]
          },
          "metadata": {
            "tags": [],
            "needs_background": "light"
          }
        }
      ]
    }
  ]
}